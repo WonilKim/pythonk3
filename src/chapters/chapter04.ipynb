{
 "cells": [
  {
   "cell_type": "code",
   "execution_count": 1,
   "metadata": {},
   "outputs": [
    {
     "name": "stdout",
     "output_type": "stream",
     "text": [
      "8\n"
     ]
    }
   ],
   "source": [
    "# 함수 정의\n",
    "def add_numbers(a, b):\n",
    "    result = a + b\n",
    "    return result\n",
    "\n",
    "# 함수 호출\n",
    "result = add_numbers(3, 5)\n",
    "print(result)   # 출력 결과: 8\n"
   ]
  },
  {
   "cell_type": "code",
   "execution_count": 2,
   "metadata": {},
   "outputs": [
    {
     "name": "stdout",
     "output_type": "stream",
     "text": [
      "Wecome to Python\n"
     ]
    }
   ],
   "source": [
    "def prtStr(string) :   \t   #string을 매개변수라 함\n",
    "    print(\"%s\" %string)\n",
    "    return              #반환 값이 없이 함수가 종료\n",
    "\n",
    "string = \"Wecome to Python\"\n",
    "prtStr(string)             #매개변수를 전달하여 함수 호출\n"
   ]
  },
  {
   "cell_type": "code",
   "execution_count": 3,
   "metadata": {},
   "outputs": [
    {
     "name": "stdout",
     "output_type": "stream",
     "text": [
      "한변의 길이가 5인 정사각형의 넓이는 25\n",
      "한변의 길이가 7인 정사각형의 넓이는 49\n"
     ]
    }
   ],
   "source": [
    "def squareArea(s) :\n",
    "    area = s * s\n",
    "    return area           #area 값이 반환되고 종료\n",
    "\n",
    "a = squareArea(5)    #5를 인자(argument)라 함. 반환 값이 a에 저장\n",
    "b = squareArea(7)\n",
    "print(\"한변의 길이가 %d인 정사각형의 넓이는 %d\" %(5, a))\n",
    "print(\"한변의 길이가 %d인 정사각형의 넓이는 %d\" %(7, b))\n"
   ]
  },
  {
   "cell_type": "code",
   "execution_count": 4,
   "metadata": {},
   "outputs": [],
   "source": [
    "## 연습문제\n",
    "# 1~n까지의 합을 계산하는 함수\n",
    "\n",
    "\n",
    "# 반지름을 전달하면 원의 면적을 반환하는 cir_area(r) 함수와 \u000b원의 둘레를 반환하는 cir_cirm(r) 함수를 작성하라. 이들 함수를 \u000b이용하여 반지름이 3.5cm인 원의 면적과 둘레를 소수점 아래 \u000b첫 자리까지 구하라.\n",
    "\n",
    "\n",
    "# den(n) 함수를 이용하여 약수를 구하여 반환하는 프로그램을 작성\n",
    "# 12  [1, 2, 3, 4, 6, 12]\n",
    "\n",
    "\n"
   ]
  },
  {
   "cell_type": "code",
   "execution_count": 5,
   "metadata": {},
   "outputs": [
    {
     "name": "stdout",
     "output_type": "stream",
     "text": [
      "Name: Alice\n",
      "Age: 25\n",
      "Gender: Female\n",
      "Name: Bob\n",
      "Age: 30\n",
      "Gender: Male\n"
     ]
    }
   ],
   "source": [
    "# 위치 인자와 키워드 인자 사용 예시\n",
    "def print_info(name, age, gender):\n",
    "    print(f\"Name: {name}\")\n",
    "    print(f\"Age: {age}\")\n",
    "    print(f\"Gender: {gender}\")\n",
    "\n",
    "# 위치 인자를 사용하여 함수 호출\n",
    "print_info(\"Alice\", 25, \"Female\")\n",
    "\n",
    "# 키워드 인자를 사용하여 함수 호출\n",
    "print_info(age=30, name=\"Bob\", gender=\"Male\")\n"
   ]
  },
  {
   "cell_type": "code",
   "execution_count": 6,
   "metadata": {},
   "outputs": [
    {
     "ename": "TypeError",
     "evalue": "'str' object is not callable",
     "output_type": "error",
     "traceback": [
      "\u001b[1;31m---------------------------------------------------------------------------\u001b[0m",
      "\u001b[1;31mTypeError\u001b[0m                                 Traceback (most recent call last)",
      "Cell \u001b[1;32mIn[6], line 6\u001b[0m\n\u001b[0;32m      3\u001b[0m     \u001b[39mprint\u001b[39m(sep\u001b[39m.\u001b[39mjoin(\u001b[39mmap\u001b[39m(string, args)))\n\u001b[0;32m      5\u001b[0m \u001b[39m# 가변 인자를 사용하여 함수 호출\u001b[39;00m\n\u001b[1;32m----> 6\u001b[0m print_numbers(\u001b[39m1\u001b[39;49m, \u001b[39m2\u001b[39;49m, \u001b[39m3\u001b[39;49m)               \u001b[39m# 출력 결과: 1, 2, 3\u001b[39;00m\n\u001b[0;32m      7\u001b[0m print_numbers(\u001b[39m1\u001b[39m, \u001b[39m2\u001b[39m, \u001b[39m3\u001b[39m, sep\u001b[39m=\u001b[39m\u001b[39m\"\u001b[39m\u001b[39m-\u001b[39m\u001b[39m\"\u001b[39m)      \u001b[39m# 출력 결과: 1-2-3\u001b[39;00m\n\u001b[0;32m      9\u001b[0m \u001b[39m# 기본값 인자를 사용하여 함수 호출\u001b[39;00m\n",
      "Cell \u001b[1;32mIn[6], line 3\u001b[0m, in \u001b[0;36mprint_numbers\u001b[1;34m(sep, *args)\u001b[0m\n\u001b[0;32m      2\u001b[0m \u001b[39mdef\u001b[39;00m \u001b[39mprint_numbers\u001b[39m(\u001b[39m*\u001b[39margs, sep\u001b[39m=\u001b[39m\u001b[39m\"\u001b[39m\u001b[39m, \u001b[39m\u001b[39m\"\u001b[39m):\n\u001b[1;32m----> 3\u001b[0m     \u001b[39mprint\u001b[39m(sep\u001b[39m.\u001b[39;49mjoin(\u001b[39mmap\u001b[39;49m(string, args)))\n",
      "\u001b[1;31mTypeError\u001b[0m: 'str' object is not callable"
     ]
    }
   ],
   "source": [
    "# 가변 인자와 기본값 인자 사용 예시\n",
    "def print_numbers(*args, sep=\", \"):\n",
    "    print(sep.join(map(string, args)))\n",
    "\n",
    "# 가변 인자를 사용하여 함수 호출\n",
    "print_numbers(1, 2, 3)               # 출력 결과: 1, 2, 3\n",
    "print_numbers(1, 2, 3, sep=\"-\")      # 출력 결과: 1-2-3\n",
    "\n",
    "# 기본값 인자를 사용하여 함수 호출\n",
    "def say_hello(name, greeting=\"Hello\"):\n",
    "    print(f\"{greeting}, {name}!\")\n",
    "\n",
    "say_hello(\"Alice\")                  # 출력 결과: Hello, Alice!\n",
    "say_hello(\"Bob\", \"Hi\")              # 출력 결과: Hi, Bob!\n"
   ]
  },
  {
   "cell_type": "code",
   "execution_count": 7,
   "metadata": {},
   "outputs": [
    {
     "name": "stdout",
     "output_type": "stream",
     "text": [
      "a: 1\n",
      "b: 2\n",
      "c: 30\n",
      "d: 40\n",
      "args: (3, 4, 5)\n"
     ]
    }
   ],
   "source": [
    "# 인자의 순서와 조합 사용 예시\n",
    "def print_numbers(a, b, *args, c=10, d=20):\n",
    "    print(f\"a: {a}\")\n",
    "    print(f\"b: {b}\")\n",
    "    print(f\"c: {c}\")\n",
    "    print(f\"d: {d}\")\n",
    "    print(f\"args: {args}\")\n",
    "\n",
    "# 함수 호출\n",
    "print_numbers(1, 2, 3, 4, 5, c=30, d=40)\n",
    "# 출력 결과: a: 1, b: 2, c: 30, d: 40, args: (3, 4, 5)\n"
   ]
  },
  {
   "cell_type": "code",
   "execution_count": 8,
   "metadata": {},
   "outputs": [
    {
     "name": "stdout",
     "output_type": "stream",
     "text": [
      "y: 2\n",
      "x: 1\n",
      "x: 1\n"
     ]
    }
   ],
   "source": [
    "x = 1  # 전역 변수\n",
    "\n",
    "def my_function():\n",
    "    y = 2  # 지역 변수\n",
    "    print('y:', y)\n",
    "    print('x:', x)\n",
    "\n",
    "my_function()\n",
    "print('x:', x)\n"
   ]
  },
  {
   "cell_type": "code",
   "execution_count": 9,
   "metadata": {},
   "outputs": [
    {
     "name": "stdout",
     "output_type": "stream",
     "text": [
      "local\n"
     ]
    }
   ],
   "source": [
    "x = 'global'\n",
    "\n",
    "def my_function():\n",
    "    global x\n",
    "    x = 'local'\n",
    "\n",
    "my_function()\n",
    "print(x)\n"
   ]
  },
  {
   "cell_type": "code",
   "execution_count": 10,
   "metadata": {},
   "outputs": [],
   "source": [
    "# pass 키워드\n",
    "# 함수 몸체의 작성을 잠시 보류할 때 사용\n",
    "# 문법적 오류를 피하고 아무 것도 실행하지 않을 때 사용\n",
    "\n",
    "def func(arg):\n",
    "    pass\n"
   ]
  },
  {
   "cell_type": "code",
   "execution_count": 11,
   "metadata": {},
   "outputs": [],
   "source": [
    "# 기존 함수 정의 방법\n",
    "def add(a, b):\n",
    "    return a + b\n",
    "\n",
    "# 람다 함수 정의 방법\n",
    "lambda_add = lambda a, b: a + b\n",
    "\n",
    "# 함수 호출\n",
    "result1 = add(3, 4)             # 7\n",
    "result2 = lambda_add(3, 4)      # 7\n"
   ]
  },
  {
   "cell_type": "code",
   "execution_count": 12,
   "metadata": {},
   "outputs": [
    {
     "name": "stdout",
     "output_type": "stream",
     "text": [
      "[{'name': 'Bob', 'score': 90}, {'name': 'Alice', 'score': 80}, {'name': 'Charlie', 'score': 70}]\n"
     ]
    }
   ],
   "source": [
    "# 함수의 인자로 전달된 예시\n",
    "\n",
    "students = [\n",
    "    {'name': 'Alice', 'score': 80},\n",
    "    {'name': 'Bob', 'score': 90},\n",
    "    {'name': 'Charlie', 'score': 70},\n",
    "]\n",
    "\n",
    "# 점수(score)를 기준으로 학생 리스트 정렬\n",
    "sorted_students = sorted(students, key=lambda student: student['score'], reverse=True)\n",
    "print(sorted_students)\n",
    "# 출력 결과: [{'name': 'Bob', 'score': 90}, {'name': 'Alice', 'score': 80}, {'name': 'Charlie', 'score': 70}]\n"
   ]
  },
  {
   "cell_type": "code",
   "execution_count": 13,
   "metadata": {},
   "outputs": [],
   "source": [
    "# 함수의 반환값으로 사용 예시\n",
    "\n",
    "def get_operator(operator):\n",
    "    if operator == '+':\n",
    "        return lambda a, b: a + b\n",
    "    elif operator == '-':\n",
    "        return lambda a, b: a - b\n",
    "    elif operator == '*':\n",
    "        return lambda a, b: a * b\n",
    "    elif operator == '/':\n",
    "        return lambda a, b: a / b\n",
    "\n",
    "# 함수의 반환값으로 람다 함수 사용\n",
    "add_func = get_operator('+')\n",
    "result1 = add_func(3, 4)  # 7\n",
    "\n",
    "multiply_func = get_operator('*')\n",
    "result2 = multiply_func(3, 4)  # 12\n"
   ]
  },
  {
   "cell_type": "code",
   "execution_count": 14,
   "metadata": {},
   "outputs": [
    {
     "name": "stdout",
     "output_type": "stream",
     "text": [
      "120\n"
     ]
    }
   ],
   "source": [
    "# 재귀함수\n",
    "\n",
    "def factorial(n):\n",
    "    if n == 1:\n",
    "        return 1\n",
    "    else:\n",
    "        return n * factorial(n-1)\n",
    "\n",
    "result = factorial(5)\n",
    "print(result)  # 출력결과: 120\n"
   ]
  },
  {
   "cell_type": "code",
   "execution_count": 17,
   "metadata": {},
   "outputs": [
    {
     "name": "stdout",
     "output_type": "stream",
     "text": [
      "****\n",
      "****\n",
      "14\n"
     ]
    }
   ],
   "source": [
    "# 연습문제\n",
    "# 1. 두 개의 매개변수 n, m을 전달받아 m x n개의 * 상자를 출력하는 프로그램을 함수로 작성\n",
    "#     예: 2, 4 \n",
    "#     ****\n",
    "#     ****\n",
    "def print_box(row, col):\n",
    "    for r in range(row):\n",
    "        for c in range(col):\n",
    "            print(\"*\", end=\"\")\n",
    "        print(\"\")\n",
    "\n",
    "print_box(2, 4)\n",
    "\n",
    "# 2. 하나의 숫자를 전달받아 숫자의 자리 합을 구하는 함수를 작성\n",
    "#     예: 123 \n",
    "#     1+2+3 = 6\n",
    "\n",
    "def sum_numbers(num):\n",
    "    ss = str(num)\n",
    "    rst = 0\n",
    "    for s in range(len(ss)):\n",
    "        rst += int(ss[s])\n",
    "\n",
    "    return rst\n",
    "\n",
    "print(sum_numbers(248))\n",
    "\n",
    "# 3. 두 개의 문자열이 서로 다른 처음 위치를 반환하는 함수를 작성. 두 개의 문자열이 같으면 -1을 반환\n",
    "\n",
    "# 4. 문자열과 하나의 문자를 전달받아 문자열에서 문자의 위치를 모두 찾아 리스트로 반환하는 함수를 작성\n",
    "\n",
    "# 5. 재귀 함수를 이용하여 1부터 100까지의 합을 계산하는 프로그램\n",
    "\n"
   ]
  },
  {
   "cell_type": "code",
   "execution_count": 18,
   "metadata": {},
   "outputs": [
    {
     "name": "stdout",
     "output_type": "stream",
     "text": [
      "30\n"
     ]
    }
   ],
   "source": [
    "# 내부 함수(inner function)는 함수 안에서 또 다른 함수를 정의하는 것을 말합니다\n",
    "# 내부 함수는 외부 함수의 매개변수와 지역변수에 접근할 수 있다.\n",
    "\n",
    "\n",
    "def outer_func(x):\n",
    "    def inner_func(y):\n",
    "        return x + y\n",
    "    return inner_func\n",
    "\n",
    "result = outer_func(10)\n",
    "print(result(20))  # 출력결과: 30\n",
    "\n"
   ]
  },
  {
   "cell_type": "code",
   "execution_count": 19,
   "metadata": {},
   "outputs": [
    {
     "name": "stdout",
     "output_type": "stream",
     "text": [
      "30\n",
      "-10\n",
      "200\n",
      "0.5\n"
     ]
    }
   ],
   "source": [
    "# 내부 함수를 이용하여 간단한 계산기 함수를 구현한 예제\n",
    "\n",
    "def calculator():\n",
    "    def add(a, b):\n",
    "        return a + b\n",
    "\n",
    "    def subtract(a, b):\n",
    "        return a - b\n",
    "\n",
    "    def multiply(a, b):\n",
    "        return a * b\n",
    "\n",
    "    def divide(a, b):\n",
    "        return a / b\n",
    "\n",
    "    return add, subtract, multiply, divide\n",
    "\n",
    "add, subtract, multiply, divide = calculator()\n",
    "\n",
    "print(add(10, 20))  # 출력결과: 30\n",
    "print(subtract(10, 20))  # 출력결과: -10\n",
    "print(multiply(10, 20))  # 출력결과: 200\n",
    "print(divide(10, 20))  # 출력결과: 0.5\n"
   ]
  },
  {
   "cell_type": "code",
   "execution_count": 20,
   "metadata": {},
   "outputs": [
    {
     "name": "stdout",
     "output_type": "stream",
     "text": [
      "9\n",
      "27\n"
     ]
    }
   ],
   "source": [
    "# 코드의 재사용성을 높일 수 있다\n",
    "\n",
    "def power(n):\n",
    "    def inner(x):\n",
    "        return x ** n\n",
    "    return inner\n",
    "\n",
    "square = power(2)  # 제곱 함수를 구현\n",
    "cube = power(3)  # 세제곱 함수를 구현\n",
    "\n",
    "print(square(3))  # 출력결과: 9\n",
    "print(cube(3))  # 출력결과: 27\n"
   ]
  },
  {
   "attachments": {},
   "cell_type": "markdown",
   "metadata": {},
   "source": [
    "### 파이썬의 함수\n",
    "일급 객체(first-class object)로서의 함수\n",
    "파이썬에서 함수는 일급 객체로 취급됩니다. 즉, 함수는 변수에 할당될 수 있고, 함수의 인자로 전달될 수 있으며, 함수의 반환값으로 사용될 수 있습니다.\n",
    "\n",
    "가변 인자 처리\n",
    "파이썬에서는 가변 인자(*args, **kwargs)를 쉽게 처리할 수 있습니다. 이를 통해 함수가 받는 인자의 개수를 동적으로 조절할 수 있습니다.\n",
    "\n",
    "람다 함수\n",
    "파이썬에서는 람다(lambda) 함수를 지원합니다. 람다 함수는 함수를 간단하게 작성할 수 있어 코드의 가독성과 유연성을 높일 수 있습니다.\n",
    "\n",
    "디폴트 인자 값\n",
    "파이썬에서는 함수의 인자에 디폴트 값을 지정할 수 있습니다. 이를 통해 함수를 호출할 때 인자를 생략하면 디폴트 값이 사용되도록 할 수 있습니다.\n",
    "\n",
    "반환값 없음(None)\n",
    "파이썬에서는 함수가 반환값을 명시하지 않으면 자동으로 None 값을 반환합니다.\n",
    "\n"
   ]
  },
  {
   "cell_type": "code",
   "execution_count": 21,
   "metadata": {},
   "outputs": [],
   "source": [
    "# 일급 객체(first-class object)로서의 함수\n",
    "# 파이썬에서 함수는 일급 객체로 취급됩니다. 즉, 함수는 변수에 할당될 수 있고, 함수의 인자로 전달될 수 있으며, 함수의 반환값으로 사용될 수 있습니다.\n",
    "\n",
    "# 파이썬에서 일급 객체로서의 함수를 다루는 예시\n",
    "# 변수에 함수 할당하기\n",
    "\n",
    "def add(a, b):\n",
    "    return a + b\n",
    "\n",
    "# 함수를 변수에 할당\n",
    "func = add\n",
    "\n",
    "# 변수에 할당된 함수 사용\n",
    "result = func(3, 4)  # 7\n"
   ]
  },
  {
   "cell_type": "code",
   "execution_count": 22,
   "metadata": {},
   "outputs": [],
   "source": [
    "# 파이썬에서 일급 객체로서의 함수를 다루는 예시\n",
    "# 함수의 인자로 함수 전달하기\n",
    "\n",
    "def calculate(func, a, b):\n",
    "    return func(a, b)\n",
    "\n",
    "def add(a, b):\n",
    "    return a + b\n",
    "\n",
    "def multiply(a, b):\n",
    "    return a * b\n",
    "\n",
    "# 함수를 다른 함수의 인자로 전달\n",
    "result1 = calculate(add, 3, 4)       # 7\n",
    "result2 = calculate(multiply, 3, 4)  # 12\n"
   ]
  },
  {
   "cell_type": "code",
   "execution_count": null,
   "metadata": {},
   "outputs": [],
   "source": [
    "# 파이썬에서 일급 객체로서의 함수를 다루는 예시\n",
    "# 함수의 반환값으로 함수 사용하기\n",
    "\n",
    "def get_operator(operator):\n",
    "    def add(a, b):\n",
    "        return a + b\n",
    "    \n",
    "    def subtract(a, b):\n",
    "        return a - b\n",
    "    \n",
    "    def multiply(a, b):\n",
    "        return a * b\n",
    "    \n",
    "    def divide(a, b):\n",
    "        return a / b\n",
    "    \n",
    "    if operator == '+':\n",
    "        return add\n",
    "    elif operator == '-':\n",
    "        return subtract\n",
    "    elif operator == '*':\n",
    "        return multiply\n",
    "    elif operator == '/':\n",
    "        return divide\n",
    "\n",
    "# 함수의 반환값으로 함수 사용\n",
    "add_func = get_operator('+')\n",
    "result = add_func(3, 4)  # 7\n"
   ]
  },
  {
   "cell_type": "code",
   "execution_count": 23,
   "metadata": {},
   "outputs": [],
   "source": [
    "# 가변 인자\n",
    "# 파이썬에서는 가변 인자(*args, **kwargs)를 쉽게 처리할 수 있습니다. 이를 통해 함수가 받는 인자의 개수를 동적으로 조절할 수 있습니다.\n",
    "\n",
    "# *args를 이용한 가변 인자 처리\n",
    "# *args는 위치 인자(positional argument)를 가변적으로 처리하기 위한 구문입니다.\n",
    "# *args는 함수의 인자 리스트에서 가변 인자를 나타내며, 함수 내부에서는 튜플(tuple) 형태로 처리됩니다.\n",
    "\n",
    "def sum_numbers(*args):\n",
    "    result = 0\n",
    "    for arg in args:\n",
    "        result += arg\n",
    "    return result\n",
    "\n",
    "# 가변 인자를 사용하여 함수 호출\n",
    "result1 = sum_numbers(1, 2, 3, 4, 5)   # 15\n",
    "result2 = sum_numbers(1, 2, 3)         # 6\n",
    "result3 = sum_numbers(1, 2)            # 3\n"
   ]
  },
  {
   "cell_type": "code",
   "execution_count": 24,
   "metadata": {},
   "outputs": [
    {
     "name": "stdout",
     "output_type": "stream",
     "text": [
      "name: Alice\n",
      "age: 25\n",
      "country: USA\n"
     ]
    }
   ],
   "source": [
    "# **kwargs를 이용한 가변 인자 처리\n",
    "# **kwargs는 키워드 인자(keyword argument)를 가변적으로 처리하기 위한 구문입니다.\n",
    "# **kwargs는 함수의 인자 리스트에서 가변 키워드 인자를 나타내며, 함수 내부에서는 딕셔너리(dictionary) 형태로 처리됩니다.\n",
    "\n",
    "def print_info(**kwargs):\n",
    "    for key, value in kwargs.items():\n",
    "        print(f\"{key}: {value}\")\n",
    "\n",
    "# 가변 키워드 인자를 사용하여 함수 호출\n",
    "print_info(name='Alice', age=25, country='USA')\n",
    "# 출력 결과: \n",
    "# name: Alice\n",
    "# age: 25\n",
    "# country: USA\n",
    "\n",
    "\n",
    "# 함수 내부에서는 전달된 인자들이 딕셔너리 형태로 처리되며, for 문을 통해 각각의 인자들을 처리\n"
   ]
  },
  {
   "cell_type": "code",
   "execution_count": 25,
   "metadata": {},
   "outputs": [
    {
     "name": "stdout",
     "output_type": "stream",
     "text": [
      "Hello, Alice!\n",
      "None\n"
     ]
    }
   ],
   "source": [
    "# 반환값 없음(None)\n",
    "# 파이썬에서는 함수가 반환값을 명시하지 않으면 자동으로 None 값을 반환합니다.\n",
    "# None은 파이썬에서 \"값이 없음\"을 나타내는 내장 객체입니다.\n",
    "\n",
    "def print_greeting(name):\n",
    "    print(f\"Hello, {name}!\")\n",
    "\n",
    "# 함수 호출\n",
    "result = print_greeting(\"Alice\")   # 출력 결과: Hello, Alice!\n",
    "print(result)                      # 출력 결과: None, 리턴값 없음\n",
    "\n",
    "# 반환값이 없는 함수는 함수 내부에서 어떠한 값을 반환할 필요가 없는 경우 사용됩니다. \n",
    "# 예를 들어, 파일에 데이터를 쓰는 함수는 반환값이 필요하지 않을 수 있습니다. \n"
   ]
  },
  {
   "cell_type": "code",
   "execution_count": null,
   "metadata": {},
   "outputs": [],
   "source": [
    "# LEGB\n",
    "# Local -> Enclosing -> Global -> Built-in\n",
    "\n",
    "# L (Local) : 함수 내부의 지역 변수입니다.\n",
    "# E (Enclosing) : 함수를 포함하는 다른 함수(중첩 함수) 내부의 변수입니다.\n",
    "# G (Global) : 전역 변수입니다.\n",
    "# B (Built-in) : 내장 함수나 모듈 등 파이썬이 기본적으로 제공하는 것들입니다.\n",
    "\n",
    "# 함수 내부에서 변수를 참조할 때, 먼저 로컬 변수를 찾고, 없으면 상위 함수에서 변수를 찾습니다. \n",
    "# 상위 함수에서도 찾지 못하면 전역 변수를 찾고, 마지막으로 내장 함수나 모듈에서 변수를 찾습니다.\n"
   ]
  },
  {
   "cell_type": "code",
   "execution_count": 26,
   "metadata": {},
   "outputs": [
    {
     "name": "stdout",
     "output_type": "stream",
     "text": [
      "x in inner: inner\n",
      "x in outer: outer\n",
      "x in global: global\n"
     ]
    }
   ],
   "source": [
    "# 함수 내 변수 참조 순서\n",
    "x = 'global'\n",
    "\n",
    "def outer():\n",
    "    x = 'outer'\n",
    "    \n",
    "    def inner():\n",
    "        x = 'inner'\n",
    "        print('x in inner:', x)\n",
    "    \n",
    "    inner()\n",
    "    print('x in outer:', x)\n",
    "\n",
    "outer()\n",
    "print('x in global:', x)\n"
   ]
  },
  {
   "cell_type": "code",
   "execution_count": null,
   "metadata": {},
   "outputs": [],
   "source": [
    "# ### 내장 함수\n",
    "\n",
    "# 내장 함수(built-in function)는 파이썬에서 기본적으로 제공하는 함수들을 말합니다. 이 함수들은 별도로 import할 필요 없이 어디서든 사용할 수 있습니다.\n",
    "\n",
    "# abs(): 인자의 절댓값을 반환합니다.\n",
    "# all(): 인자로 받은 모든 요소가 참인 경우 True를 반환합니다.\n",
    "# any(): 인자로 받은 요소 중 하나라도 참인 경우 True를 반환합니다.\n",
    "# bin(): 정수를 2진수로 변환한 문자열을 반환합니다.\n",
    "# oct(): 정수를 8진수로 변환한 문자열을 반환합니다.\n",
    "# hex(): 정수를 16진수로 변환한 문자열을 반환합니다.\n",
    "# chr(): 유니코드 코드포인트를 해당하는 문자로 변환한 문자열을 반환합니다.\n",
    "# dir(): 객체가 가지고 있는 메서드와 속성 등의 리스트를 반환합니다.\n",
    "# enumerate(): 시퀀스 자료형을 인자로 받아, 인덱스와 값을 튜플 형태로 반환하는 이터레이터를 반환합니다.\n",
    "# eval(): 문자열로 표현된 파이썬 코드를 실행하고 결과를 반환합니다.\n",
    "# int(): 문자열 등을 정수로 변환한 값을 반환합니다.\n",
    "# filter(): 인자로 받은 함수가 참인 요소만 추출하여 새로운 리스트를 반환합니다.\n",
    "# map(): 인자로 받은 함수를 시퀀스 자료형의 모든 요소에 적용하여 새로운 리스트를 반환합니다.\n",
    "# ord(): 유니코드 문자를 해당하는 코드포인트로 변환한 정수 값을 반환합니다.\n",
    "# repr(): 객체를 문자열로 나타내어 반환합니다. 이때 반환된 문자열은 해당 객체를 다시 생성할 수 있는 코드 형태입니다.\n",
    "# round(): 실수를 반올림한 값을 반환합니다.\n",
    "# zip(): 두 개 이상의 시퀀스 자료형을 병렬로 처리하여, 각 시퀀스의 같은 위치에 있는 요소들을 튜플로 묶은 이터레이터를 반환합니다.\n",
    "\n",
    "\n"
   ]
  },
  {
   "cell_type": "code",
   "execution_count": null,
   "metadata": {},
   "outputs": [],
   "source": [
    "# bin, oct, hex <-> int\n",
    "# bin(x), oct(x), hex(x)\n",
    "# 10진 정수 x에 대한 2진수, 8진수, 16진수 문자열 반환\n",
    "# int(str, base=10)\n",
    "# 문자열 str을 10진수로 변환\n",
    "\n",
    "bin(12)   #'0b1100'\n",
    "int('123') #123\n",
    "int('1010', 2) #10\n",
    "\n",
    "\n",
    "# enumerate\n",
    "# enumerate(iterable,start=0)\n",
    "# 주로 순서가 있는 자료형(리스트, 튜플 등)의 각 요소에 대해 인덱스와 값을 동시에 반환하는데 사용됩니다.\n",
    "\n",
    "colors = ['red', 'green', 'blue']\n",
    "for index, color in enumerate(colors):\n",
    "    print(index, color)\n"
   ]
  },
  {
   "cell_type": "code",
   "execution_count": 27,
   "metadata": {},
   "outputs": [
    {
     "name": "stdout",
     "output_type": "stream",
     "text": [
      "14\n",
      "[2, 4, 6, 8, 10]\n"
     ]
    }
   ],
   "source": [
    "# eval\n",
    "# eval(expr,[globals[,locals]])\n",
    "# 문자열로 표시된 파이썬 코드를 실행하고 결과를 반환\n",
    "\n",
    "result = eval('2 + 3 * 4')\n",
    "print(result)  # 출력 결과: 14\n",
    "\n",
    "\n",
    "# filter\n",
    "# filter(func,seq)\n",
    "# 시퀀스의 각 요소에 대해 함수를 적용하여 결과가 True인 것만 모아서 리스트로 반환하는 함수\n",
    "\n",
    "# 리스트에서 짝수만 추출하는 예시\n",
    "\n",
    "numbers = [1, 2, 3, 4, 5, 6, 7, 8, 9, 10]\n",
    "even_numbers = list(filter(lambda x: x % 2 == 0, numbers))\n",
    "print(even_numbers)  # 출력 결과: [2, 4, 6, 8, 10]\n"
   ]
  },
  {
   "cell_type": "code",
   "execution_count": 29,
   "metadata": {},
   "outputs": [
    {
     "name": "stdout",
     "output_type": "stream",
     "text": [
      "[1, 4, 9, 16, 25]\n",
      "[1, 2, 3]\n"
     ]
    }
   ],
   "source": [
    "# map\n",
    "# map(함수, 시퀀스)\n",
    "# 시퀀스의 각 원소에 대해 지정된 함수를 적용하여, 새로운 리스트를 반환\n",
    "\n",
    "numbers = [1, 2, 3, 4, 5]\n",
    "squares = list(map(lambda x: x**2, numbers))\n",
    "print(squares)  # 출력결과: [1, 4, 9, 16, 25]\n",
    "\n",
    "\n",
    "# ord\n",
    "# ord(ch)\n",
    "# ch에 대한 ASCII 코드 반환\n",
    "# ord('A') -> 65\n",
    "\n",
    "# repr\n",
    "# repr(obj)\n",
    "# obj를 문자열로 변환\n",
    "# repr(b'0011') -> \"b'0011'\"\n",
    "\n",
    "my_list = [1, 2, 3]\n",
    "list_str = repr(my_list)\n",
    "print(list_str)  # 출력 결과: '[1, 2, 3]'\n",
    "\n"
   ]
  },
  {
   "cell_type": "code",
   "execution_count": 30,
   "metadata": {},
   "outputs": [
    {
     "name": "stdout",
     "output_type": "stream",
     "text": [
      "3\n",
      "2.718\n"
     ]
    }
   ],
   "source": [
    "# round\n",
    "# round(x, n=0)\n",
    "# 실수 x를 소수점 아래 n자리로 반올림하여 반환\n",
    "\n",
    "num1 = 3.141592653589793238\n",
    "num2 = 2.71828182845904523536\n",
    "\n",
    "result1 = round(num1)    # 반올림하여 정수로 변환\n",
    "result2 = round(num2, 3) # 소수점 셋째자리까지 반올림\n",
    "\n",
    "print(result1) # 출력 결과: 3\n",
    "print(result2) # 출력 결과: 2.718\n"
   ]
  },
  {
   "cell_type": "code",
   "execution_count": 41,
   "metadata": {},
   "outputs": [
    {
     "name": "stdout",
     "output_type": "stream",
     "text": [
      "Alice 24\n",
      "Bob 32\n",
      "Charlie 28\n",
      "<zip object at 0x000001D6092C0080>\n",
      "[('Alice', 24), ('Bob', 32), ('Charlie', 28)]\n",
      "{'Alice': 24, 'Bob': 32, 'Charlie': 28}\n",
      "{'Alice': 24, 'Bob': 32, 'Charlie': 28}\n",
      "{'Alice': 24, 'Bob': 32, 'Charlie': 28}\n"
     ]
    }
   ],
   "source": [
    "# zip\n",
    "# zip(seq, *seqs)\n",
    "# seq 요소와 *seqs 요소의 튜플 쌍으로 이루어진 리스트 iterable 반환\n",
    "\n",
    "names = ['Alice', 'Bob', 'Charlie']\n",
    "ages = [24, 32, 28]\n",
    "\n",
    "for name, age in zip(names, ages):\n",
    "    print(name, age)\n",
    "\n",
    "# Alice 24\n",
    "# Bob 32\n",
    "# Charlie 28\n",
    "\n",
    "print(zip(names, ages))\n",
    "print(list(zip(names, ages)))\n",
    "print(dict(list(zip(names, ages))))\n",
    "print(repr(dict(list(zip(names, ages)))))\n",
    "print(eval(repr(dict(list(zip(names, ages))))))"
   ]
  },
  {
   "cell_type": "code",
   "execution_count": 37,
   "metadata": {},
   "outputs": [
    {
     "name": "stdout",
     "output_type": "stream",
     "text": [
      "0 a\n",
      "5 a\n",
      "a가 없습니다\n"
     ]
    }
   ],
   "source": [
    "# 연습문제\n",
    "\n",
    "# 1. enumerate() 내장 함수를 이용하여 사용자가 입력한 문자열에서 'a' 문자의 위치를 모두 찾아 출력하는 프로그램을 작성하라. \n",
    "#     'a'가 없으면 \"a가 없습니다'라는 메시지를 출력하라.\n",
    "\n",
    "def find_char(string):\n",
    "    cnt = 0\n",
    "    for i, c in enumerate(string):\n",
    "        if(c == 'a'):\n",
    "            print(i, c)\n",
    "            cnt += 1\n",
    "    \n",
    "    if (cnt ==0):\n",
    "        print(\"a가 없습니다\")\n",
    "\n",
    "find_char(\"angelapple\")\n",
    "find_char(\"erogilvknldf\")\n"
   ]
  },
  {
   "cell_type": "code",
   "execution_count": 48,
   "metadata": {},
   "outputs": [
    {
     "name": "stdout",
     "output_type": "stream",
     "text": [
      "45\n",
      "15\n",
      "450\n",
      "2.0\n"
     ]
    }
   ],
   "source": [
    "# 2. 두 수의 합(sum), 차(sub), 곱(mul), 나누기(div)를 수행하는 함수를 각각 정의하라. \n",
    "#     딕셔너리를 이용하여 사용자가 '1'을 입력하면 sum()을 호출하고, '2'를 입력하면 sub(), \n",
    "#     '3'을 입력하면 mul(), '4'를 입력하면 div() 함수를 호출하여 두 수의 연산을 수행하는 프로그램을 작성하라.\n",
    "\n",
    "def calc(n, a, b):\n",
    "    def sum(a, b):\n",
    "        return a + b\n",
    "\n",
    "    def sub(a, b):\n",
    "        return a - b\n",
    "\n",
    "    def mul(a, b):\n",
    "        return a * b\n",
    "\n",
    "    def div(a, b):\n",
    "        return a / b\n",
    "\n",
    "    funcs = {1: sum, 2: sub, 3: mul, 4: div}\n",
    "\n",
    "    return funcs[n](a, b)\n",
    "\n",
    "print(calc(1, 30, 15))\n",
    "print(calc(2, 30, 15))\n",
    "print(calc(3, 30, 15))\n",
    "print(calc(4, 30, 15))\n",
    "\n"
   ]
  },
  {
   "cell_type": "code",
   "execution_count": 50,
   "metadata": {},
   "outputs": [
    {
     "name": "stdout",
     "output_type": "stream",
     "text": [
      "['led=on', 'motor=off', 'switch=off']\n",
      "{'led': 'on', 'motor': 'off', 'switch': 'off'}\n"
     ]
    }
   ],
   "source": [
    "# 3. 다음과 같이 구성되는 문자열을 구분 문자(&, =)로 분리하여 딕셔너리로 반환하는 함수 작성\n",
    "#     예: 문자열 'led=on&motor=off&switch=off'이고 구분 문자가 '&', '='일 때 {'led':'on', 'motor':'off', 'switch':off'} 반환.\n",
    "#     Hint: dict([['a','b'], ['c', 'd']])  {'a': 'b', 'c': 'd'}\n",
    "\n",
    "def get_dict(msg):\n",
    "    temp = msg.split(\"&\")\n",
    "    print(temp)\n",
    "\n",
    "    temp_keys = []\n",
    "    temp_vals = []\n",
    "\n",
    "    for t in temp:\n",
    "        kv = t.split(\"=\")\n",
    "        temp_keys.append(kv[0])\n",
    "        temp_vals.append(kv[1])\n",
    "\n",
    "    print(dict(list(zip(temp_keys, temp_vals))))\n",
    "\n",
    "\n",
    "get_dict('led=on&motor=off&switch=off')"
   ]
  }
 ],
 "metadata": {
  "kernelspec": {
   "display_name": "Python 3",
   "language": "python",
   "name": "python3"
  },
  "language_info": {
   "codemirror_mode": {
    "name": "ipython",
    "version": 3
   },
   "file_extension": ".py",
   "mimetype": "text/x-python",
   "name": "python",
   "nbconvert_exporter": "python",
   "pygments_lexer": "ipython3",
   "version": "3.11.3"
  },
  "orig_nbformat": 4
 },
 "nbformat": 4,
 "nbformat_minor": 2
}
