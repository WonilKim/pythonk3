{
 "cells": [
  {
   "attachments": {},
   "cell_type": "markdown",
   "metadata": {},
   "source": [
    "# 파일"
   ]
  },
  {
   "attachments": {},
   "cell_type": "markdown",
   "metadata": {},
   "source": [
    "## 파일 열기\n",
    "* open() 함수를 사용하여 파일 객체를 만듭니다. 파일을 열 때는 파일 이름과 모드를 지정해야 합니다.\n",
    "\n",
    "file = open(\"example.txt\", \"r\")\n",
    "\n",
    "    - r: 읽기 모드. 파일을 읽기 위해서 사용합니다. 파일이 존재하지 않으면 오류가 발생합니다.\n",
    "    - w: 쓰기 모드. 파일을 쓰기 위해서 사용합니다. 파일이 이미 존재하면 덮어쓰고, 존재하지 않으면 새로운 파일을 생성합니다.\n",
    "    - a: 추가 모드. 파일의 끝에 내용을 추가하기 위해서 사용합니다. 파일이 이미 존재하면 파일 끝에 내용을 추가하고, 존재하지 않으면 새로운 파일을 생성합니다.\n",
    "    - x: 배타적 생성 모드. 새로운 파일을 생성하기 위해서 사용합니다. 파일이 이미 존재하면 오류가 발생합니다.\n",
    "    - b: 이진 모드. 파일을 바이너리 모드로 엽니다.\n",
    "    - t: 텍스트 모드. 파일을 텍스트 모드로 엽니다. 이것이 기본값입니다.\n",
    "    - +: 읽기와 쓰기 모두를 지원하는 모드입니다. r+, w+, a+와 같은 형태로 사용됩니다.\n",
    "\n"
   ]
  },
  {
   "attachments": {},
   "cell_type": "markdown",
   "metadata": {},
   "source": [
    "## 파일 읽기\n",
    "* 파일 객체를 사용하여 파일 내용을 읽을 수 있습니다. 다양한 메서드를 사용할 수 있습니다.\n",
    "    - read(): 파일 내용 전체를 문자열로 읽습니다.\n",
    "    - readline(): 파일에서 한 줄을 읽습니다. 파일 끝에 도달하면 빈 문자열을 반환합니다.\n",
    "    - readlines(): 파일 전체를 읽고 각 줄을 문자열의 리스트로 반환합니다.\n",
    "\n"
   ]
  },
  {
   "cell_type": "code",
   "execution_count": 5,
   "metadata": {},
   "outputs": [
    {
     "name": "stdout",
     "output_type": "stream",
     "text": [
      "Hello, world!\n",
      "This is an example file.\n",
      "We will use it to demonstrate file writing in Python.\n",
      "We can write multiple lines at once.\n",
      "\n",
      "\n",
      "[]\n"
     ]
    }
   ],
   "source": [
    "file = open(\"example.txt\", \"r\", encoding='UTF8')\n",
    "\n",
    "# 파일 내용 전체를 읽습니다.\n",
    "content = file.read()\n",
    "print(content)\n",
    "\n",
    "# 파일에서 한 줄을 읽습니다.\n",
    "line = file.readline()\n",
    "print(line)\n",
    "\n",
    "# 파일 전체를 읽고 각 줄을 리스트로 반환합니다.\n",
    "lines = file.readlines()\n",
    "print(lines)\n",
    "\n",
    "file.close()  # 파일을 닫습니다.\n"
   ]
  },
  {
   "attachments": {},
   "cell_type": "markdown",
   "metadata": {},
   "source": [
    "## 파일 쓰기\n",
    "* 파일 객체를 사용하여 파일 내용을 씁니다.\n",
    "    - write(): 파일에 문자열을 씁니다.\n",
    "    - writelines(): 파일에 문자열의 리스트를 씁니다.\n",
    "\n"
   ]
  },
  {
   "cell_type": "code",
   "execution_count": 4,
   "metadata": {},
   "outputs": [],
   "source": [
    "file = open(\"example.txt\", \"w\")\n",
    "\n",
    "# 파일에 문자열을 씁니다.\n",
    "file.write(\"Hello, world!\\n\")\n",
    "file.write(\"This is an example file.\\n\")\n",
    "\n",
    "# 파일에 문자열의 리스트를 씁니다.\n",
    "lines = [\"We will use it to demonstrate file writing in Python.\\n\",\n",
    "         \"We can write multiple lines at once.\\n\"]\n",
    "file.writelines(lines)\n",
    "\n",
    "file.close()  # 파일을 닫습니다.\n"
   ]
  },
  {
   "attachments": {},
   "cell_type": "markdown",
   "metadata": {},
   "source": [
    "## 파일 닫기\n",
    "* Python에서 파일을 열고 사용한 후에는 반드시 파일을 닫아야 합니다. 파일을 닫지 않으면 파일이 계속해서 열린 상태로 남아 있어서, 다른 프로그램이나 사용자가 해당 파일을 사용하지 못하게 됩니다.\n"
   ]
  },
  {
   "cell_type": "code",
   "execution_count": 6,
   "metadata": {},
   "outputs": [],
   "source": [
    "file = open(\"example.txt\", \"r\")\n",
    "content = file.read()\n",
    "file.close()\n",
    "\n",
    "# 파일을 다루다가 예외가 발생하면 파일이 닫히지 않을 수 있습니다. \n",
    "# 이러한 문제를 방지하기 위해서는 with 문을 사용하여 파일 객체를 다루는 것이 좋습니다.\n"
   ]
  },
  {
   "attachments": {},
   "cell_type": "markdown",
   "metadata": {},
   "source": [
    "## with 문\n",
    "with 문은 파일을 열고 작업을 마치면 파일을 자동으로 닫아줍니다.\n",
    "\n",
    "    with open(\"example.txt\", \"r\") as file:\n",
    "        # 파일을 다루는 코드\n",
    "\n",
    "\n",
    "예시\n",
    "\n",
    "    with open(\"example.txt\", \"r\") as file:\n",
    "        # 파일 내용 전체를 읽습니다.\n",
    "        content = file.read()\n",
    "        print(content)\n"
   ]
  },
  {
   "cell_type": "code",
   "execution_count": 7,
   "metadata": {},
   "outputs": [
    {
     "name": "stdout",
     "output_type": "stream",
     "text": [
      "읽기 모드 예시:\n",
      "Hello, world!\n",
      "This is an example file.\n",
      "We will use it to demonstrate file writing in Python.\n",
      "We can write multiple lines at once.\n",
      "\n",
      "쓰기 모드 예시:\n",
      "파일이 생성되었습니다.\n",
      "추가 모드 예시:\n",
      "파일이 열렸고 내용이 추가되었습니다.\n"
     ]
    }
   ],
   "source": [
    "# 읽기 모드로 파일을 엽니다.\n",
    "file = open(\"example.txt\", \"r\")\n",
    "content = file.read()\n",
    "print(\"읽기 모드 예시:\")\n",
    "print(content)\n",
    "file.close()\n",
    "\n",
    "# 쓰기 모드로 파일을 엽니다.\n",
    "file = open(\"example.txt\", \"w\")\n",
    "file.write(\"This is an example.\\n\")\n",
    "file.write(\"We are writing to a file.\\n\")\n",
    "print(\"쓰기 모드 예시:\")\n",
    "print(\"파일이 생성되었습니다.\")\n",
    "file.close()\n",
    "\n",
    "# 추가 모드로 파일을 엽니다.\n",
    "file = open(\"example.txt\", \"a\")\n",
    "file.write(\"We are appending to a file.\\n\")\n",
    "print(\"추가 모드 예시:\")\n",
    "print(\"파일이 열렸고 내용이 추가되었습니다.\")\n",
    "file.close()\n"
   ]
  },
  {
   "cell_type": "code",
   "execution_count": 8,
   "metadata": {},
   "outputs": [
    {
     "name": "stdout",
     "output_type": "stream",
     "text": [
      "배타적 생성 모드 예시:\n",
      "새로운 파일이 생성되었습니다.\n",
      "이진 모드 예시:\n",
      "바이너리 파일이 생성되었습니다.\n",
      "읽기와 쓰기를 지원하는 모드 예시:\n",
      "파일 내용:\n",
      "This is an example.\n",
      "We are writing to a file.\n",
      "We are appending to a file.\n",
      "\n"
     ]
    }
   ],
   "source": [
    "\n",
    "# 배타적 생성 모드로 파일을 엽니다.\n",
    "file = open(\"example2.txt\", \"x\")\n",
    "file.write(\"This is a new file.\\n\")\n",
    "print(\"배타적 생성 모드 예시:\")\n",
    "print(\"새로운 파일이 생성되었습니다.\")\n",
    "file.close()\n",
    "\n",
    "# 이진 모드로 파일을 엽니다.\n",
    "file = open(\"example.bin\", \"wb\")\n",
    "file.write(b\"This is binary data.\")\n",
    "print(\"이진 모드 예시:\")\n",
    "print(\"바이너리 파일이 생성되었습니다.\")\n",
    "file.close()\n",
    "\n",
    "# 읽기와 쓰기를 지원하는 모드로 파일을 엽니다.\n",
    "file = open(\"example.txt\", \"r+\")\n",
    "content = file.read()\n",
    "print(\"읽기와 쓰기를 지원하는 모드 예시:\")\n",
    "print(\"파일 내용:\")\n",
    "print(content)\n",
    "file.write(\"\\nWe are writing to the file again.\")\n",
    "file.close()\n"
   ]
  },
  {
   "cell_type": "code",
   "execution_count": 9,
   "metadata": {},
   "outputs": [
    {
     "name": "stdout",
     "output_type": "stream",
     "text": [
      "read() 함수 예시:\n",
      "This is an example.\n",
      "We are writing to a file.\n",
      "We are appending to a file.\n",
      "\n",
      "We are writing to the file again.\n",
      "\n",
      "readline() 함수 예시:\n",
      "This is an example.\n",
      "\n",
      "\n",
      "readlines() 함수 예시:\n",
      "['This is an example.\\n', 'We are writing to a file.\\n', 'We are appending to a file.\\n', '\\n', 'We are writing to the file again.']\n"
     ]
    }
   ],
   "source": [
    "with open(\"example.txt\", \"r\") as file:\n",
    "    # 파일 내용 전체를 읽습니다.\n",
    "    content = file.read()\n",
    "    print(\"read() 함수 예시:\")\n",
    "    print(content)\n",
    "\n",
    "    # 파일에서 한 줄을 읽습니다.\n",
    "    file.seek(0)  # 파일 포인터를 처음으로 돌립니다.\n",
    "    line = file.readline()\n",
    "    print(\"\\nreadline() 함수 예시:\")\n",
    "    print(line)\n",
    "\n",
    "    # 파일 전체를 읽고 각 줄을 리스트로 반환합니다.\n",
    "    file.seek(0)  # 파일 포인터를 처음으로 돌립니다.\n",
    "    lines = file.readlines()\n",
    "    print(\"\\nreadlines() 함수 예시:\")\n",
    "    print(lines)\n"
   ]
  },
  {
   "attachments": {},
   "cell_type": "markdown",
   "metadata": {},
   "source": [
    "# 정규표현식"
   ]
  },
  {
   "attachments": {},
   "cell_type": "markdown",
   "metadata": {},
   "source": [
    "### 정규표현식 기본 개념\n",
    "* 정규표현식이란?\n",
    "    - 정규표현식(Regular Expression)은 문자열을 처리하는 패턴을 정의하는데 사용되는 형식 언어입니다. 정규표현식은 문자열의 검색(search)과 치환(replace) 작업에 사용됩니다.\u000b\n",
    "* 정규표현식의 구성 요소\n",
    "    - 정규표현식은 메타 문자(meta character)와 리터럴(literal)로 이루어져 있습니다. 메타 문자는 특별한 의미를 가지며, 리터럴은 문자 그대로를 의미합니다.\n",
    "* 정규표현식의 메타 문자\n",
    "    - . (마침표) : 임의의 문자 한 개를 의미합니다.\n",
    "    - ^ (캐럿) : 문자열의 시작을 의미합니다.\n",
    "    - $ (달러) : 문자열의 끝을 의미합니다.\n",
    "    - \\* (별표) : 0개 이상의 문자를 의미합니다.\n",
    "    - \\+ (더하기) : 1개 이상의 문자를 의미합니다.\n",
    "    - ? (물음표) : 0개 또는 1개의 문자를 의미합니다.\n",
    "\n",
    "* 정규표현식의 리터럴\n",
    "    - 정규표현식의 리터럴은 문자 그대로를 의미합니다. 예를 들어, \"hello\"는 정규표현식에서 \"hello\"라는 문자 그대로를 의미합니다.\n",
    "\n",
    "\n",
    "\n",
    "\n",
    "\n"
   ]
  },
  {
   "attachments": {},
   "cell_type": "markdown",
   "metadata": {},
   "source": [
    "### 정규표현식 메타 문자\n",
    " \n",
    "* 정규표현식에서 사용되는 일부 메타문자들\n",
    "    - . : 줄바꿈 문자(\\n)를 제외한 모든 문자와 매칭됩니다.\n",
    "    - ^ : 문자열의 시작과 매칭됩니다.\n",
    "    - $ : 문자열의 끝과 매칭됩니다.\n",
    "    - \\* : 앞의 문자가 0번 이상 반복되는 패턴과 매칭됩니다.\n",
    "    - \\+ : 앞의 문자가 1번 이상 반복되는 패턴과 매칭됩니다.\n",
    "    - ? : 앞의 문자가 0번 또는 1번 나타나는 패턴과 매칭됩니다.\n",
    "    - [] : 대괄호 안에 나열된 문자 중 하나와 매칭됩니다.\n",
    "        - [a-z] : 알파벳 소문자 중 하나와 매칭됩니다.\n",
    "        - [A-Z] : 알파벳 대문자 중 하나와 매칭됩니다.\n",
    "        - [0-9] : 숫자 중 하나와 매칭됩니다.\n",
    "    - | : OR 연산자 역할을 하며, 왼쪽 또는 오른쪽 패턴 중 하나와 매칭됩니다.\n",
    "    - () : 그룹핑을 위해 사용되며, 매칭 결과에 대한 그룹을 생성합니다.\n",
    "    - {} : 중괄호 안에 숫자가 들어가며, 앞의 문자나 패턴이 해당 숫자만큼 나타나는 패턴과 매칭됩니다.\n",
    "    - () : 그룹핑을 위해 사용되며, 매칭 결과에 대한 그룹을 생성합니다.\n",
    "    - \\ : 이스케이프 문자로 사용되며, 메타문자를 문자 그대로 매칭시키기 위해 사용됩니다.\n",
    "    - \\d : 숫자와 매칭됩니다.\n",
    "    - \\D : 숫자가 아닌 문자와 매칭됩니다.\n",
    "    - \\w : 숫자와 알파벳(대소문자), 언더스코어(_)와 매칭됩니다.\n",
    "    - \\W : 숫자와 알파벳(대소문자), 언더스코어(_)가 아닌 문자와 매칭됩니다.\n",
    "    - \\s : 공백 문자와 매칭됩니다.\n",
    "    - \\S : 공백 문자가 아닌 문자와 매칭됩니다.\n",
    "\n",
    "\n",
    "\n"
   ]
  },
  {
   "attachments": {},
   "cell_type": "markdown",
   "metadata": {},
   "source": [
    "* a{1,3} \n",
    "    - a가 1번 ~ 3번 반복되는것\n",
    "    - 횟수가 정해져 있을때 사용\n",
    "    - 횟수가 정해지지 않았을 때는 \\*이나 \\+사용\n",
    "    - a, aa, aaa, ...\n",
    "* [Ww]as\n",
    "    - Was, was\n",
    "* [12345]as, [1-5]as\n",
    "    - 1as, 2as, 3as, 4as, 5as\n",
    "* wa+s|cat\n",
    "    - was, waas, waaas, ..., cat"
   ]
  },
  {
   "attachments": {},
   "cell_type": "markdown",
   "metadata": {},
   "source": [
    "https://regexr.com/ 에서 테스트 할 수 있다."
   ]
  },
  {
   "attachments": {},
   "cell_type": "markdown",
   "metadata": {},
   "source": [
    "### 문자열 매칭\n",
    "* 문자열 매칭이란?\n",
    "    - 문자열 매칭(pattern matching)은 정규표현식을 사용하여 문자열 내에서 특정한 패턴을 검색하는 과정입니다.\n",
    "* re.match() 함수\n",
    "    - re.match() 함수는 문자열의 시작에서 패턴을 찾아서 반환합니다. 예를 들어, re.match(r\"abc\", \"abcdef\")는 \"abc\"와 매칭됩니다.\n",
    "* re.search() 함수\n",
    "    - re.search() 함수는 문자열 내에서 패턴을 검색하여 반환합니다. 예를 들어, re.search(r\"abc\", \"defabc\")는 \"abc\"와 매칭됩니다.\n",
    "\n",
    "r을 붙인 패턴 문자열은 Raw String(원시 문자열)로 해석되어 백슬래시를 이스케이프 문자가 아니라 일반 문자로 처리됩니다.\n"
   ]
  },
  {
   "cell_type": "code",
   "execution_count": 11,
   "metadata": {},
   "outputs": [
    {
     "name": "stdout",
     "output_type": "stream",
     "text": [
      "매칭된 문자열: python\n",
      "매칭되지 않음\n",
      "매칭되지 않음\n"
     ]
    }
   ],
   "source": [
    "import re\n",
    "\n",
    "# 문자열의 시작부터 정규표현식과 매칭되는 패턴 찾기\n",
    "pattern = r\"python\"\n",
    "string1 = \"python is easy\"\n",
    "string2 = \"I love python\"\n",
    "string3 = \"Python is fun\"\n",
    "\n",
    "match1 = re.match(pattern, string1)\n",
    "match2 = re.match(pattern, string2)\n",
    "match3 = re.match(pattern, string3)\n",
    "\n",
    "if match1:\n",
    "    print(\"매칭된 문자열:\", match1.group())  # 매칭된 문자열: python\n",
    "else:\n",
    "    print(\"매칭되지 않음\")\n",
    "\n",
    "if match2:\n",
    "    print(\"매칭된 문자열:\", match2.group())\n",
    "else:\n",
    "    print(\"매칭되지 않음\")\n",
    "\n",
    "if match3:\n",
    "    print(\"매칭된 문자열:\", match3.group())\n",
    "else:\n",
    "    print(\"매칭되지 않음\")\n"
   ]
  },
  {
   "cell_type": "code",
   "execution_count": 12,
   "metadata": {},
   "outputs": [
    {
     "name": "stdout",
     "output_type": "stream",
     "text": [
      "매칭된 문자열: python\n",
      "매칭된 문자열: python\n",
      "매칭되지 않음\n"
     ]
    }
   ],
   "source": [
    "import re\n",
    "\n",
    "# 문자열 전체에서 정규표현식과 매칭되는 패턴 찾기\n",
    "pattern = r\"python\"\n",
    "string1 = \"python is easy\"\n",
    "string2 = \"I love python\"\n",
    "string3 = \"Python is fun\"\n",
    "\n",
    "match1 = re.search(pattern, string1)\n",
    "match2 = re.search(pattern, string2)\n",
    "match3 = re.search(pattern, string3)\n",
    "\n",
    "if match1:\n",
    "    print(\"매칭된 문자열:\", match1.group())  # 매칭된 문자열: python\n",
    "else:\n",
    "    print(\"매칭되지 않음\")\n",
    "\n",
    "if match2:\n",
    "    print(\"매칭된 문자열:\", match2.group())  # 매칭된 문자열: python\n",
    "else:\n",
    "    print(\"매칭되지 않음\")\n",
    "\n",
    "if match3:\n",
    "    print(\"매칭된 문자열:\", match3.group())\n",
    "else:\n",
    "    print(\"매칭되지 않음\")\n"
   ]
  },
  {
   "attachments": {},
   "cell_type": "markdown",
   "metadata": {},
   "source": [
    "### 문자열 추출\n",
    "* 문자열 추출이란?\n",
    "    - 문자열 추출은 정규표현식을 사용하여 문자열 내에서 특정한 패턴을 검색하고 추출하는 과정입니다.\n",
    "\n",
    "* re.findall() 함수\n",
    "    - re.findall() 함수는 문자열 내에서 패턴과 매칭된 모든 부분을 리스트로 반환합니다. 예를 들어, re.findall(\"a\", \"abcdaaa\")는 ['a', 'a', 'a', 'a']와 같은 리스트를 반환합니다.\n",
    "\n"
   ]
  },
  {
   "cell_type": "code",
   "execution_count": 13,
   "metadata": {},
   "outputs": [
    {
     "name": "stdout",
     "output_type": "stream",
     "text": [
      "['2', '3']\n",
      "['1', '5']\n",
      "['12345678']\n"
     ]
    }
   ],
   "source": [
    "import re\n",
    "\n",
    "# 문자열에서 정규표현식과 매칭되는 모든 패턴 찾기\n",
    "pattern = r\"\\d+\"\n",
    "string1 = \"I have 2 apples and 3 oranges\"\n",
    "string2 = \"The temperature is -1.5 degrees Celsius\"\n",
    "string3 = \"The password is 12345678\"\n",
    "\n",
    "matches1 = re.findall(pattern, string1)\n",
    "matches2 = re.findall(pattern, string2)\n",
    "matches3 = re.findall(pattern, string3)\n",
    "\n",
    "print(matches1)  # ['2', '3']\n",
    "print(matches2)  # ['-1', '5']\n",
    "print(matches3)  # ['12345678']\n"
   ]
  },
  {
   "attachments": {},
   "cell_type": "markdown",
   "metadata": {},
   "source": [
    "### 문자열 치환\n",
    "* 문자열 치환이란?\n",
    "    - 문자열 치환은 정규표현식을 사용하여 문자열 내에서 특정한 패턴을 검색하고 다른 문자열로 치환하는 과정입니다.\n",
    "\n",
    "* re.sub() 함수\n",
    "    - re.sub() 함수는 문자열 내에서 패턴과 매칭된 부분을 다른 문자열로 치환합니다. \n",
    "\n",
    "re.sub(pattern, repl, string, count=0, flags=0)\n",
    "\n",
    "    - pattern: 정규표현식 패턴\n",
    "    - repl: 치환할 문자열 또는 치환 함수\n",
    "    - string: 대상 문자열\n",
    "    - count: 치환할 최대 개수 (생략 가능)\n",
    "    - flags: 정규표현식 옵션 (생략 가능\n",
    "\n"
   ]
  },
  {
   "cell_type": "code",
   "execution_count": 14,
   "metadata": {},
   "outputs": [
    {
     "name": "stdout",
     "output_type": "stream",
     "text": [
      "I have 10 apples and 10 oranges\n",
      "The temperature is -0.0 degrees Celsius\n",
      "The password is ***\n"
     ]
    }
   ],
   "source": [
    "import re\n",
    "\n",
    "# 문자열에서 정규표현식과 매칭되는 모든 패턴을 다른 문자열로 대체하기\n",
    "pattern = r\"\\d+\"\n",
    "string1 = \"I have 2 apples and 3 oranges\"\n",
    "string2 = \"The temperature is -1.5 degrees Celsius\"\n",
    "string3 = \"The password is 12345678\"\n",
    "\n",
    "result1 = re.sub(pattern, \"10\", string1)\n",
    "result2 = re.sub(pattern, \"0\", string2)\n",
    "result3 = re.sub(pattern, \"***\", string3)\n",
    "\n",
    "print(result1)  # I have 10 apples and 10 oranges\n",
    "print(result2)  # The temperature is -0.0 degrees Celsius\n",
    "print(result3)  # The password is ***\n"
   ]
  },
  {
   "attachments": {},
   "cell_type": "markdown",
   "metadata": {},
   "source": [
    "### 그룹핑\n",
    "* 그룹핑은소괄호(())로 표현하며, 그룹핑된 문자열은 ()안에 위치합니다. \n",
    "* 그룹핑된 문자열은 해당 그룹핑의 순서대로 1, 2, 3...과 같은 그룹핑 인덱스를 부여받습니다. \n",
    "* 유용한 상황\n",
    "    - 매칭된 패턴에서 특정 부분만 추출하고자 할 때\n",
    "    - 매칭된 패턴에서 특정 부분을 치환하고자 할 때\n",
    "\n",
    "* 그룹핑 추출 예시\n",
    "    - 전화번호에서 지역번호와 나머지 번호를 각각 추출\n"
   ]
  },
  {
   "cell_type": "code",
   "execution_count": 15,
   "metadata": {},
   "outputs": [
    {
     "name": "stdout",
     "output_type": "stream",
     "text": [
      "010\n",
      "1234-5678\n"
     ]
    }
   ],
   "source": [
    "import re\n",
    "\n",
    "phone_number = \"010-1234-5678\"\n",
    "pattern = r\"(\\d{2,3})-(\\d{3,4})-(\\d{4})\"\n",
    "result = re.match(pattern, phone_number)\n",
    "\n",
    "area_code = result.group(1)\n",
    "phone_number_without_area_code = result.group(2) + \"-\" + result.group(3)\n",
    "\n",
    "print(area_code)  # 010\n",
    "print(phone_number_without_area_code)  # 1234-5678\n"
   ]
  },
  {
   "cell_type": "code",
   "execution_count": 16,
   "metadata": {},
   "outputs": [
    {
     "name": "stdout",
     "output_type": "stream",
     "text": [
      "03/18/2022\n"
     ]
    }
   ],
   "source": [
    "# 날짜 표기법이 YYYY-MM-DD 형태로 되어 있을 때 이를 MM/DD/YYYY 형태로 바꾸고 싶다면\n",
    "\n",
    "import re\n",
    "\n",
    "date = \"2022-03-18\"\n",
    "pattern = r\"(\\d{4})-(\\d{2})-(\\d{2})\"\n",
    "result = re.sub(pattern, r\"\\2/\\3/\\1\", date)\n",
    "\n",
    "print(result)  # \"03/18/2022\"\n"
   ]
  },
  {
   "cell_type": "code",
   "execution_count": 17,
   "metadata": {},
   "outputs": [
    {
     "name": "stdout",
     "output_type": "stream",
     "text": [
      "Yuna Kim\n"
     ]
    }
   ],
   "source": [
    "# 이름 순서 바꾸기\n",
    "\n",
    "import re\n",
    "\n",
    "# 이름 순서 바꾸기\n",
    "string = \"Kim, Yuna\"\n",
    "pattern = r\"(\\w+),\\s*(\\w+)\"     # 쉼표와 공백은 그룹에 포함되어 있지 않다.\n",
    "result = re.sub(pattern, r\"\\2 \\1\", string)\n",
    "print(result)  # \"Yuna Kim\"\n"
   ]
  },
  {
   "attachments": {},
   "cell_type": "markdown",
   "metadata": {},
   "source": [
    "### 정규표현식 패턴 옵션\n",
    "\n",
    "* 패턴 옵션\n",
    "    - 정규표현식에서 사용되는 패턴 옵션은 대소문자 무시, 다중행 모드 등이 있습니다.\n",
    "\n",
    "* re.IGNORECASE 또는 re.I 옵션\n",
    "    - re.IGNORECASE 옵션은 대소문자를 무시합니다. 예를 들어, re.findall(r\"a\", \"AbCdAaA\", re.IGNORECASE)는 ['A', 'a', 'A', 'a', 'A']와 같은 리스트를 반환합니다.\n",
    "* re.MULTILINE 또는 re.M 옵션\n",
    "    - re.MULTILINE 옵션은 다중행 모드를 사용합니다. 예를 들어, \"abc\\ndef\\nghi\"라는 문자열에서 r\"^g\"를 검색할 때, re.MULTILINE 옵션이 적용되면 \"g\"와 매칭됩니다.\n",
    "\n"
   ]
  },
  {
   "cell_type": "code",
   "execution_count": 18,
   "metadata": {},
   "outputs": [
    {
     "name": "stdout",
     "output_type": "stream",
     "text": [
      "[]\n",
      "['Python']\n"
     ]
    }
   ],
   "source": [
    "string = \"Python is an interpreted language\"\n",
    "\n",
    "import re\n",
    "\n",
    "pattern = 'python'\n",
    "result = re.findall(pattern, string)\n",
    "print(result)  # []\n",
    "\n",
    "result = re.findall(pattern, string, re.IGNORECASE)\n",
    "print(result)  # ['Python']\n"
   ]
  },
  {
   "cell_type": "code",
   "execution_count": 19,
   "metadata": {},
   "outputs": [
    {
     "name": "stdout",
     "output_type": "stream",
     "text": [
      "['Python', 'typed']\n"
     ]
    }
   ],
   "source": [
    "string = \"\"\"Python is an interpreted language\n",
    "It is dynamically typed\n",
    "And it is easy to learn\"\"\"\n",
    "\n",
    "\n",
    "import re\n",
    "\n",
    "pattern = '^Python|typed$'\n",
    "result = re.findall(pattern, string, re.MULTILINE)\n",
    "print(result)  # ['Python', 'typed']\n"
   ]
  },
  {
   "attachments": {},
   "cell_type": "markdown",
   "metadata": {},
   "source": [
    "### 정규 표현식을 활용한 실제 예제"
   ]
  },
  {
   "cell_type": "code",
   "execution_count": 20,
   "metadata": {},
   "outputs": [
    {
     "name": "stdout",
     "output_type": "stream",
     "text": [
      "['john.doe123@example.com', 'jane@example.co.uk']\n"
     ]
    }
   ],
   "source": [
    "# 이메일 주소 추출\n",
    "\n",
    "import re\n",
    "\n",
    "def extract_email(string):\n",
    "    pattern = r'\\b[A-Za-z0-9._%+-]+@[A-Za-z0-9.-]+\\.[A-Z|a-z]{2,}\\b'\n",
    "    emails = re.findall(pattern, string)\n",
    "    return emails\n",
    "\n",
    "\n",
    "string = \"John's email is john.doe123@example.com. Jane can be reached at jane@example.co.uk.\"\n",
    "\n",
    "emails = extract_email(string)\n",
    "print(emails)  # ['john.doe123@example.com', 'jane@example.co.uk']\n"
   ]
  },
  {
   "attachments": {},
   "cell_type": "markdown",
   "metadata": {},
   "source": [
    "r'\\b[A-Za-z0-9._%+-]+@[A-Za-z0-9.-]+\\.[A-Z|a-z]{2,}\\b'\n",
    "\n",
    "    - \\b : 단어 경계\n",
    "    - [A-Za-z0-9._%+-]+ : 이메일 주소의 로컬 파트(local part)로 사용될 수 있는 문자들\n",
    "    - @ : 이메일 주소의 구분자\n",
    "    - [A-Za-z0-9.-]+ : 이메일 주소의 도메인 파트(domain part)로 사용될 수 있는 문자들\n",
    "    - \\. : 도메인 파트와 TLD(top-level domain)를 구분하는 점(.)\n",
    "    - [A-Z|a-z]{2,} : TLD로 사용될 수 있는 대문자 또는 소문자 문자들, 최소 2자리 이상\n",
    "\n"
   ]
  },
  {
   "attachments": {},
   "cell_type": "markdown",
   "metadata": {},
   "source": [
    "### \\b\n",
    "\n",
    "* \\b는 단어(word) 경계를 나타내는 메타문자입니다. \n",
    "* 단어 경계란 \n",
    "    - 단어와 단어가 아닌 문자(character) 사이의 경계를 의미합니다. \n",
    "    - 예를 들어, 단어 book의 경계는 공백이나 문장부호 등의 문자가 있을 수 있습니다. \\b는 이러한 단어 경계를 나타내므로, 정규표현식에서 단어 검색을 할 때 매우 유용합니다.\n"
   ]
  },
  {
   "cell_type": "code",
   "execution_count": 22,
   "metadata": {},
   "outputs": [
    {
     "name": "stdout",
     "output_type": "stream",
     "text": [
      "['book']\n"
     ]
    }
   ],
   "source": [
    "string = \"I love books. My favorite book is 'The Great Gatsby'.\"\n",
    "\n",
    "import re\n",
    "\n",
    "pattern = r'\\bbook\\b'\n",
    "result = re.findall(pattern, string)\n",
    "print(result)  # ['book']\n",
    "\n",
    "# 이 정규표현식은 단어 경계(\\b)로 둘러싸인 book을 검색\n",
    "# 즉, 문자열 book이 단어가 아닌 일부 단어의 일부분으로 포함되어 있더라도 매칭되지 않습니다.\n"
   ]
  },
  {
   "cell_type": "code",
   "execution_count": 23,
   "metadata": {},
   "outputs": [
    {
     "name": "stdout",
     "output_type": "stream",
     "text": [
      "True\n",
      "True\n",
      "False\n",
      "False\n",
      "False\n"
     ]
    }
   ],
   "source": [
    "# 정규표현식을 사용한 데이터 유효성 검증\n",
    "# 메일 주소의 유효성을 검증하는 예제\n",
    "\n",
    "import re\n",
    "\n",
    "def is_valid_email(email):\n",
    "    pattern = r'^[a-zA-Z0-9+-_.]+@[a-zA-Z0-9-]+\\.[a-zA-Z0-9-.]+$'\n",
    "    if re.match(pattern, email):\n",
    "        return True\n",
    "    else:\n",
    "        return False\n",
    "\n",
    "email1 = 'example@example.com'\n",
    "email2 = 'example@example.co.kr'\n",
    "email3 = 'example.example.com'\n",
    "email4 = 'example@example.'\n",
    "email5 = 'example@example'\n",
    "\n",
    "print(is_valid_email(email1))  # True\n",
    "print(is_valid_email(email2))  # True\n",
    "print(is_valid_email(email3))  # False\n",
    "print(is_valid_email(email4))  # False\n",
    "print(is_valid_email(email5))  # False\n"
   ]
  },
  {
   "cell_type": "code",
   "execution_count": 24,
   "metadata": {},
   "outputs": [
    {
     "name": "stdout",
     "output_type": "stream",
     "text": [
      "True\n",
      "False\n",
      "False\n"
     ]
    }
   ],
   "source": [
    "# 정규표현식을 사용한 데이터 유효성 검증\n",
    "# 전화번호 유효성 검증하는 예제\n",
    "\n",
    "import re\n",
    "\n",
    "def is_valid_phone_number(phone_number):\n",
    "    pattern = r'^\\d{3}-\\d{3,4}-\\d{4}$'\n",
    "    if re.match(pattern, phone_number):\n",
    "        return True\n",
    "    else:\n",
    "        return False\n",
    "\n",
    "phone_number1 = '010-1234-5678'\n",
    "phone_number2 = '02-123-4567'\n",
    "phone_number3 = '123-4567'\n",
    "\n",
    "print(is_valid_phone_number(phone_number1))  # True\n",
    "print(is_valid_phone_number(phone_number2))  # True\n",
    "print(is_valid_phone_number(phone_number3))  # False\n"
   ]
  },
  {
   "cell_type": "code",
   "execution_count": 25,
   "metadata": {},
   "outputs": [
    {
     "name": "stdout",
     "output_type": "stream",
     "text": [
      "['192.168.0.1']\n",
      "['192.168.0.2']\n",
      "['192.168.0.3']\n",
      "['192.168.0.4']\n"
     ]
    }
   ],
   "source": [
    "# 로그 데이터에서 IP 주소를 추출하는 예시\n",
    "\n",
    "import re\n",
    "\n",
    "log_data = [\n",
    "    '192.168.0.1 - - [21/Feb/2022:10:12:01 +0900] \"GET /index.html HTTP/1.1\" 200 2326',\n",
    "    '192.168.0.2 - - [21/Feb/2022:10:12:02 +0900] \"GET /images/banner.jpg HTTP/1.1\" 200 6571',\n",
    "    '192.168.0.3 - - [21/Feb/2022:10:12:03 +0900] \"POST /login.php HTTP/1.1\" 302 -',\n",
    "    '192.168.0.4 - - [21/Feb/2022:10:12:04 +0900] \"GET /favicon.ico HTTP/1.1\" 404 209'\n",
    "]\n",
    "\n",
    "ip_pattern = r'\\d{1,3}\\.\\d{1,3}\\.\\d{1,3}\\.\\d{1,3}'\n",
    "\n",
    "for log in log_data:\n",
    "    ip = re.findall(ip_pattern, log)\n",
    "    print(ip)\n"
   ]
  },
  {
   "attachments": {},
   "cell_type": "markdown",
   "metadata": {},
   "source": [
    "### 정규표현식의 한계\n",
    "* 복잡한 패턴 처리의 한계\n",
    "    - 정규표현식은 매우 복잡한 패턴도 처리할 수 있지만, 너무 복잡한 패턴의 경우 처리 속도가 느려질 수 있습니다. 또한, 패턴의 복잡도가 높을수록 패턴을 이해하기 어려워지므로, 유지보수에 어려움을 겪을 수 있습니다.\n",
    "\n",
    "* 모든 문제에 대해 적합하지 않음\n",
    "    - 정규표현식은 문자열 처리에 대한 매우 강력한 도구지만, 모든 문제에 대해 적합하지 않습니다. 예를 들어, 복잡한 자연어 처리나 문법 분석 등과 같은 문제에는 전용 라이브러리나 도구를 사용하는 것이 더욱 적합할 수 있습니다.\n",
    "\n",
    "* 다양한 문자열 형식 처리의 한계\n",
    "    - 정규표현식은 일반적인 문자열 형식에 대한 처리를 제공합니다. 하지만, 특수한 문자열 형식이나 데이터 타입에 대한 처리에는 한계가 있습니다. 예를 들어, CSV 파일의 경우, 각 필드가 쉼표로 구분되어 있으므로, 쉼표를 기준으로 필드를 분리하는 방식으로 데이터를 처리할 수 있습니다. 하지만, CSV 파일의 경우, 인용부호나 특수문자 등의 예외상황이 있으므로, 정규표현식만으로 완벽하게 처리하기 어려울 수 있습니다.\n",
    "\n",
    "* 유니코드 문자열 처리의 한계\n",
    "    - 정규표현식은 기본적으로 ASCII 문자열을 처리하는 것을 기본으로 합니다. 따라서, 유니코드 문자열을 처리할 때에는 적절한 옵션을 설정해야 합니다. 그렇지 않으면, 유니코드 문자열을 처리할 때 예기치 않은 결과가 발생할 수 있습니다.\n",
    "\n",
    "* 가독성이 떨어지는 패턴\n",
    "    - 정규표현식을 사용하면서, 가독성이 떨어지는 패턴을 작성할 수 있습니다. 이러한 패턴은 다른 사람이 코드를 이해하기 어렵게 만들 수 있습니다.\n",
    "\n",
    "* 패턴의 이해도가 낮은 경우\n",
    "    - 패턴의 이해도가 낮은 경우, 잘못된 패턴을 작성할 가능성이 높습니다. 이러한 경우, 원하는 결과를 얻기 어려울 수 있습니다. 따라서, 패턴을 작성할 때에는, 이해도를 높이기 위해 가능한 간단한 패턴을 작성하는 것이 좋습니다.\n",
    "\n"
   ]
  },
  {
   "attachments": {},
   "cell_type": "markdown",
   "metadata": {},
   "source": [
    "### 정규표현식의 한계 극복을 위한 대안\n",
    "* 문자열 메서드\n",
    "    - 파이썬에서는 문자열을 다루기 위한 메서드들이 매우 많이 제공됩니다. 이러한 메서드를 적극적으로 활용하여 정규표현식으로 해결하기 어려운 문제를 해결할 수 있습니다.\n",
    "\n",
    "* 파싱 라이브러리\n",
    "    - 파싱 라이브러리는 문자열에서 원하는 부분을 추출하거나, 문장을 분석하는 등 다양한 작업을 수행하는 데에 사용됩니다. 파싱 라이브러리를 활용하면 정규표현식으로 해결하기 어려운 문자열 처리 문제를 해결할 수 있습니다.\n",
    "\n",
    "* 자연어 처리 라이브러리\n",
    "    - 자연어 처리 라이브러리는 텍스트 데이터를 다루는 데에 특화된 라이브러리입니다. 이러한 라이브러리를 활용하여 정규표현식으로 해결하기 어려운 텍스트 데이터 처리 문제를 해결할 수 있습니다.\n",
    "\n",
    "* 기계학습 기술\n",
    "    - 정규표현식으로 해결하기 어려운 문제를 해결하기 위해 기계학습 기술을 사용할 수 있습니다. 예를 들어, 스팸 필터링, 언어 감지, 문서 분류 등의 문제를 해결하기 위해 기계학습 기술을 활용할 수 있습니다.\n",
    "\n",
    "* 데이터베이스\n",
    "    - 문자열 처리를 위한 데이터베이스를 활용하여 정규표현식으로 해결하기 어려운 문제를 해결할 수 있습니다. 예를 들어, 검색 엔진에서 사용되는 데이터베이스는 문자열 처리를 위한 다양한 기능을 제공하며, 이를 활용하여 문자열 처리 문제를 해결할 수 있습니다.\n",
    "\n",
    "\n"
   ]
  }
 ],
 "metadata": {
  "kernelspec": {
   "display_name": "Python 3",
   "language": "python",
   "name": "python3"
  },
  "language_info": {
   "codemirror_mode": {
    "name": "ipython",
    "version": 3
   },
   "file_extension": ".py",
   "mimetype": "text/x-python",
   "name": "python",
   "nbconvert_exporter": "python",
   "pygments_lexer": "ipython3",
   "version": "3.11.3"
  },
  "orig_nbformat": 4
 },
 "nbformat": 4,
 "nbformat_minor": 2
}
