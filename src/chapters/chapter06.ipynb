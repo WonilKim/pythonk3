{
 "cells": [
  {
   "attachments": {},
   "cell_type": "markdown",
   "metadata": {},
   "source": [
    "## 모듈\n",
    "* 모듈(Module)은 파이썬 코드의 집합을 의미하며, 함수, 변수, 클래스 등을 포함할 수 있습니다. \n",
    "* 모듈은 코드를 재사용하고, 유지보수를 용이하게 하며, 작업을 효율적으로 수행할 수 있도록 도와줍니다.\n",
    "\n",
    "* 모듈의 종류\n",
    "    - 표준 라이브러리 모듈(https://docs.python.org/3/py-modindex.html)\n",
    "    - 서드파티 모듈(https://pypi.org/)\n",
    "    - 사용자 정의 모듈\n",
    "\n",
    "* 표준 라이브러리 모듈은 파이썬에 기본으로 포함되어 있는 모듈이며, 서드파티 모듈은 외부에서 제공하는 모듈이며, pip 등의 패키지 관리자를 사용하여 설치할 수 있습니다.\n"
   ]
  },
  {
   "cell_type": "code",
   "execution_count": 2,
   "metadata": {},
   "outputs": [
    {
     "name": "stdout",
     "output_type": "stream",
     "text": [
      "Requirement already satisfied: numpy in c:\\python311\\lib\\site-packages (1.24.3)\n"
     ]
    },
    {
     "name": "stderr",
     "output_type": "stream",
     "text": [
      "\n",
      "[notice] A new release of pip available: 22.3.1 -> 23.1.2\n",
      "[notice] To update, run: python.exe -m pip install --upgrade pip\n"
     ]
    }
   ],
   "source": [
    "!pip install numpy\n"
   ]
  },
  {
   "cell_type": "code",
   "execution_count": 3,
   "metadata": {},
   "outputs": [
    {
     "name": "stdout",
     "output_type": "stream",
     "text": [
      "0.05106145558083197\n",
      "7\n"
     ]
    }
   ],
   "source": [
    "import random\n",
    "\n",
    "# 0 이상 1 미만의 난수 생성\n",
    "random_num = random.random()\n",
    "print(random_num)\n",
    "\n",
    "# 1 이상 10 미만의 정수 난수 생성\n",
    "random_int = random.randint(1, 10)\n",
    "print(random_int)\n"
   ]
  },
  {
   "cell_type": "code",
   "execution_count": 4,
   "metadata": {},
   "outputs": [
    {
     "name": "stdout",
     "output_type": "stream",
     "text": [
      "['BPF', 'LOG4', 'NV_MAGICCONST', 'RECIP_BPF', 'Random', 'SG_MAGICCONST', 'SystemRandom', 'TWOPI', '_ONE', '_Sequence', '_Set', '__all__', '__builtins__', '__cached__', '__doc__', '__file__', '__loader__', '__name__', '__package__', '__spec__', '_accumulate', '_acos', '_bisect', '_ceil', '_cos', '_e', '_exp', '_floor', '_index', '_inst', '_isfinite', '_log', '_os', '_pi', '_random', '_repeat', '_sha512', '_sin', '_sqrt', '_test', '_test_generator', '_urandom', '_warn', 'betavariate', 'choice', 'choices', 'expovariate', 'gammavariate', 'gauss', 'getrandbits', 'getstate', 'lognormvariate', 'normalvariate', 'paretovariate', 'randbytes', 'randint', 'random', 'randrange', 'sample', 'seed', 'setstate', 'shuffle', 'triangular', 'uniform', 'vonmisesvariate', 'weibullvariate']\n",
      "Help on method choice in module random:\n",
      "\n",
      "choice(seq) method of random.Random instance\n",
      "    Choose a random element from a non-empty sequence.\n",
      "\n",
      "None\n"
     ]
    }
   ],
   "source": [
    "import random\n",
    "\n",
    "# random 모듈 내에 포함된 변수, 함수, 클래스 등을 나열합니다.\n",
    "print(dir(random))\n",
    "\n",
    "# random 모듈 내에 포함된 choice 함수의 도움말을 출력합니다.\n",
    "print(help(random.choice))\n"
   ]
  },
  {
   "cell_type": "code",
   "execution_count": 5,
   "metadata": {},
   "outputs": [
    {
     "name": "stdout",
     "output_type": "stream",
     "text": [
      "2.0\n",
      "3.141592653589793\n",
      "3.0\n",
      "3.141592653589793\n",
      "1.0\n"
     ]
    }
   ],
   "source": [
    "# from import 방식\n",
    "from math import sqrt, pi\n",
    "\n",
    "print(sqrt(4))  # 출력 결과: 2.0\n",
    "print(pi)  # 출력 결과: 3.141592653589793\n",
    "\n",
    "# * 방식   \n",
    "from math import *\n",
    "\n",
    "print(sqrt(9))  # 출력 결과: 3.0\n",
    "print(pi)  # 출력 결과: 3.141592653589793\n",
    "print(sin(pi/2))  # 출력 결과: 1.0\n"
   ]
  },
  {
   "cell_type": "code",
   "execution_count": 6,
   "metadata": {},
   "outputs": [
    {
     "name": "stdout",
     "output_type": "stream",
     "text": [
      "2.0\n",
      "3.141592653589793\n"
     ]
    }
   ],
   "source": [
    "import math as m\n",
    "\n",
    "print(m.sqrt(4))  # 2.0\n",
    "print(m.pi)  # 3.141592653589793\n"
   ]
  },
  {
   "attachments": {},
   "cell_type": "markdown",
   "metadata": {},
   "source": [
    "## 모듈 불러오기\n",
    "* 모듈 탐색 우선순위\n",
    "    1. 현재 작업 디렉토리 (os.getcwd()로 확인 가능)\n",
    "    2. PYTHONPATH 환경 변수에 지정된 디렉토리\n",
    "    3. 표준 라이브러리 디렉토리\n",
    "    4. site-packages 디렉토리\n",
    "\n",
    "* 이 중에서 가장 먼저 발견된 모듈이 사용되며, 나머지는 무시됩니다.\n",
    "\n",
    "* sys.path\n",
    "    - 현재 파이썬 인터프리터가 모듈을 검색할 경로들을 담고 있는 리스트입니다.\n",
    "* 현재의 디렉토리와 시스템 경로 변수 출력하기\n",
    "\n"
   ]
  },
  {
   "cell_type": "code",
   "execution_count": 7,
   "metadata": {},
   "outputs": [
    {
     "name": "stdout",
     "output_type": "stream",
     "text": [
      "c:\\Users\\nonel\\Python\\pythonk3\\src\\chapters\n",
      "['c:\\\\Users\\\\nonel\\\\Python\\\\pythonk3\\\\src\\\\chapters', 'c:\\\\Python311\\\\python311.zip', 'c:\\\\Python311\\\\DLLs', 'c:\\\\Python311\\\\Lib', 'c:\\\\Python311', '', 'C:\\\\Users\\\\nonel\\\\AppData\\\\Roaming\\\\Python\\\\Python311\\\\site-packages', 'C:\\\\Users\\\\nonel\\\\AppData\\\\Roaming\\\\Python\\\\Python311\\\\site-packages\\\\win32', 'C:\\\\Users\\\\nonel\\\\AppData\\\\Roaming\\\\Python\\\\Python311\\\\site-packages\\\\win32\\\\lib', 'C:\\\\Users\\\\nonel\\\\AppData\\\\Roaming\\\\Python\\\\Python311\\\\site-packages\\\\Pythonwin', 'c:\\\\Python311\\\\Lib\\\\site-packages']\n"
     ]
    }
   ],
   "source": [
    "import os, sys\n",
    "print(os.getcwd()) #현재 디렉토리 표시\n",
    "print(sys.path) #환경변수에 지정된 디렉토리\n"
   ]
  },
  {
   "cell_type": "code",
   "execution_count": 8,
   "metadata": {},
   "outputs": [
    {
     "name": "stdout",
     "output_type": "stream",
     "text": [
      "Hello, Alice!\n"
     ]
    }
   ],
   "source": [
    "# 사용자 정의 모듈\n",
    "\n",
    "# my_module.py\n",
    "\n",
    "# def greet(name):\n",
    "#     print(f\"Hello, {name}!\")\n",
    "\n",
    "\n",
    "# main.py\n",
    "\n",
    "import my_module\n",
    "\n",
    "my_module.greet(\"Alice\")  # \"Hello, Alice!\" 출력\n"
   ]
  },
  {
   "attachments": {},
   "cell_type": "markdown",
   "metadata": {},
   "source": [
    "## 사용자 정의 모듈\n",
    "* if __name__ == '__main__':의 기능\n",
    "    - 파이썬에서 스크립트를 실행할 때, 해당 모듈이 메인으로 실행되는 경우에만 코드를 실행하도록 하는 용도로 사용됩니다. \n",
    "    - 이 코드를 작성하면 해당 모듈이 다른 모듈에 의해 import 되어 사용될 때는 해당 코드가 실행되지 않습니다.\n",
    "\n",
    "    - a.py 모듈에서 b.py 모듈을 import 하여 사용한다고 가정해보겠습니다. 만약 b.py 모듈 내에 if name == 'main': 구문이 있다면, a.py 모듈에서 b.py 모듈을 import 해도 해당 구문은 실행되지 않습니다.\n",
    "\n",
    "    - 이러한 용도로 if name == 'main': 구문을 사용하는 이유는 보통 해당 모듈을 개발할 때 테스트 코드를 작성하여 테스트하는 경우가 많은데, 이 때 테스트 코드는 해당 모듈이 메인으로 실행되는 경우에만 실행되도록 하기 위해서 사용합니다. 또한, 다른 모듈에서 import 되었을 때는 실행되지 않기 때문에, 모듈에서 정의한 함수나 클래스 등을 다른 모듈에서도 사용할 수 있습니다.\n"
   ]
  },
  {
   "cell_type": "code",
   "execution_count": 9,
   "metadata": {},
   "outputs": [
    {
     "name": "stdout",
     "output_type": "stream",
     "text": [
      "8\n",
      "3\n"
     ]
    }
   ],
   "source": [
    "def add(a, b):\n",
    "    return a + b\n",
    "\n",
    "def subtract(a, b):\n",
    "    return a - b\n",
    "\n",
    "if __name__ == '__main__':\n",
    "    print(add(3, 5))\n",
    "    print(subtract(10, 7))\n",
    "\n",
    "# 이 모듈을 다른 모듈에서 import해서 사용할 경우 if __name__ == '__main__': 이하의 코드는 실행되지 않습니다. \n",
    "# 하지만 이 모듈을 스크립트로 직접 실행할 때는 if __name__ == '__main__': 이하의 코드가 실행됩니다.\n"
   ]
  },
  {
   "cell_type": "code",
   "execution_count": 11,
   "metadata": {},
   "outputs": [
    {
     "name": "stdout",
     "output_type": "stream",
     "text": [
      "30 -10\n"
     ]
    }
   ],
   "source": [
    "import my_module2\n",
    "\n",
    "a = my_module2.add(10, 20)\n",
    "b = my_module2.subtract(10, 20)\n",
    "\n",
    "print(a, b)"
   ]
  },
  {
   "attachments": {},
   "cell_type": "markdown",
   "metadata": {},
   "source": [
    "## 문제\n",
    "* 사용자 정의 모듈을 작성하여 간단한 수학 연산을 수행해 보세요.\n",
    "    - mymath.py라는 파일을 만들고, 이 파일에 사용자 정의 모듈을 작성하세요.\n",
    "    - 모듈에 다음 함수들을 구현하세요:\n",
    "        add(x, y): 두 숫자 x와 y를 더한 값을 반환합니다.\n",
    "        subtract(x, y): x에서 y를 뺀 값을 반환합니다.\n",
    "        multiply(x, y): x와 y를 곱한 값을 반환합니다.\n",
    "        divide(x, y): x를 y로 나눈 값을 반환합니다. 단, y가 0이면 \"0으로 나눌 수 없습니다.\"라는 메시지를 출력합니다.\n",
    "    - main.py라는 파일을 만들어 mymath 모듈을 임포트하고, 각 함수를 호출하여 결과를 출력하세요.\n",
    "\n"
   ]
  },
  {
   "cell_type": "code",
   "execution_count": 13,
   "metadata": {},
   "outputs": [
    {
     "name": "stdout",
     "output_type": "stream",
     "text": [
      "35 5 300 1.3333333333333333\n"
     ]
    }
   ],
   "source": [
    "import mymath\n",
    "\n",
    "a = mymath.add(20, 15)\n",
    "b = mymath.subtract(20, 15)\n",
    "c = mymath.multiply(20, 15)\n",
    "d = mymath.divide(20, 15)\n",
    "\n",
    "print(a, b, c, d)"
   ]
  },
  {
   "attachments": {},
   "cell_type": "markdown",
   "metadata": {},
   "source": [
    "## 유용한 모듈\n",
    "* 파이썬 내장 모듈\n",
    "    - 파이썬 인터프리터와 함께 제공되는 모듈\n",
    "    - https://docs.python.org/ko/3/ 에서 내장 모듈에 대한 자세한 설명을 볼 수 있다.\n",
    "    - https://docs.python.org/3/download.html 에서 내장 라이브러리에 대한 설명서를 다운로드 받을 수 있다.\n"
   ]
  },
  {
   "attachments": {},
   "cell_type": "markdown",
   "metadata": {},
   "source": [
    "* os: 운영 체제와 상호 작용하는 모듈\n",
    "* sys: 파이썬 인터프리터와 상호 작용하는 모듈\n",
    "* math: 수학 함수와 상수를 제공하는 모듈\n",
    "* random: 난수 생성과 관련된 모듈\n",
    "* datetime: 날짜와 시간을 다루는 모듈\n",
    "* calendar: 날짜와 관련된 다양한 기능 제공하는 모듈\n",
    "* json: JSON 데이터를 다루는 모듈\n",
    "* csv: CSV 파일을 다루는 모듈\n",
    "* re: 정규 표현식을 다루는 모듈\n",
    "* requests: HTTP 요청을 보내는 모듈\n",
    "* beautifulsoup4: HTML과 XML을 파싱하는 모듈\n",
    "* numpy: 과학 계산을 위한 모듈\n",
    "* pandas: 데이터 분석을 위한 모듈\n",
    "* matplotlib: 데이터 시각화를 위한 모듈"
   ]
  },
  {
   "attachments": {},
   "cell_type": "markdown",
   "metadata": {},
   "source": [
    "## os\n",
    "* os 모듈은 운영체제와 관련된 기능을 제공하는 파이썬 표준 라이브러리 중 하나입니다. 파일 및 디렉토리 관리, 환경 변수 접근, 프로세스 관리 등의 기능을 제공합니다.\n",
    "    - os.getcwd(): 현재 작업 디렉토리를 반환합니다.\n",
    "    - os.chdir(path): 현재 작업 디렉토리를 변경합니다.\n",
    "    - os.listdir(path='.'): 지정된 디렉토리에 있는 파일 및 디렉토리 목록을 반환합니다.\n",
    "    - os.mkdir(path): 새 디렉토리를 만듭니다.\n",
    "    - os.rmdir(path): 지정된 디렉토리를 삭제합니다.\n",
    "    - os.path.join(path1[, path2[, ...]]): 지정된 경로 요소를 결합하여 경로를 구성합니다.\n",
    "    - os.path.isfile(path): 지정된 경로가 파일인 경우 True를 반환합니다.\n",
    "    - os.path.isdir(path): 지정된 경로가 디렉토리인 경우 True를 반환합니다.\n",
    "    - os.path.exists(path): 지정된 경로가 존재하는 경우 True를 반환합니다.\n",
    "    - os.remove(path): 파일을 삭제합니다.\n",
    "\n"
   ]
  },
  {
   "cell_type": "code",
   "execution_count": 14,
   "metadata": {},
   "outputs": [
    {
     "name": "stdout",
     "output_type": "stream",
     "text": [
      "현재 작업 디렉토리: c:\\Users\\nonel\\Python\\pythonk3\\src\\chapters\n",
      "새로운 디렉토리 'new_directory'가 생성되었습니다.\n",
      "'new_file.txt' 파일이 'new_directory' 디렉토리 내에 생성되었습니다.\n",
      "'new_directory' 디렉토리 내의 파일 및 디렉토리 목록: ['new_file.txt']\n",
      "'new_directory\\new_file.txt'는 파일입니다.\n",
      "'new_file.txt' 파일이 삭제되었습니다.\n",
      "'new_directory' 디렉토리가 삭제되었습니다.\n"
     ]
    }
   ],
   "source": [
    "import os\n",
    "\n",
    "# 현재 작업 디렉토리 확인\n",
    "current_dir = os.getcwd()\n",
    "print(\"현재 작업 디렉토리:\", current_dir)\n",
    "\n",
    "# 새로운 디렉토리 생성\n",
    "new_dir = \"new_directory\"\n",
    "os.mkdir(new_dir)\n",
    "print(f\"새로운 디렉토리 '{new_dir}'가 생성되었습니다.\")\n",
    "\n",
    "# 생성한 디렉토리 내에 파일 생성\n",
    "new_file = \"new_file.txt\"\n",
    "with open(os.path.join(new_dir, new_file), \"w\") as f:\n",
    "    f.write(\"새로운 파일 내용\")\n",
    "print(f\"'{new_file}' 파일이 '{new_dir}' 디렉토리 내에 생성되었습니다.\")\n",
    "\n",
    "# 지정된 디렉토리의 파일 및 디렉토리 목록 확인\n",
    "list_dir = os.listdir(new_dir)\n",
    "print(f\"'{new_dir}' 디렉토리 내의 파일 및 디렉토리 목록: {list_dir}\")\n",
    "\n",
    "# 파일인지 디렉토리인지 확인\n",
    "for item in list_dir:\n",
    "    item_path = os.path.join(new_dir, item)\n",
    "    if os.path.isfile(item_path):\n",
    "        print(f\"'{item_path}'는 파일입니다.\")\n",
    "    elif os.path.isdir(item_path):\n",
    "        print(f\"'{item_path}'는 디렉토리입니다.\")\n",
    "\n",
    "# 파일 삭제\n",
    "os.remove(os.path.join(new_dir, new_file))\n",
    "print(f\"'{new_file}' 파일이 삭제되었습니다.\")\n",
    "\n",
    "# 디렉토리 삭제\n",
    "os.rmdir(new_dir)\n",
    "print(f\"'{new_dir}' 디렉토리가 삭제되었습니다.\")\n"
   ]
  },
  {
   "attachments": {},
   "cell_type": "markdown",
   "metadata": {},
   "source": [
    "## sys\n",
    "* 파이썬 인터프리터와 관련된 정보와 기능을 다루는 표준 라이브러리 중 하나입니다. sys 모듈은 파이썬 스크립트와 상호작용할 때 유용한 도구와 정보를 제공합니다.\n",
    "    - argv: 명령줄에서 전달된 인자들을 리스트 형태로 제공합니다. argv[0]은 스크립트 이름을 포함하고 있으며, 그 뒤로 사용자가 입력한 인자들이 순서대로 나열됩니다.\n",
    "    - path: 파이썬 모듈이 검색되는 디렉토리 경로들을 포함하는 리스트입니다. 이 리스트를 수정하여 모듈 검색 경로를 동적으로 변경할 수 있습니다.\n",
    "    - stdin, stdout, stderr: 표준 입출력 스트림에 대한 객체를 나타냅니다. 이 객체들을 사용하여 표준 입력, 출력 및 오류 스트림을 조작할 수 있습니다.\n",
    "    - exit([status]): 인자로 전달된 status 값에 따라 프로그램을 종료합니다. status 값이 없는 경우, 기본값은 0입니다. 이 함수는 스크립트를 중단하고 파이썬 인터프리터를 종료합니다.\n",
    "    - version: 파이썬 인터프리터의 버전 정보를 문자열로 제공합니다.\n",
    "    - getsizeof(object): 인자로 전달된 객체의 메모리 크기를 바이트 단위로 반환합니다.\n",
    "    - platform: 현재 실행 중인 시스템의 플랫폼 정보를 문자열로 제공합니다.\n",
    "\n"
   ]
  },
  {
   "cell_type": "code",
   "execution_count": 2,
   "metadata": {},
   "outputs": [
    {
     "name": "stdout",
     "output_type": "stream",
     "text": [
      "명령행 인자(argument) 리스트: ['C:\\\\Users\\\\nonel\\\\AppData\\\\Roaming\\\\Python\\\\Python311\\\\site-packages\\\\ipykernel_launcher.py', '--ip=127.0.0.1', '--stdin=9036', '--control=9034', '--hb=9033', '--Session.signature_scheme=\"hmac-sha256\"', '--Session.key=b\"576186a1-35bc-4cff-9ef0-dbf4de00ffce\"', '--shell=9035', '--transport=\"tcp\"', '--iopub=9037', '--f=c:\\\\Users\\\\nonel\\\\AppData\\\\Roaming\\\\jupyter\\\\runtime\\\\kernel-v2-16164Gx1gjU6c9cnC.json']\n",
      "a의 크기: 88\n",
      "표준 출력 테스트\n"
     ]
    },
    {
     "name": "stderr",
     "output_type": "stream",
     "text": [
      "표준 오류 출력 테스트\n"
     ]
    }
   ],
   "source": [
    "import sys\n",
    "\n",
    "# sys.argv 예시\n",
    "print(\"명령행 인자(argument) 리스트:\", sys.argv)\n",
    "\n",
    "# sys.getsizeof() 예시\n",
    "a = [1, 2, 3]\n",
    "print(\"a의 크기:\", sys.getsizeof(a))\n",
    "\n",
    "# sys.stdin, sys.stdout, sys.stderr 예시\n",
    "sys.stdout.write(\"표준 출력 테스트\\n\")\n",
    "sys.stderr.write(\"표준 오류 출력 테스트\\n\")\n",
    "input_data = sys.stdin.readline().strip() # VS Code 는 입력창이 나타나지 않음\n",
    "print(\"입력값:\", input_data)\n",
    "\n",
    "# sys.version, sys.platform 예시\n",
    "print(\"현재 파이썬 버전:\", sys.version)\n",
    "print(\"현재 시스템 플랫폼:\", sys.platform)\n",
    "\n",
    "# sys.path 예시\n",
    "print(\"모듈 검색 경로:\", sys.path)\n"
   ]
  },
  {
   "cell_type": "code",
   "execution_count": 1,
   "metadata": {},
   "outputs": [
    {
     "name": "stdout",
     "output_type": "stream",
     "text": [
      "메시지\n"
     ]
    }
   ],
   "source": [
    "msg = input(\"입력 테스트\") # VS Code 는 상단에 입력창이 나타남\n",
    "print(msg)"
   ]
  }
 ],
 "metadata": {
  "kernelspec": {
   "display_name": "Python 3",
   "language": "python",
   "name": "python3"
  },
  "language_info": {
   "codemirror_mode": {
    "name": "ipython",
    "version": 3
   },
   "file_extension": ".py",
   "mimetype": "text/x-python",
   "name": "python",
   "nbconvert_exporter": "python",
   "pygments_lexer": "ipython3",
   "version": "3.11.3"
  },
  "orig_nbformat": 4
 },
 "nbformat": 4,
 "nbformat_minor": 2
}
