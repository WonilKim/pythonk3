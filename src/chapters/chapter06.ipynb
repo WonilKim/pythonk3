{
 "cells": [
  {
   "attachments": {},
   "cell_type": "markdown",
   "metadata": {},
   "source": [
    "## 모듈\n",
    "* 모듈(Module)은 파이썬 코드의 집합을 의미하며, 함수, 변수, 클래스 등을 포함할 수 있습니다. \n",
    "* 모듈은 코드를 재사용하고, 유지보수를 용이하게 하며, 작업을 효율적으로 수행할 수 있도록 도와줍니다.\n",
    "\n",
    "* 모듈의 종류\n",
    "    - 표준 라이브러리 모듈(https://docs.python.org/3/py-modindex.html)\n",
    "    - 서드파티 모듈(https://pypi.org/)\n",
    "    - 사용자 정의 모듈\n",
    "\n",
    "* 표준 라이브러리 모듈은 파이썬에 기본으로 포함되어 있는 모듈이며, 서드파티 모듈은 외부에서 제공하는 모듈이며, pip 등의 패키지 관리자를 사용하여 설치할 수 있습니다.\n"
   ]
  },
  {
   "cell_type": "code",
   "execution_count": 2,
   "metadata": {},
   "outputs": [
    {
     "name": "stdout",
     "output_type": "stream",
     "text": [
      "Requirement already satisfied: numpy in c:\\python311\\lib\\site-packages (1.24.3)\n"
     ]
    },
    {
     "name": "stderr",
     "output_type": "stream",
     "text": [
      "\n",
      "[notice] A new release of pip available: 22.3.1 -> 23.1.2\n",
      "[notice] To update, run: python.exe -m pip install --upgrade pip\n"
     ]
    }
   ],
   "source": [
    "!pip install numpy\n"
   ]
  },
  {
   "cell_type": "code",
   "execution_count": 3,
   "metadata": {},
   "outputs": [
    {
     "name": "stdout",
     "output_type": "stream",
     "text": [
      "0.05106145558083197\n",
      "7\n"
     ]
    }
   ],
   "source": [
    "import random\n",
    "\n",
    "# 0 이상 1 미만의 난수 생성\n",
    "random_num = random.random()\n",
    "print(random_num)\n",
    "\n",
    "# 1 이상 10 미만의 정수 난수 생성\n",
    "random_int = random.randint(1, 10)\n",
    "print(random_int)\n"
   ]
  },
  {
   "cell_type": "code",
   "execution_count": 4,
   "metadata": {},
   "outputs": [
    {
     "name": "stdout",
     "output_type": "stream",
     "text": [
      "['BPF', 'LOG4', 'NV_MAGICCONST', 'RECIP_BPF', 'Random', 'SG_MAGICCONST', 'SystemRandom', 'TWOPI', '_ONE', '_Sequence', '_Set', '__all__', '__builtins__', '__cached__', '__doc__', '__file__', '__loader__', '__name__', '__package__', '__spec__', '_accumulate', '_acos', '_bisect', '_ceil', '_cos', '_e', '_exp', '_floor', '_index', '_inst', '_isfinite', '_log', '_os', '_pi', '_random', '_repeat', '_sha512', '_sin', '_sqrt', '_test', '_test_generator', '_urandom', '_warn', 'betavariate', 'choice', 'choices', 'expovariate', 'gammavariate', 'gauss', 'getrandbits', 'getstate', 'lognormvariate', 'normalvariate', 'paretovariate', 'randbytes', 'randint', 'random', 'randrange', 'sample', 'seed', 'setstate', 'shuffle', 'triangular', 'uniform', 'vonmisesvariate', 'weibullvariate']\n",
      "Help on method choice in module random:\n",
      "\n",
      "choice(seq) method of random.Random instance\n",
      "    Choose a random element from a non-empty sequence.\n",
      "\n",
      "None\n"
     ]
    }
   ],
   "source": [
    "import random\n",
    "\n",
    "# random 모듈 내에 포함된 변수, 함수, 클래스 등을 나열합니다.\n",
    "print(dir(random))\n",
    "\n",
    "# random 모듈 내에 포함된 choice 함수의 도움말을 출력합니다.\n",
    "print(help(random.choice))\n"
   ]
  },
  {
   "cell_type": "code",
   "execution_count": 5,
   "metadata": {},
   "outputs": [
    {
     "name": "stdout",
     "output_type": "stream",
     "text": [
      "2.0\n",
      "3.141592653589793\n",
      "3.0\n",
      "3.141592653589793\n",
      "1.0\n"
     ]
    }
   ],
   "source": [
    "# from import 방식\n",
    "from math import sqrt, pi\n",
    "\n",
    "print(sqrt(4))  # 출력 결과: 2.0\n",
    "print(pi)  # 출력 결과: 3.141592653589793\n",
    "\n",
    "# * 방식   \n",
    "from math import *\n",
    "\n",
    "print(sqrt(9))  # 출력 결과: 3.0\n",
    "print(pi)  # 출력 결과: 3.141592653589793\n",
    "print(sin(pi/2))  # 출력 결과: 1.0\n"
   ]
  },
  {
   "cell_type": "code",
   "execution_count": 6,
   "metadata": {},
   "outputs": [
    {
     "name": "stdout",
     "output_type": "stream",
     "text": [
      "2.0\n",
      "3.141592653589793\n"
     ]
    }
   ],
   "source": [
    "import math as m\n",
    "\n",
    "print(m.sqrt(4))  # 2.0\n",
    "print(m.pi)  # 3.141592653589793\n"
   ]
  },
  {
   "attachments": {},
   "cell_type": "markdown",
   "metadata": {},
   "source": [
    "## 모듈 불러오기\n",
    "* 모듈 탐색 우선순위\n",
    "    1. 현재 작업 디렉토리 (os.getcwd()로 확인 가능)\n",
    "    2. PYTHONPATH 환경 변수에 지정된 디렉토리\n",
    "    3. 표준 라이브러리 디렉토리\n",
    "    4. site-packages 디렉토리\n",
    "\n",
    "* 이 중에서 가장 먼저 발견된 모듈이 사용되며, 나머지는 무시됩니다.\n",
    "\n",
    "* sys.path\n",
    "    - 현재 파이썬 인터프리터가 모듈을 검색할 경로들을 담고 있는 리스트입니다.\n",
    "* 현재의 디렉토리와 시스템 경로 변수 출력하기\n",
    "\n"
   ]
  },
  {
   "cell_type": "code",
   "execution_count": 7,
   "metadata": {},
   "outputs": [
    {
     "name": "stdout",
     "output_type": "stream",
     "text": [
      "c:\\Users\\nonel\\Python\\pythonk3\\src\\chapters\n",
      "['c:\\\\Users\\\\nonel\\\\Python\\\\pythonk3\\\\src\\\\chapters', 'c:\\\\Python311\\\\python311.zip', 'c:\\\\Python311\\\\DLLs', 'c:\\\\Python311\\\\Lib', 'c:\\\\Python311', '', 'C:\\\\Users\\\\nonel\\\\AppData\\\\Roaming\\\\Python\\\\Python311\\\\site-packages', 'C:\\\\Users\\\\nonel\\\\AppData\\\\Roaming\\\\Python\\\\Python311\\\\site-packages\\\\win32', 'C:\\\\Users\\\\nonel\\\\AppData\\\\Roaming\\\\Python\\\\Python311\\\\site-packages\\\\win32\\\\lib', 'C:\\\\Users\\\\nonel\\\\AppData\\\\Roaming\\\\Python\\\\Python311\\\\site-packages\\\\Pythonwin', 'c:\\\\Python311\\\\Lib\\\\site-packages']\n"
     ]
    }
   ],
   "source": [
    "import os, sys\n",
    "print(os.getcwd()) #현재 디렉토리 표시\n",
    "print(sys.path) #환경변수에 지정된 디렉토리\n"
   ]
  },
  {
   "cell_type": "code",
   "execution_count": 8,
   "metadata": {},
   "outputs": [
    {
     "name": "stdout",
     "output_type": "stream",
     "text": [
      "Hello, Alice!\n"
     ]
    }
   ],
   "source": [
    "# 사용자 정의 모듈\n",
    "\n",
    "# my_module.py\n",
    "\n",
    "# def greet(name):\n",
    "#     print(f\"Hello, {name}!\")\n",
    "\n",
    "\n",
    "# main.py\n",
    "\n",
    "import my_module\n",
    "\n",
    "my_module.greet(\"Alice\")  # \"Hello, Alice!\" 출력\n"
   ]
  },
  {
   "attachments": {},
   "cell_type": "markdown",
   "metadata": {},
   "source": [
    "## 사용자 정의 모듈\n",
    "* if __name__ == '__main__':의 기능\n",
    "    - 파이썬에서 스크립트를 실행할 때, 해당 모듈이 메인으로 실행되는 경우에만 코드를 실행하도록 하는 용도로 사용됩니다. \n",
    "    - 이 코드를 작성하면 해당 모듈이 다른 모듈에 의해 import 되어 사용될 때는 해당 코드가 실행되지 않습니다.\n",
    "\n",
    "    - a.py 모듈에서 b.py 모듈을 import 하여 사용한다고 가정해보겠습니다. 만약 b.py 모듈 내에 if name == 'main': 구문이 있다면, a.py 모듈에서 b.py 모듈을 import 해도 해당 구문은 실행되지 않습니다.\n",
    "\n",
    "    - 이러한 용도로 if name == 'main': 구문을 사용하는 이유는 보통 해당 모듈을 개발할 때 테스트 코드를 작성하여 테스트하는 경우가 많은데, 이 때 테스트 코드는 해당 모듈이 메인으로 실행되는 경우에만 실행되도록 하기 위해서 사용합니다. 또한, 다른 모듈에서 import 되었을 때는 실행되지 않기 때문에, 모듈에서 정의한 함수나 클래스 등을 다른 모듈에서도 사용할 수 있습니다.\n"
   ]
  },
  {
   "cell_type": "code",
   "execution_count": 9,
   "metadata": {},
   "outputs": [
    {
     "name": "stdout",
     "output_type": "stream",
     "text": [
      "8\n",
      "3\n"
     ]
    }
   ],
   "source": [
    "def add(a, b):\n",
    "    return a + b\n",
    "\n",
    "def subtract(a, b):\n",
    "    return a - b\n",
    "\n",
    "if __name__ == '__main__':\n",
    "    print(add(3, 5))\n",
    "    print(subtract(10, 7))\n",
    "\n",
    "# 이 모듈을 다른 모듈에서 import해서 사용할 경우 if __name__ == '__main__': 이하의 코드는 실행되지 않습니다. \n",
    "# 하지만 이 모듈을 스크립트로 직접 실행할 때는 if __name__ == '__main__': 이하의 코드가 실행됩니다.\n"
   ]
  },
  {
   "cell_type": "code",
   "execution_count": 11,
   "metadata": {},
   "outputs": [
    {
     "name": "stdout",
     "output_type": "stream",
     "text": [
      "30 -10\n"
     ]
    }
   ],
   "source": [
    "import my_module2\n",
    "\n",
    "a = my_module2.add(10, 20)\n",
    "b = my_module2.subtract(10, 20)\n",
    "\n",
    "print(a, b)"
   ]
  },
  {
   "attachments": {},
   "cell_type": "markdown",
   "metadata": {},
   "source": [
    "## 문제\n",
    "* 사용자 정의 모듈을 작성하여 간단한 수학 연산을 수행해 보세요.\n",
    "    - mymath.py라는 파일을 만들고, 이 파일에 사용자 정의 모듈을 작성하세요.\n",
    "    - 모듈에 다음 함수들을 구현하세요:\n",
    "        add(x, y): 두 숫자 x와 y를 더한 값을 반환합니다.\n",
    "        subtract(x, y): x에서 y를 뺀 값을 반환합니다.\n",
    "        multiply(x, y): x와 y를 곱한 값을 반환합니다.\n",
    "        divide(x, y): x를 y로 나눈 값을 반환합니다. 단, y가 0이면 \"0으로 나눌 수 없습니다.\"라는 메시지를 출력합니다.\n",
    "    - main.py라는 파일을 만들어 mymath 모듈을 임포트하고, 각 함수를 호출하여 결과를 출력하세요.\n",
    "\n"
   ]
  },
  {
   "cell_type": "code",
   "execution_count": 13,
   "metadata": {},
   "outputs": [
    {
     "name": "stdout",
     "output_type": "stream",
     "text": [
      "35 5 300 1.3333333333333333\n"
     ]
    }
   ],
   "source": [
    "import mymath\n",
    "\n",
    "a = mymath.add(20, 15)\n",
    "b = mymath.subtract(20, 15)\n",
    "c = mymath.multiply(20, 15)\n",
    "d = mymath.divide(20, 15)\n",
    "\n",
    "print(a, b, c, d)"
   ]
  },
  {
   "attachments": {},
   "cell_type": "markdown",
   "metadata": {},
   "source": [
    "## 유용한 모듈\n",
    "* 파이썬 내장 모듈\n",
    "    - 파이썬 인터프리터와 함께 제공되는 모듈\n",
    "    - https://docs.python.org/ko/3/ 에서 내장 모듈에 대한 자세한 설명을 볼 수 있다.\n",
    "    - https://docs.python.org/3/download.html 에서 내장 라이브러리에 대한 설명서를 다운로드 받을 수 있다.\n"
   ]
  },
  {
   "attachments": {},
   "cell_type": "markdown",
   "metadata": {},
   "source": [
    "* os: 운영 체제와 상호 작용하는 모듈\n",
    "* sys: 파이썬 인터프리터와 상호 작용하는 모듈\n",
    "* math: 수학 함수와 상수를 제공하는 모듈\n",
    "* random: 난수 생성과 관련된 모듈\n",
    "* datetime: 날짜와 시간을 다루는 모듈\n",
    "* calendar: 날짜와 관련된 다양한 기능 제공하는 모듈\n",
    "* json: JSON 데이터를 다루는 모듈\n",
    "* csv: CSV 파일을 다루는 모듈\n",
    "* re: 정규 표현식을 다루는 모듈\n",
    "* requests: HTTP 요청을 보내는 모듈\n",
    "* beautifulsoup4: HTML과 XML을 파싱하는 모듈\n",
    "* numpy: 과학 계산을 위한 모듈\n",
    "* pandas: 데이터 분석을 위한 모듈\n",
    "* matplotlib: 데이터 시각화를 위한 모듈"
   ]
  },
  {
   "attachments": {},
   "cell_type": "markdown",
   "metadata": {},
   "source": [
    "## os\n",
    "* os 모듈은 운영체제와 관련된 기능을 제공하는 파이썬 표준 라이브러리 중 하나입니다. 파일 및 디렉토리 관리, 환경 변수 접근, 프로세스 관리 등의 기능을 제공합니다.\n",
    "    - os.getcwd(): 현재 작업 디렉토리를 반환합니다.\n",
    "    - os.chdir(path): 현재 작업 디렉토리를 변경합니다.\n",
    "    - os.listdir(path='.'): 지정된 디렉토리에 있는 파일 및 디렉토리 목록을 반환합니다.\n",
    "    - os.mkdir(path): 새 디렉토리를 만듭니다.\n",
    "    - os.rmdir(path): 지정된 디렉토리를 삭제합니다.\n",
    "    - os.path.join(path1[, path2[, ...]]): 지정된 경로 요소를 결합하여 경로를 구성합니다.\n",
    "    - os.path.isfile(path): 지정된 경로가 파일인 경우 True를 반환합니다.\n",
    "    - os.path.isdir(path): 지정된 경로가 디렉토리인 경우 True를 반환합니다.\n",
    "    - os.path.exists(path): 지정된 경로가 존재하는 경우 True를 반환합니다.\n",
    "    - os.remove(path): 파일을 삭제합니다.\n",
    "\n"
   ]
  },
  {
   "cell_type": "code",
   "execution_count": 14,
   "metadata": {},
   "outputs": [
    {
     "name": "stdout",
     "output_type": "stream",
     "text": [
      "현재 작업 디렉토리: c:\\Users\\nonel\\Python\\pythonk3\\src\\chapters\n",
      "새로운 디렉토리 'new_directory'가 생성되었습니다.\n",
      "'new_file.txt' 파일이 'new_directory' 디렉토리 내에 생성되었습니다.\n",
      "'new_directory' 디렉토리 내의 파일 및 디렉토리 목록: ['new_file.txt']\n",
      "'new_directory\\new_file.txt'는 파일입니다.\n",
      "'new_file.txt' 파일이 삭제되었습니다.\n",
      "'new_directory' 디렉토리가 삭제되었습니다.\n"
     ]
    }
   ],
   "source": [
    "import os\n",
    "\n",
    "# 현재 작업 디렉토리 확인\n",
    "current_dir = os.getcwd()\n",
    "print(\"현재 작업 디렉토리:\", current_dir)\n",
    "\n",
    "# 새로운 디렉토리 생성\n",
    "new_dir = \"new_directory\"\n",
    "os.mkdir(new_dir)\n",
    "print(f\"새로운 디렉토리 '{new_dir}'가 생성되었습니다.\")\n",
    "\n",
    "# 생성한 디렉토리 내에 파일 생성\n",
    "new_file = \"new_file.txt\"\n",
    "with open(os.path.join(new_dir, new_file), \"w\") as f:\n",
    "    f.write(\"새로운 파일 내용\")\n",
    "print(f\"'{new_file}' 파일이 '{new_dir}' 디렉토리 내에 생성되었습니다.\")\n",
    "\n",
    "# 지정된 디렉토리의 파일 및 디렉토리 목록 확인\n",
    "list_dir = os.listdir(new_dir)\n",
    "print(f\"'{new_dir}' 디렉토리 내의 파일 및 디렉토리 목록: {list_dir}\")\n",
    "\n",
    "# 파일인지 디렉토리인지 확인\n",
    "for item in list_dir:\n",
    "    item_path = os.path.join(new_dir, item)\n",
    "    if os.path.isfile(item_path):\n",
    "        print(f\"'{item_path}'는 파일입니다.\")\n",
    "    elif os.path.isdir(item_path):\n",
    "        print(f\"'{item_path}'는 디렉토리입니다.\")\n",
    "\n",
    "# 파일 삭제\n",
    "os.remove(os.path.join(new_dir, new_file))\n",
    "print(f\"'{new_file}' 파일이 삭제되었습니다.\")\n",
    "\n",
    "# 디렉토리 삭제\n",
    "os.rmdir(new_dir)\n",
    "print(f\"'{new_dir}' 디렉토리가 삭제되었습니다.\")\n"
   ]
  },
  {
   "attachments": {},
   "cell_type": "markdown",
   "metadata": {},
   "source": [
    "## sys\n",
    "* 파이썬 인터프리터와 관련된 정보와 기능을 다루는 표준 라이브러리 중 하나입니다. sys 모듈은 파이썬 스크립트와 상호작용할 때 유용한 도구와 정보를 제공합니다.\n",
    "    - argv: 명령줄에서 전달된 인자들을 리스트 형태로 제공합니다. argv[0]은 스크립트 이름을 포함하고 있으며, 그 뒤로 사용자가 입력한 인자들이 순서대로 나열됩니다.\n",
    "    - path: 파이썬 모듈이 검색되는 디렉토리 경로들을 포함하는 리스트입니다. 이 리스트를 수정하여 모듈 검색 경로를 동적으로 변경할 수 있습니다.\n",
    "    - stdin, stdout, stderr: 표준 입출력 스트림에 대한 객체를 나타냅니다. 이 객체들을 사용하여 표준 입력, 출력 및 오류 스트림을 조작할 수 있습니다.\n",
    "    - exit([status]): 인자로 전달된 status 값에 따라 프로그램을 종료합니다. status 값이 없는 경우, 기본값은 0입니다. 이 함수는 스크립트를 중단하고 파이썬 인터프리터를 종료합니다.\n",
    "    - version: 파이썬 인터프리터의 버전 정보를 문자열로 제공합니다.\n",
    "    - getsizeof(object): 인자로 전달된 객체의 메모리 크기를 바이트 단위로 반환합니다.\n",
    "    - platform: 현재 실행 중인 시스템의 플랫폼 정보를 문자열로 제공합니다.\n",
    "\n"
   ]
  },
  {
   "cell_type": "code",
   "execution_count": 2,
   "metadata": {},
   "outputs": [
    {
     "name": "stdout",
     "output_type": "stream",
     "text": [
      "명령행 인자(argument) 리스트: ['C:\\\\Users\\\\nonel\\\\AppData\\\\Roaming\\\\Python\\\\Python311\\\\site-packages\\\\ipykernel_launcher.py', '--ip=127.0.0.1', '--stdin=9036', '--control=9034', '--hb=9033', '--Session.signature_scheme=\"hmac-sha256\"', '--Session.key=b\"576186a1-35bc-4cff-9ef0-dbf4de00ffce\"', '--shell=9035', '--transport=\"tcp\"', '--iopub=9037', '--f=c:\\\\Users\\\\nonel\\\\AppData\\\\Roaming\\\\jupyter\\\\runtime\\\\kernel-v2-16164Gx1gjU6c9cnC.json']\n",
      "a의 크기: 88\n",
      "표준 출력 테스트\n"
     ]
    },
    {
     "name": "stderr",
     "output_type": "stream",
     "text": [
      "표준 오류 출력 테스트\n"
     ]
    }
   ],
   "source": [
    "import sys\n",
    "\n",
    "# sys.argv 예시\n",
    "print(\"명령행 인자(argument) 리스트:\", sys.argv)\n",
    "\n",
    "# sys.getsizeof() 예시\n",
    "a = [1, 2, 3]\n",
    "print(\"a의 크기:\", sys.getsizeof(a))\n",
    "\n",
    "# sys.stdin, sys.stdout, sys.stderr 예시\n",
    "sys.stdout.write(\"표준 출력 테스트\\n\")\n",
    "sys.stderr.write(\"표준 오류 출력 테스트\\n\")\n",
    "input_data = sys.stdin.readline().strip() # VS Code 는 입력창이 나타나지 않음\n",
    "print(\"입력값:\", input_data)\n",
    "\n",
    "# sys.version, sys.platform 예시\n",
    "print(\"현재 파이썬 버전:\", sys.version)\n",
    "print(\"현재 시스템 플랫폼:\", sys.platform)\n",
    "\n",
    "# sys.path 예시\n",
    "print(\"모듈 검색 경로:\", sys.path)\n"
   ]
  },
  {
   "cell_type": "code",
   "execution_count": 1,
   "metadata": {},
   "outputs": [
    {
     "name": "stdout",
     "output_type": "stream",
     "text": [
      "메시지\n"
     ]
    }
   ],
   "source": [
    "msg = input(\"입력 테스트\") # VS Code 는 상단에 입력창이 나타남\n",
    "print(msg)"
   ]
  },
  {
   "attachments": {},
   "cell_type": "markdown",
   "metadata": {},
   "source": [
    "## math\n",
    "* math 모듈은 수학적인 함수들과 상수들을 제공하는 표준 라이브러리입니다. \n",
    "    1. 상수:\n",
    "        - math.pi: 원주율 π 값을 나타냅니다.\n",
    "        - math.e: 자연 상수 e 값을 나타냅니다.\n",
    "        - math.tau: τ(타우) 값으로, 2π에 해당하는 값을 나타냅니다.\n",
    "        - math.inf: 무한대 값을 나타냅니다.\n",
    "        - math.nan: 'Not a Number' 값을 나타냅니다.\n",
    "    2. 삼각함수:\n",
    "        - math.sin(x): x 라디안에 대한 사인 값을 계산합니다.\n",
    "        - math.cos(x): x 라디안에 대한 코사인 값을 계산합니다.\n",
    "        - math.tan(x): x 라디안에 대한 탄젠트 값을 계산합니다.\n",
    "        - math.asin(x): x 값에 대한 아크사인 값을 라디안으로 계산합니다.\n",
    "        - math.acos(x): x 값에 대한 아크코사인 값을 라디안으로 계산합니다.\n",
    "        - math.atan(x): x 값에 대한 아크탄젠트 값을 라디안으로 계산합니다.\n",
    "    3. 지수 및 로그 함수:\n",
    "        - math.exp(x): e^x 값을 계산합니다.\n",
    "        - math.log(x[, base]): x에 대한 로그 값을 계산합니다. 기본적으로 자연 로그를 계산하며, base 인자를 제공하면 해당 밑으로 로그 값을 계산합니다.\n",
    "        - math.log10(x): x에 대한 상용 로그 값을 계산합니다.\n",
    "        - math.log2(x): x에 대한 이진 로그 값을 계산합니다.\n",
    "        - math.pow(x, y): x의 y 거듭제곱 값을 계산합니다.\n",
    "        - math.sqrt(x): x의 제곱근 값을 계산합니다.\n",
    "    4. 반올림 및 절댓값 함수:\n",
    "        - math.ceil(x): x 이상의 가장 작은 정수 값을 반환합니다.\n",
    "        - math.floor(x): x 이하의 가장 큰 정수 값을 반환합니다.\n",
    "        - math.trunc(x): x의 정수 부분만 반환합니다.\n",
    "        - math.fabs(x): x의 절댓값을 반환합니다.\n",
    "    5. 기타 함수:\n",
    "        - math.radians(x): 각도 x를 라디안으로 변환합니다.\n",
    "        - math.degrees(x): 라디안 각도 x를 도로 변환합니다.\n",
    "        - math.factorial(x): x의 팩토리얼 값을 계산합니다.\n",
    "        - math.gcd(a, b): a와 b의 최대공약수를 계산합니다.\n",
    "        - math.isclose(a, b, *, rel_tol=1e-09, abs_tol=0.0): 두 수치 값 a와 b가 근사적으로 같은지 여부를 판별합니다.\n",
    "\n"
   ]
  },
  {
   "cell_type": "code",
   "execution_count": 1,
   "metadata": {},
   "outputs": [
    {
     "name": "stdout",
     "output_type": "stream",
     "text": [
      "4\n",
      "-3\n",
      "3\n",
      "-4\n",
      "3\n",
      "-3\n",
      "4\n",
      "-4\n",
      "3\n",
      "-3\n",
      "3.2\n",
      "3.2\n",
      "3.2\n",
      "3.2\n"
     ]
    }
   ],
   "source": [
    "import math\n",
    "\n",
    "# 반올림 함수\n",
    "print(math.ceil(3.2))    # 결과: 4\n",
    "print(math.ceil(-3.2))   # 결과: -3\n",
    "\n",
    "print(math.floor(3.2))   # 결과: 3\n",
    "print(math.floor(-3.2))  # 결과: -4\n",
    "\n",
    "print(round(3.2))        # 결과: 3\n",
    "print(round(-3.2))       # 결과: -3\n",
    "print(round(3.5))        # 결과: 4\n",
    "print(round(-3.5))       # 결과: -4\n",
    "\n",
    "print(math.trunc(3.7))    # 결과: 3\n",
    "print(math.trunc(-3.7))   # 결과: -3\n",
    "\n",
    "# 절댓값 함수\n",
    "print(abs(3.2))          # 결과: 3.2\n",
    "print(abs(-3.2))         # 결과: 3.2\n",
    "\n",
    "print(math.fabs(3.2))     # 결과: 3.2\n",
    "print(math.fabs(-3.2))    # 결과: 3.2\n"
   ]
  },
  {
   "attachments": {},
   "cell_type": "markdown",
   "metadata": {},
   "source": [
    "## datetime\n",
    "\n",
    "* datetime 모듈은 파이썬에서 날짜와 시간을 처리하기 위한 기본 라이브러리입니다. 이 모듈은 다양한 클래스와 함수를 제공하여 날짜와 시간을 표현하고, 연산하고, 포맷팅할 수 있습니다.\n",
    "    - datetime 클래스: 날짜와 시간 정보를 담는 객체\n",
    "    - date 클래스: 날짜 정보를 담는 객체\n",
    "    - time 클래스: 시간 정보를 담는 객체\n",
    "    - timedelta 클래스: 두 날짜나 시간 간의 차이를 나타내는 객체\n",
    "    - timezone 클래스: 시간대 정보를 나타내는 객체\n",
    "    - datetime.strptime(): 문자열을 datetime 객체로 변환\n",
    "    - datetime.strftime(): datetime 객체를 문자열로 변환\n",
    "    - datetime.now(): 현재 시간을 나타내는 datetime 객체를 반환\n",
    "    - datetime.date(year, month, day): 지정한 날짜 정보를 가진 date 객체를 반환\n",
    "    - datetime.time(hour=0, minute=0, second=0, microsecond=0, tzinfo=None, *, fold=0): 지정한 시간 정보를 가진 time 객체를 반환\n",
    "    - datetime.datetime(year, month, day, hour=0, minute=0, second=0, microsecond=0, tzinfo=None, *, fold=0): 지정한 날짜와 시간 정보를 가진 datetime 객체를 반환\n",
    "    - datetime.timedelta(days=0, seconds=0, microseconds=0, milliseconds=0, minutes=0, hours=0, weeks=0): 지정한 시간 간격을 나타내는 timedelta 객체를 반환\n",
    "    - datetime.timezone(offset, name=None): 지정한 UTC 시간과의 시간 차이(offset)와 이름(name) 정보를 가진 timezone 객체를 반환\n",
    "    - datetime.datetime.timestamp(): datetime 객체를 POSIX 시간(1970년 1월 1일 0시 0분 0초부터 경과한 시간)으로 변환\n",
    "    - datetime.datetime.fromtimestamp(timestamp, tz=None): POSIX 시간을 datetime 객체로 변환\n",
    "\n"
   ]
  },
  {
   "cell_type": "code",
   "execution_count": 2,
   "metadata": {},
   "outputs": [
    {
     "name": "stdout",
     "output_type": "stream",
     "text": [
      "현재 시간: 2023-06-09 13:06:49.961197\n",
      "직접 지정한 datetime 객체: 2022-03-11 13:30:00\n",
      "date 객체: 2022-03-11\n",
      "년: 2022\n",
      "월: 3\n",
      "일: 11\n",
      "time 객체: 13:30:00\n",
      "시: 13\n",
      "분: 30\n",
      "초: 0\n",
      "날짜 차이: 10 days, 0:00:00\n",
      "일수 차이: 10\n",
      "시간 차이: 3:30:00\n",
      "총 분: 210.0\n",
      "포맷 지정된 날짜: 2023-06-09\n",
      "포맷 지정된 시간: 13:06:49\n",
      "포맷 지정된 datetime: 2023-06-09 13:06:49\n"
     ]
    }
   ],
   "source": [
    "import datetime\n",
    "\n",
    "# 현재 시간 정보 가져오기\n",
    "now = datetime.datetime.now()\n",
    "print(\"현재 시간:\", now)\n",
    "\n",
    "# 시간 정보를 직접 지정해서 datetime 객체 생성하기\n",
    "dt = datetime.datetime(2022, 3, 11, 13, 30, 0)\n",
    "print(\"직접 지정한 datetime 객체:\", dt)\n",
    "\n",
    "# datetime 객체에서 날짜 정보 가져오기\n",
    "date = dt.date()\n",
    "print(\"date 객체:\", date)\n",
    "print(\"년:\", date.year)\n",
    "print(\"월:\", date.month)\n",
    "print(\"일:\", date.day)\n",
    "\n",
    "# datetime 객체에서 시간 정보 가져오기\n",
    "time = dt.time()\n",
    "print(\"time 객체:\", time)\n",
    "print(\"시:\", time.hour)\n",
    "print(\"분:\", time.minute)\n",
    "print(\"초:\", time.second)\n",
    "\n",
    "# 날짜 간의 차이 계산하기\n",
    "date1 = datetime.date(2022, 3, 1)\n",
    "date2 = datetime.date(2022, 3, 11)\n",
    "delta = date2 - date1\n",
    "print(\"날짜 차이:\", delta)\n",
    "print(\"일수 차이:\", delta.days)\n",
    "\n",
    "# timedelta를 이용한 시간 간의 차이 계산하기\n",
    "td = datetime.timedelta(hours=3, minutes=30)\n",
    "print(\"시간 차이:\", td)\n",
    "print(\"총 분:\", td.total_seconds() / 60)\n",
    "\n",
    "# 날짜/시간 포맷 지정하기\n",
    "formatted_date = now.strftime(\"%Y-%m-%d\")\n",
    "formatted_time = now.strftime(\"%H:%M:%S\")\n",
    "formatted_datetime = now.strftime(\"%Y-%m-%d %H:%M:%S\")\n",
    "print(\"포맷 지정된 날짜:\", formatted_date)\n",
    "print(\"포맷 지정된 시간:\", formatted_time)\n",
    "print(\"포맷 지정된 datetime:\", formatted_datetime)\n"
   ]
  },
  {
   "cell_type": "code",
   "execution_count": 3,
   "metadata": {},
   "outputs": [
    {
     "name": "stdout",
     "output_type": "stream",
     "text": [
      "100일 후: 2023-09-17\n",
      "1000일 후: 2026-03-05\n"
     ]
    }
   ],
   "source": [
    "# 현재 날짜에서 100일, 1000일 후의 날짜를 계산하기\n",
    "\n",
    "import datetime\n",
    "\n",
    "# 현재 날짜\n",
    "today = datetime.date.today()\n",
    "\n",
    "# 100일 후의 날짜\n",
    "hundred_days_later = today + datetime.timedelta(days=100)\n",
    "\n",
    "# 1000일 후의 날짜\n",
    "thousand_days_later = today + datetime.timedelta(days=1000)\n",
    "\n",
    "# 결과 출력\n",
    "print(\"100일 후:\", hundred_days_later)\n",
    "print(\"1000일 후:\", thousand_days_later)\n"
   ]
  },
  {
   "attachments": {},
   "cell_type": "markdown",
   "metadata": {},
   "source": [
    "## calendar\n",
    "* calendar 모듈은 날짜와 관련된 다양한 기능을 제공합니다. \n"
   ]
  },
  {
   "cell_type": "code",
   "execution_count": 4,
   "metadata": {},
   "outputs": [
    {
     "name": "stdout",
     "output_type": "stream",
     "text": [
      "2023년 3월의 달력:\n",
      "     March 2023\n",
      "Mo Tu We Th Fr Sa Su\n",
      "       1  2  3  4  5\n",
      " 6  7  8  9 10 11 12\n",
      "13 14 15 16 17 18 19\n",
      "20 21 22 23 24 25 26\n",
      "27 28 29 30 31\n",
      "\n",
      "2023년 3월 15일은 요일 인덱스 2에 해당하는 요일입니다.\n",
      "2023년 3월 15일은 Wednesday입니다.\n"
     ]
    }
   ],
   "source": [
    "import calendar\n",
    "\n",
    "# 2023년 3월의 달력을 출력합니다.\n",
    "print(\"2023년 3월의 달력:\")\n",
    "print(calendar.month(2023, 3))\n",
    "\n",
    "# 2023년 3월 15일의 요일을 확인합니다. (월요일: 0, 화요일: 1, ..., 일요일: 6)\n",
    "year = 2023\n",
    "month = 3\n",
    "day = 15\n",
    "weekday = calendar.weekday(year, month, day)\n",
    "print(\"2023년 3월 15일은 요일 인덱스 {}에 해당하는 요일입니다.\".format(weekday))\n",
    "\n",
    "# 요일 인덱스를 사용하여 요일 이름을 가져옵니다.\n",
    "weekday_name = calendar.day_name[weekday]\n",
    "print(\"2023년 3월 15일은 {}입니다.\".format(weekday_name))\n"
   ]
  },
  {
   "attachments": {},
   "cell_type": "markdown",
   "metadata": {},
   "source": [
    "## numpy\n",
    "* 파이썬에서 수치 계산을 위한 핵심 라이브러리입니다. NumPy는 고성능의 다차원 배열 객체와 이러한 배열을 처리할 수 있는 다양한 함수를 제공합니다. NumPy는 선형 대수, 통계, 난수 생성, 푸리에 변환 등과 같은 많은 수치 계산 기능을 포함하며, 다른 과학적 계산용 라이브러리들 (SciPy, pandas, scikit-learn 등)의 기본이 되기도 합니다.\n",
    "    - 다차원 배열 객체(numpy.ndarray)\n",
    "    - 배열 생성 함수(numpy.array(), numpy.zeros(), numpy.ones(), numpy.arange(), numpy.linspace() 등)\n",
    "    - 배열 복사 함수(numpy.copy(), numpy.view() 등)\n",
    "    - 배열 변형 함수(numpy.reshape(), numpy.transpose(), numpy.ravel() 등)\n",
    "    - 배열 연산 함수(numpy.add(), numpy.subtract(), numpy.multiply(), numpy.divide() 등)\n",
    "    - 집계 함수(numpy.sum(), numpy.mean(), numpy.std(), numpy.min(), numpy.max() 등)\n",
    "    - 선형 대수 연산 함수(numpy.dot(), numpy.matmul(), numpy.linalg.inv() 등)\n",
    "    - 난수 생성 함수(numpy.random.rand(), numpy.random.randint(), numpy.random.normal() 등)\n",
    "\n"
   ]
  },
  {
   "cell_type": "code",
   "execution_count": 5,
   "metadata": {},
   "outputs": [
    {
     "name": "stdout",
     "output_type": "stream",
     "text": [
      "[1 2 3]\n",
      "[[1 2]\n",
      " [3 4]\n",
      " [5 6]]\n"
     ]
    }
   ],
   "source": [
    "import numpy as np\n",
    "\n",
    "# 1차원 배열 생성\n",
    "a = np.array([1, 2, 3])\n",
    "print(a)  # [1 2 3]\n",
    "\n",
    "# 2차원 배열 생성\n",
    "b = np.array([[1, 2], [3, 4], [5, 6]])\n",
    "print(b)\n",
    "# [[1 2]\n",
    "#  [3 4]\n",
    "#  [5 6]]\n"
   ]
  },
  {
   "cell_type": "code",
   "execution_count": 6,
   "metadata": {},
   "outputs": [
    {
     "name": "stdout",
     "output_type": "stream",
     "text": [
      "[5 7 9]\n",
      "[ 4 10 18]\n",
      "[[19 22]\n",
      " [43 50]]\n"
     ]
    }
   ],
   "source": [
    "import numpy as np\n",
    "\n",
    "# 배열 더하기\n",
    "a = np.array([1, 2, 3])\n",
    "b = np.array([4, 5, 6])\n",
    "c = a + b\n",
    "print(c)  # [5 7 9]\n",
    "\n",
    "# 배열 곱하기\n",
    "a = np.array([1, 2, 3])\n",
    "b = np.array([4, 5, 6])\n",
    "c = a * b\n",
    "print(c)  # [4 10 18]\n",
    "\n",
    "# 행렬 곱셈\n",
    "a = np.array([[1, 2], [3, 4]])\n",
    "b = np.array([[5, 6], [7, 8]])\n",
    "c = np.dot(a, b)\n",
    "print(c)\n",
    "# [[19 22]\n",
    "#  [43 50]]\n"
   ]
  },
  {
   "cell_type": "code",
   "execution_count": 7,
   "metadata": {},
   "outputs": [
    {
     "name": "stdout",
     "output_type": "stream",
     "text": [
      "1\n",
      "5\n",
      "2\n",
      "[2 3 4]\n",
      "[[3 4]\n",
      " [5 6]]\n"
     ]
    }
   ],
   "source": [
    "import numpy as np\n",
    "\n",
    "# 배열 인덱싱\n",
    "a = np.array([1, 2, 3, 4, 5])\n",
    "print(a[0])  # 1\n",
    "print(a[-1])  # 5\n",
    "\n",
    "# 2차원 배열 인덱싱\n",
    "b = np.array([[1, 2], [3, 4], [5, 6]])\n",
    "print(b[0, 1])  # 2\n",
    "\n",
    "# 배열 슬라이싱\n",
    "a = np.array([1, 2, 3, 4, 5])\n",
    "print(a[1:4])  # [2 3 4]\n",
    "\n",
    "# 2차원 배열 슬라이싱\n",
    "b = np.array([[1, 2], [3, 4], [5, 6]])\n",
    "print(b[1:3, :]) \n",
    "# [[3 4]\n",
    "#  [5 6]]\n"
   ]
  },
  {
   "cell_type": "code",
   "execution_count": 8,
   "metadata": {},
   "outputs": [
    {
     "name": "stdout",
     "output_type": "stream",
     "text": [
      "[[1 2 3]\n",
      " [4 5 6]]\n",
      "[[1 3 5]\n",
      " [2 4 6]]\n"
     ]
    }
   ],
   "source": [
    "import numpy as np\n",
    "\n",
    "# 배열 크기 변경\n",
    "a = np.array([[1, 2], [3, 4], [5, 6]])\n",
    "b = np.reshape(a, (2, 3))\n",
    "print(b)\n",
    "# [[1 2 3]\n",
    "#  [4 5 6]]\n",
    "\n",
    "# 배열 전치\n",
    "a = np.array([[1, 2], [3, 4], [5, 6]])\n",
    "b = np.transpose(a)\n",
    "print(b)\n",
    "# [[1 3 5]\n",
    "#  [2 4 6]]\n"
   ]
  },
  {
   "attachments": {},
   "cell_type": "markdown",
   "metadata": {},
   "source": [
    "## pandas\n",
    "* pandas는 파이썬에서 데이터 분석과 조작을 위한 라이브러리입니다. \n",
    "    - 데이터 불러오기 및 저장: pandas는 CSV, 엑셀, SQL, JSON, HTML 등 다양한 데이터 형식을 지원하여 데이터를 불러오고 저장할 수 있습니다.\n",
    "    - 데이터 정제: pandas를 사용하면 결측치 처리, 중복 제거, 데이터 타입 변환 등 데이터 정제 작업을 수행할 수 있습니다.\n",
    "    - 데이터 조작: 데이터를 필터링, 정렬, 그룹화, 피벗, 병합, 조인 등 다양한 방법으로 조작할 수 있습니다.\n",
    "    - 데이터 분석: pandas는 기술통계, 시계열 분석, 빈도 계산 등 데이터 분석 작업을 수행하는 데 유용한 함수를 제공합니다.\n",
    "\n",
    "* Series: 1차원 데이터 구조로, 인덱스와 값으로 구성됩니다.\n",
    "* DataFrame: 2차원 데이터 구조로, 행과 열로 구성됩니다.\n",
    "* Index: Series나 DataFrame의 인덱스를 나타내는 객체입니다.\n",
    "* GroupBy: 데이터를 그룹으로 나누어서 통계 정보를 계산합니다.\n",
    "* merge(): 두 개 이상의 DataFrame을 병합합니다.\n",
    "* concat(): 여러 개의 DataFrame을 연결합니다.\n",
    "* read_csv(): CSV 파일을 읽어 DataFrame으로 반환합니다.\n",
    "* to_csv(): DataFrame을 CSV 파일로 저장합니다.\n",
    "\n"
   ]
  },
  {
   "cell_type": "code",
   "execution_count": 10,
   "metadata": {},
   "outputs": [
    {
     "name": "stdout",
     "output_type": "stream",
     "text": [
      "Collecting pandas\n",
      "  Downloading pandas-2.0.2-cp311-cp311-win_amd64.whl (10.6 MB)\n",
      "     ---------------------------------------- 10.6/10.6 MB 6.2 MB/s eta 0:00:00\n",
      "Requirement already satisfied: python-dateutil>=2.8.2 in c:\\users\\nonel\\appdata\\roaming\\python\\python311\\site-packages (from pandas) (2.8.2)\n",
      "Collecting pytz>=2020.1\n",
      "  Downloading pytz-2023.3-py2.py3-none-any.whl (502 kB)\n",
      "     -------------------------------------- 502.3/502.3 kB 5.2 MB/s eta 0:00:00\n",
      "Collecting tzdata>=2022.1\n",
      "  Downloading tzdata-2023.3-py2.py3-none-any.whl (341 kB)\n",
      "     -------------------------------------- 341.8/341.8 kB 7.1 MB/s eta 0:00:00\n",
      "Requirement already satisfied: numpy>=1.21.0 in c:\\python311\\lib\\site-packages (from pandas) (1.24.3)\n",
      "Requirement already satisfied: six>=1.5 in c:\\users\\nonel\\appdata\\roaming\\python\\python311\\site-packages (from python-dateutil>=2.8.2->pandas) (1.16.0)\n",
      "Installing collected packages: pytz, tzdata, pandas\n",
      "Successfully installed pandas-2.0.2 pytz-2023.3 tzdata-2023.3\n"
     ]
    },
    {
     "name": "stderr",
     "output_type": "stream",
     "text": [
      "\n",
      "[notice] A new release of pip available: 22.3.1 -> 23.1.2\n",
      "[notice] To update, run: python.exe -m pip install --upgrade pip\n"
     ]
    }
   ],
   "source": [
    "!pip install pandas"
   ]
  },
  {
   "cell_type": "code",
   "execution_count": 11,
   "metadata": {},
   "outputs": [
    {
     "name": "stdout",
     "output_type": "stream",
     "text": [
      "0    0.25\n",
      "1    0.50\n",
      "2    0.75\n",
      "3    1.00\n",
      "dtype: float64\n",
      "      name  year  score\n",
      "0    Alice  2017    100\n",
      "1      Bob  2017     95\n",
      "2  Charlie  2018     80\n",
      "3    David  2019     90\n",
      "0      Alice\n",
      "1        Bob\n",
      "2    Charlie\n",
      "3      David\n",
      "Name: name, dtype: object\n",
      "0    2017\n",
      "1    2017\n",
      "2    2018\n",
      "3    2019\n",
      "Name: year, dtype: int64\n",
      "      name  year  score\n",
      "2  Charlie  2018     80\n",
      "3    David  2019     90\n",
      "      name  year  score grade\n",
      "0    Alice  2017    100     A\n",
      "1      Bob  2017     95    A-\n",
      "2  Charlie  2018     80    B+\n",
      "3    David  2019     90     B\n",
      "name     Alice\n",
      "year      2017\n",
      "score      100\n",
      "grade        A\n",
      "Name: 0, dtype: object\n",
      "      name  year  score grade\n",
      "0    Alice  2017    100     A\n",
      "2  Charlie  2018     80    B+\n",
      "Alice\n",
      "      name  score\n",
      "0    Alice    100\n",
      "2  Charlie     80\n"
     ]
    }
   ],
   "source": [
    "\n",
    "\n",
    "import pandas as pd\n",
    "\n",
    "# 시리즈(Series) 예시\n",
    "data = pd.Series([0.25, 0.5, 0.75, 1.0])\n",
    "print(data)\n",
    "\n",
    "# 데이터프레임(DataFrame) 예시\n",
    "data = {'name': ['Alice', 'Bob', 'Charlie', 'David'],\n",
    "        'year': [2017, 2017, 2018, 2019],\n",
    "        'score': [100, 95, 80, 90]}\n",
    "df = pd.DataFrame(data)\n",
    "print(df)\n",
    "\n",
    "# 데이터프레임에서 열 선택 예시\n",
    "print(df['name'])\n",
    "print(df.year)\n",
    "\n",
    "# 조건을 이용한 데이터 선택 예시\n",
    "print(df[df.year > 2017])\n",
    "\n",
    "# 데이터프레임에 열 추가 예시\n",
    "df['grade'] = ['A', 'A-', 'B+', 'B']\n",
    "print(df)\n",
    "\n",
    "# 데이터프레임에서 행 선택 예시\n",
    "print(df.loc[0])\n",
    "print(df.loc[[0, 2]])\n",
    "\n",
    "# 데이터프레임에서 행과 열 선택 예시\n",
    "print(df.loc[0, 'name'])\n",
    "print(df.loc[[0, 2], ['name', 'score']])\n"
   ]
  },
  {
   "attachments": {},
   "cell_type": "markdown",
   "metadata": {},
   "source": [
    "## matplotlib\n",
    "* matplotlib는 파이썬에서 그래프와 시각화를 생성하기 위한 라이브러리입니다. matplotlib는 다양한 그래프와 차트를 그릴 수 있는 기능을 제공하며, 데이터 분석 결과를 시각적으로 표현하기 위한 다양한 스타일과 기능을 지원합니다.\n",
    "\n",
    "    - pyplot: 그래프를 그리기 위한 함수들을 제공합니다.\n",
    "    - figure: 그래프 전체를 관리하는 클래스입니다.\n",
    "    - subplot: 여러 개의 서브 플롯을 생성하는 함수입니다.\n",
    "    - plot: 선 그래프를 그리는 함수입니다.\n",
    "    - scatter: 산점도를 그리는 함수입니다.\n",
    "    - bar: 막대 그래프를 그리는 함수입니다.\n",
    "    - hist: 히스토그램을 그리는 함수입니다.\n",
    "    - boxplot: 박스 플롯을 그리는 함수입니다.\n",
    "    - xlabel, ylabel, title: 축 레이블과 그래프 제목을 설정하는 함수입니다.\n",
    "    - legend: 범례를 추가하는 함수입니다.\n",
    "    - xlim, ylim: x축, y축 범위를 설정하는 함수입니다.\n",
    "\n"
   ]
  },
  {
   "cell_type": "code",
   "execution_count": 15,
   "metadata": {},
   "outputs": [
    {
     "name": "stdout",
     "output_type": "stream",
     "text": [
      "Collecting matplotlib\n",
      "  Using cached matplotlib-3.7.1-cp311-cp311-win_amd64.whl (7.6 MB)\n",
      "Collecting contourpy>=1.0.1\n",
      "  Using cached contourpy-1.0.7-cp311-cp311-win_amd64.whl (162 kB)\n",
      "Collecting cycler>=0.10\n",
      "  Using cached cycler-0.11.0-py3-none-any.whl (6.4 kB)\n",
      "Requirement already satisfied: fonttools>=4.22.0 in c:\\python311\\lib\\site-packages (from matplotlib) (4.39.4)\n",
      "Requirement already satisfied: kiwisolver>=1.0.1 in c:\\python311\\lib\\site-packages (from matplotlib) (1.4.4)\n",
      "Requirement already satisfied: numpy>=1.20 in c:\\python311\\lib\\site-packages (from matplotlib) (1.24.3)\n",
      "Requirement already satisfied: packaging>=20.0 in c:\\users\\nonel\\appdata\\roaming\\python\\python311\\site-packages (from matplotlib) (23.1)\n",
      "Requirement already satisfied: pillow>=6.2.0 in c:\\python311\\lib\\site-packages (from matplotlib) (9.5.0)\n",
      "Requirement already satisfied: pyparsing>=2.3.1 in c:\\python311\\lib\\site-packages (from matplotlib) (3.0.9)\n",
      "Requirement already satisfied: python-dateutil>=2.7 in c:\\users\\nonel\\appdata\\roaming\\python\\python311\\site-packages (from matplotlib) (2.8.2)\n",
      "Requirement already satisfied: six>=1.5 in c:\\users\\nonel\\appdata\\roaming\\python\\python311\\site-packages (from python-dateutil>=2.7->matplotlib) (1.16.0)\n",
      "Installing collected packages: cycler, contourpy, matplotlib\n",
      "Successfully installed contourpy-1.0.7 cycler-0.11.0 matplotlib-3.7.1\n"
     ]
    },
    {
     "name": "stderr",
     "output_type": "stream",
     "text": [
      "\n",
      "[notice] A new release of pip available: 22.3.1 -> 23.1.2\n",
      "[notice] To update, run: python.exe -m pip install --upgrade pip\n",
      "ERROR: Could not find a version that satisfies the requirement matplotlib.pyplot (from versions: none)\n",
      "ERROR: No matching distribution found for matplotlib.pyplot\n",
      "\n",
      "[notice] A new release of pip available: 22.3.1 -> 23.1.2\n",
      "[notice] To update, run: python.exe -m pip install --upgrade pip\n"
     ]
    }
   ],
   "source": [
    "!pip install matplotlib\n",
    "!pip install matplotlib.pyplot"
   ]
  },
  {
   "cell_type": "code",
   "execution_count": 16,
   "metadata": {},
   "outputs": [
    {
     "data": {
      "image/png": "[encoded data removed]",
      "text/plain": [
       "<Figure size 640x480 with 1 Axes>"
      ]
     },
     "metadata": {},
     "output_type": "display_data"
    }
   ],
   "source": [
    "import matplotlib.pyplot as plt\n",
    "import numpy as np\n",
    "\n",
    "# 데이터 생성\n",
    "x = np.linspace(-np.pi, np.pi, 100)\n",
    "y_sin = np.sin(x)\n",
    "y_cos = np.cos(x)\n",
    "\n",
    "# 그래프 그리기\n",
    "plt.plot(x, y_sin, label='sin')\n",
    "plt.plot(x, y_cos, label='cos')\n",
    "plt.xlabel('x')\n",
    "plt.ylabel('y')\n",
    "plt.title('Sin and Cos Functions')\n",
    "plt.legend()\n",
    "plt.show()\n"
   ]
  }
 ],
 "metadata": {
  "kernelspec": {
   "display_name": "Python 3",
   "language": "python",
   "name": "python3"
  },
  "language_info": {
   "codemirror_mode": {
    "name": "ipython",
    "version": 3
   },
   "file_extension": ".py",
   "mimetype": "text/x-python",
   "name": "python",
   "nbconvert_exporter": "python",
   "pygments_lexer": "ipython3",
   "version": "3.11.3"
  },
  "orig_nbformat": 4
 },
 "nbformat": 4,
 "nbformat_minor": 2
}
