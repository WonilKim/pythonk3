{
 "cells": [
  {
   "attachments": {},
   "cell_type": "markdown",
   "metadata": {},
   "source": [
    "# 예외 처리"
   ]
  },
  {
   "attachments": {},
   "cell_type": "markdown",
   "metadata": {},
   "source": [
    "* 예외(exception)란\n",
    "    - 프로그램이 실행되는 동안 발생할 수 있는 오류나 예기치 않은 이벤트를 말합니다. 이러한 예외는 프로그래머의 실수, 사용자의 잘못된 입력, 파일이나 네트워크 연결과 같은 외부 자원의 문제 등 여러 가지 원인에 의해 발생할 수 있습니다. 예외가 발생하면 프로그램이 원활하게 실행되지 않고 오류 메시지가 출력되거나, 예상치 못한 동작을 하게 됩니다.\n",
    "\n",
    "* 예외 처리의 필요성\n",
    "    - 예외 처리는 프로그램의 안정성과 가독성을 향상시키는 데 필요한 중요한 기법입니다.\n",
    "        - 안정성 향상: 예외 처리를 통해 프로그램이 예외 상황에 대처하도록 하여, 예외가 발생하더라도 프로그램이 완전히 중단되지 않고 적절한 조치를 취할 수 있게 됩니다. 이를 통해 사용자 경험을 개선하고, 프로그램의 안정성을 높일 수 있습니다.\n",
    "        - 가독성 향상: 예외 처리를 사용하면, 예외가 발생할 수 있는 상황을 명시적으로 표현할 수 있습니다. 이로 인해 다른 개발자들이 코드를 이해하기 쉬워지며, 유지보수가 용이해집니다.\n",
    "        - 디버깅 용이성: 예외 처리를 적절하게 사용하면, 발생한 예외에 대한 정보를 쉽게 확인할 수 있습니다. 이를 통해 문제를 신속하게 파악하고 해결하는 데 도움이 됩니다.\n",
    "\n"
   ]
  },
  {
   "cell_type": "code",
   "execution_count": 1,
   "metadata": {},
   "outputs": [
    {
     "ename": "ValueError",
     "evalue": "invalid literal for int() with base 10: 'not_a_number'",
     "output_type": "error",
     "traceback": [
      "\u001b[1;31m---------------------------------------------------------------------------\u001b[0m",
      "\u001b[1;31mValueError\u001b[0m                                Traceback (most recent call last)",
      "Cell \u001b[1;32mIn[1], line 2\u001b[0m\n\u001b[0;32m      1\u001b[0m \u001b[39m# ValueError: 잘못된 값이 사용될 때 발생\u001b[39;00m\n\u001b[1;32m----> 2\u001b[0m num \u001b[39m=\u001b[39m \u001b[39mint\u001b[39;49m(\u001b[39m\"\u001b[39;49m\u001b[39mnot_a_number\u001b[39;49m\u001b[39m\"\u001b[39;49m)\n",
      "\u001b[1;31mValueError\u001b[0m: invalid literal for int() with base 10: 'not_a_number'"
     ]
    }
   ],
   "source": [
    "# ValueError: 잘못된 값이 사용될 때 발생\n",
    "num = int(\"not_a_number\")\n"
   ]
  },
  {
   "cell_type": "code",
   "execution_count": 2,
   "metadata": {},
   "outputs": [
    {
     "ename": "TypeError",
     "evalue": "can only concatenate str (not \"int\") to str",
     "output_type": "error",
     "traceback": [
      "\u001b[1;31m---------------------------------------------------------------------------\u001b[0m",
      "\u001b[1;31mTypeError\u001b[0m                                 Traceback (most recent call last)",
      "Cell \u001b[1;32mIn[2], line 2\u001b[0m\n\u001b[0;32m      1\u001b[0m \u001b[39m# TypeError: 잘못된 타입의 객체가 사용될 때 발생\u001b[39;00m\n\u001b[1;32m----> 2\u001b[0m result \u001b[39m=\u001b[39m \u001b[39m\"\u001b[39;49m\u001b[39mstring\u001b[39;49m\u001b[39m\"\u001b[39;49m \u001b[39m+\u001b[39;49m \u001b[39m1\u001b[39;49m\n",
      "\u001b[1;31mTypeError\u001b[0m: can only concatenate str (not \"int\") to str"
     ]
    }
   ],
   "source": [
    "# TypeError: 잘못된 타입의 객체가 사용될 때 발생\n",
    "result = \"string\" + 1\n",
    "\n"
   ]
  },
  {
   "cell_type": "code",
   "execution_count": 3,
   "metadata": {},
   "outputs": [
    {
     "ename": "IndexError",
     "evalue": "list index out of range",
     "output_type": "error",
     "traceback": [
      "\u001b[1;31m---------------------------------------------------------------------------\u001b[0m",
      "\u001b[1;31mIndexError\u001b[0m                                Traceback (most recent call last)",
      "Cell \u001b[1;32mIn[3], line 3\u001b[0m\n\u001b[0;32m      1\u001b[0m \u001b[39m# IndexError: 인덱스 범위를 벗어난 경우 발생\u001b[39;00m\n\u001b[0;32m      2\u001b[0m numbers \u001b[39m=\u001b[39m [\u001b[39m1\u001b[39m, \u001b[39m2\u001b[39m, \u001b[39m3\u001b[39m]\n\u001b[1;32m----> 3\u001b[0m out_of_range \u001b[39m=\u001b[39m numbers[\u001b[39m3\u001b[39;49m]\n",
      "\u001b[1;31mIndexError\u001b[0m: list index out of range"
     ]
    }
   ],
   "source": [
    "\n",
    "# IndexError: 인덱스 범위를 벗어난 경우 발생\n",
    "numbers = [1, 2, 3]\n",
    "out_of_range = numbers[3]\n"
   ]
  },
  {
   "cell_type": "code",
   "execution_count": 4,
   "metadata": {},
   "outputs": [
    {
     "ename": "KeyError",
     "evalue": "'c'",
     "output_type": "error",
     "traceback": [
      "\u001b[1;31m---------------------------------------------------------------------------\u001b[0m",
      "\u001b[1;31mKeyError\u001b[0m                                  Traceback (most recent call last)",
      "Cell \u001b[1;32mIn[4], line 3\u001b[0m\n\u001b[0;32m      1\u001b[0m \u001b[39m# KeyError: 사전에서 존재하지 않는 키를 참조할 때 발생\u001b[39;00m\n\u001b[0;32m      2\u001b[0m my_dict \u001b[39m=\u001b[39m {\u001b[39m\"\u001b[39m\u001b[39ma\u001b[39m\u001b[39m\"\u001b[39m: \u001b[39m1\u001b[39m, \u001b[39m\"\u001b[39m\u001b[39mb\u001b[39m\u001b[39m\"\u001b[39m: \u001b[39m2\u001b[39m}\n\u001b[1;32m----> 3\u001b[0m value \u001b[39m=\u001b[39m my_dict[\u001b[39m\"\u001b[39;49m\u001b[39mc\u001b[39;49m\u001b[39m\"\u001b[39;49m]\n",
      "\u001b[1;31mKeyError\u001b[0m: 'c'"
     ]
    }
   ],
   "source": [
    "\n",
    "# KeyError: 사전에서 존재하지 않는 키를 참조할 때 발생\n",
    "my_dict = {\"a\": 1, \"b\": 2}\n",
    "value = my_dict[\"c\"]\n"
   ]
  },
  {
   "cell_type": "code",
   "execution_count": 5,
   "metadata": {},
   "outputs": [
    {
     "ename": "FileNotFoundError",
     "evalue": "[Errno 2] No such file or directory: 'non_existing_file.txt'",
     "output_type": "error",
     "traceback": [
      "\u001b[1;31m---------------------------------------------------------------------------\u001b[0m",
      "\u001b[1;31mFileNotFoundError\u001b[0m                         Traceback (most recent call last)",
      "Cell \u001b[1;32mIn[5], line 2\u001b[0m\n\u001b[0;32m      1\u001b[0m \u001b[39m# FileNotFoundError: 존재하지 않는 파일을 열려고 시도할 때 발생\u001b[39;00m\n\u001b[1;32m----> 2\u001b[0m \u001b[39mwith\u001b[39;00m \u001b[39mopen\u001b[39;49m(\u001b[39m\"\u001b[39;49m\u001b[39mnon_existing_file.txt\u001b[39;49m\u001b[39m\"\u001b[39;49m, \u001b[39m\"\u001b[39;49m\u001b[39mr\u001b[39;49m\u001b[39m\"\u001b[39;49m) \u001b[39mas\u001b[39;00m file:\n\u001b[0;32m      3\u001b[0m     content \u001b[39m=\u001b[39m file\u001b[39m.\u001b[39mread()\n",
      "File \u001b[1;32m~\\AppData\\Roaming\\Python\\Python311\\site-packages\\IPython\\core\\interactiveshell.py:284\u001b[0m, in \u001b[0;36m_modified_open\u001b[1;34m(file, *args, **kwargs)\u001b[0m\n\u001b[0;32m    277\u001b[0m \u001b[39mif\u001b[39;00m file \u001b[39min\u001b[39;00m {\u001b[39m0\u001b[39m, \u001b[39m1\u001b[39m, \u001b[39m2\u001b[39m}:\n\u001b[0;32m    278\u001b[0m     \u001b[39mraise\u001b[39;00m \u001b[39mValueError\u001b[39;00m(\n\u001b[0;32m    279\u001b[0m         \u001b[39mf\u001b[39m\u001b[39m\"\u001b[39m\u001b[39mIPython won\u001b[39m\u001b[39m'\u001b[39m\u001b[39mt let you open fd=\u001b[39m\u001b[39m{\u001b[39;00mfile\u001b[39m}\u001b[39;00m\u001b[39m by default \u001b[39m\u001b[39m\"\u001b[39m\n\u001b[0;32m    280\u001b[0m         \u001b[39m\"\u001b[39m\u001b[39mas it is likely to crash IPython. If you know what you are doing, \u001b[39m\u001b[39m\"\u001b[39m\n\u001b[0;32m    281\u001b[0m         \u001b[39m\"\u001b[39m\u001b[39myou can use builtins\u001b[39m\u001b[39m'\u001b[39m\u001b[39m open.\u001b[39m\u001b[39m\"\u001b[39m\n\u001b[0;32m    282\u001b[0m     )\n\u001b[1;32m--> 284\u001b[0m \u001b[39mreturn\u001b[39;00m io_open(file, \u001b[39m*\u001b[39;49margs, \u001b[39m*\u001b[39;49m\u001b[39m*\u001b[39;49mkwargs)\n",
      "\u001b[1;31mFileNotFoundError\u001b[0m: [Errno 2] No such file or directory: 'non_existing_file.txt'"
     ]
    }
   ],
   "source": [
    "\n",
    "# FileNotFoundError: 존재하지 않는 파일을 열려고 시도할 때 발생\n",
    "with open(\"non_existing_file.txt\", \"r\") as file:\n",
    "    content = file.read()"
   ]
  },
  {
   "attachments": {},
   "cell_type": "markdown",
   "metadata": {},
   "source": [
    "## try-except 문\n",
    "\n",
    "try-except 문은 파이썬에서 예외 처리를 수행하기 위한 기본 구조입니다.\n",
    "\n",
    "try:\n",
    "    # 예외가 발생할 수 있는 코드\n",
    "except [예외 타입]:\n",
    "    # 예외가 발생했을 때 실행할 코드\n",
    "\n",
    "\n",
    "* try 블록\n",
    "    - try 블록은 예외가 발생할 가능성이 있는 코드를 실행하는 영역입니다. try 블록 내에서 예외가 발생하지 않으면, 프로그램은 정상적으로 진행되고 try 블록 다음의 코드를 실행합니다. 만약 try 블록 내에서 예외가 발생하면, 해당 예외를 잡기 위한 적절한 except 블록으로 이동하게 됩니다.\n",
    "* except 블록\n",
    "    - except 블록은 예외가 발생했을 때 실행되는 영역입니다. 여기에서는 발생한 예외에 대한 처리를 구현할 수 있습니다. 예를 들어, 오류 메시지를 출력하거나, 기본값을 설정하는 등의 작업을 수행할 수 있습니다. except 블록 뒤에는 선택적으로 예외 타입을 지정할 수 있으며, 지정된 예외 타입과 일치하는 예외가 발생했을 때만 해당 except 블록이 실행됩니다.\n",
    "\n",
    "\n"
   ]
  },
  {
   "cell_type": "code",
   "execution_count": null,
   "metadata": {},
   "outputs": [],
   "source": [
    "# ValueError 처리 예시\n",
    "\n",
    "try:\n",
    "    user_input = input(\"Enter a number: \")\n",
    "    number = int(user_input)\n",
    "except ValueError:\n",
    "    print(\"Invalid input. Please enter a valid number.\")\n"
   ]
  },
  {
   "cell_type": "code",
   "execution_count": null,
   "metadata": {},
   "outputs": [],
   "source": [
    "# FileNotFoundError 처리 예시\n",
    "\n",
    "try:\n",
    "    with open(\"non_existing_file.txt\", \"r\") as file:\n",
    "        content = file.read()\n",
    "except FileNotFoundError:\n",
    "    print(\"The file does not exist. Please check the file path.\")\n"
   ]
  },
  {
   "cell_type": "code",
   "execution_count": null,
   "metadata": {},
   "outputs": [],
   "source": [
    "# * 한 개의 except 블록으로 여러 예외 처리: \n",
    "#     - 여러 예외를 한 개의 except 블록에서 동시에 처리하려면, 예외 클래스들을 괄호로 묶고 쉼표로 구분하여 지정할 수 있습니다. \n",
    "#     - 이 방식은 여러 예외에 대해 동일한 처리를 수행할 때 유용합니다.\n",
    "\n",
    "try:\n",
    "    # 예외가 발생할 수 있는 코드\n",
    "    user_input = input(\"Enter a number: \")\n",
    "    number = int(user_input)\n",
    "    result = 10 / number\n",
    "except (ValueError, ZeroDivisionError):\n",
    "    print(\"Invalid input or division by zero.\")\n"
   ]
  },
  {
   "cell_type": "code",
   "execution_count": null,
   "metadata": {},
   "outputs": [],
   "source": [
    "# * 각각의 예외를 별도의 except 블록으로 처리:\n",
    "#     - 각각의 예외를 별도의 except 블록에서 처리하려면, 여러 개의 except 블록을 사용하면 됩니다. \n",
    "#     - 이 방식은 각 예외에 대해 서로 다른 처리를 수행해야 할 때 유용합니다.\n",
    "\n",
    "\n",
    "try:\n",
    "    # 예외가 발생할 수 있는 코드\n",
    "    user_input = input(\"Enter a number: \")\n",
    "    number = int(user_input)\n",
    "    result = 10 / number\n",
    "except ValueError:\n",
    "    print(\"Invalid input. Please enter a valid number.\")\n",
    "except ZeroDivisionError:\n",
    "    print(\"Cannot divide by zero!\")\n"
   ]
  },
  {
   "cell_type": "code",
   "execution_count": null,
   "metadata": {},
   "outputs": [],
   "source": [
    "# as 키워드를 사용하여 예외 객체에 접근하고, 발생한 예외에 대한 에러 메시지를 표시하는 방법\n",
    "\n",
    "try:\n",
    "    # 예외가 발생할 수 있는 코드를 실행합니다.\n",
    "    print(\"\")\n",
    "except ExceptionType as error:\n",
    "    # 예외가 발생했을 때 실행할 코드를 작성합니다.\n",
    "    print(f\"An error occurred: {error}\")\n"
   ]
  },
  {
   "cell_type": "code",
   "execution_count": null,
   "metadata": {},
   "outputs": [],
   "source": [
    "try:\n",
    "    result = 5 / 0\n",
    "except ZeroDivisionError as error:\n",
    "    print(f\"An error occurred: {error}\")\n"
   ]
  },
  {
   "attachments": {},
   "cell_type": "markdown",
   "metadata": {},
   "source": [
    "* as 키워드는 주로 두 가지 상황에서 사용\n",
    "    1. 모듈 임포트:\n",
    "        as 키워드는 모듈을 임포트할 때, 해당 모듈의 이름을 다른 이름으로 사용하고자 할 때 사용됩니다.\n",
    "    2. 예외 처리:\n",
    "        as 키워드는 try-except 문에서 발생한 예외 객체를 특정 변수에 할당할 때 사용됩니다. 이렇게 함으로써 발생한 예외 객체를 참조하고, 예외에 대한 추가 정보를 확인하거나 출력할 수 있습니다.\n"
   ]
  },
  {
   "cell_type": "code",
   "execution_count": null,
   "metadata": {},
   "outputs": [],
   "source": [
    "try:\n",
    "    user_input = input(\"Enter a number: \")\n",
    "    number = int(user_input)\n",
    "    result = 10 / number\n",
    "except Exception as e:\n",
    "    print(f\"An error occurred: {e}\")\n"
   ]
  },
  {
   "cell_type": "code",
   "execution_count": null,
   "metadata": {},
   "outputs": [],
   "source": [
    "try:\n",
    "    # 예외가 발생할 수 있는 코드를 실행합니다.\n",
    "    file = open(\"non_existent_file.txt\", \"r\")\n",
    "    result = 5 / 0\n",
    "    int(\"not_a_number\")\n",
    "except FileNotFoundError as error:\n",
    "    print(f\"An error occurred: {error}\")\n",
    "except ZeroDivisionError as error:\n",
    "    print(f\"An error occurred: {error}\")\n",
    "except ValueError as error:\n",
    "    print(f\"An error occurred: {error}\")\n",
    "\n",
    "# as 키워드를 사용하여 에러 메시지를 표시하면, \n",
    "# 발생한 예외에 대한 추가 정보를 활용하여 프로그램의 예외 처리를 효과적으로 수행할 수 있습니다.\n"
   ]
  },
  {
   "attachments": {},
   "cell_type": "markdown",
   "metadata": {},
   "source": [
    "except Exception as e"
   ]
  },
  {
   "cell_type": "code",
   "execution_count": null,
   "metadata": {},
   "outputs": [],
   "source": [
    "# try-except 문에서 발생한 모든 예외를 처리하는 방법입니다. 이 구문을 사용하면, 발생한 예외를 변수로 받아 처리할 수 있습니다.\n",
    "\n",
    "\n",
    "try:\n",
    "    # 예외가 발생할 수 있는 코드\n",
    "    user_input = input(\"Enter a number: \")\n",
    "    number = int(user_input)\n",
    "    result = 10 / number\n",
    "except Exception as e:\n",
    "    print(f\"An error occurred: {e}\")\n",
    "\n",
    "# 파이썬에서 모든 예외 클래스의 기본 클래스입니다. 이 클래스를 사용하면 어떤 종류의 예외든 처리할 수 있습니다.\n"
   ]
  },
  {
   "attachments": {},
   "cell_type": "markdown",
   "metadata": {},
   "source": [
    "try-except-else 문"
   ]
  },
  {
   "cell_type": "code",
   "execution_count": null,
   "metadata": {},
   "outputs": [],
   "source": [
    "# try-except-else 문의 구조:\n",
    "\n",
    "\n",
    "# try:\n",
    "#     # 예외가 발생할 수 있는 코드\n",
    "# except [예외 타입]:\n",
    "#     # 예외가 발생했을 때 실행할 코드\n",
    "# else:\n",
    "#     # 예외가 발생하지 않았을 때 실행할 코드\n",
    "\n",
    "\n",
    "# else 절: \n",
    "# else 절은 try 블록에서 예외가 발생하지 않았을 때 실행되는 영역입니다. try 블록이 성공적으로 실행되면 else 절이 실행되고, \n",
    "#   예외가 발생하면 해당하는 except 블록이 실행됩니다. 예외 처리 외에 추가적인 작업이 필요한 경우 else 절을 사용할 수 있습니다.\n"
   ]
  },
  {
   "cell_type": "code",
   "execution_count": null,
   "metadata": {},
   "outputs": [],
   "source": [
    "try:\n",
    "    user_input = input(\"Enter a number: \")\n",
    "    number = int(user_input)\n",
    "except ValueError:\n",
    "    print(\"Invalid input. Please enter a valid number.\")\n",
    "else:\n",
    "    print(f\"You entered the number {number}.\")\n",
    "\n",
    "# try-except-else 문을 사용하면 예외가 발생하지 않았을 때 수행할 작업과 예외가 발생했을 때 수행할 작업을 명확하게 구분할 수 있어, \n",
    "# 코드의 가독성과 유지 관리가 향상됩니다.\n"
   ]
  },
  {
   "attachments": {},
   "cell_type": "markdown",
   "metadata": {},
   "source": [
    "try-except-finally 문"
   ]
  },
  {
   "cell_type": "code",
   "execution_count": null,
   "metadata": {},
   "outputs": [],
   "source": [
    "# try-except-finally 문의 구조:\n",
    "\n",
    "\n",
    "# try:\n",
    "#     # 예외가 발생할 수 있는 코드\n",
    "# except ExceptionType1:\n",
    "#     # 예외 타입 1이 발생한 경우 실행할 코드\n",
    "# except ExceptionType2:\n",
    "#     # 예외 타입 2가 발생한 경우 실행할 코드\n",
    "# # ... 필요한 만큼의 except 블록을 추가\n",
    "# finally:\n",
    "#     # 예외 발생 여부와 상관없이 항상 실행할 코드\n",
    "\n",
    "\n",
    "# finally 절:\n",
    "#  주로 프로그램이 예외 상황에서도 반드시 수행해야 하는 작업을 처리하는 데 사용됩니다. \n",
    "#   이 작업은 자원 정리, 파일 닫기, 데이터베이스 연결 종료, 네트워크 연결 종료 등이 있습니다.\n"
   ]
  },
  {
   "cell_type": "code",
   "execution_count": 6,
   "metadata": {},
   "outputs": [
    {
     "name": "stdout",
     "output_type": "stream",
     "text": [
      "File not found. Please check the file name.\n"
     ]
    }
   ],
   "source": [
    "try:\n",
    "    file = open(\"example.txt\", \"r\")\n",
    "    content = file.read()\n",
    "except FileNotFoundError:\n",
    "    print(\"File not found. Please check the file name.\")\n",
    "except PermissionError:\n",
    "    print(\"Permission denied. You don't have the required permission to read this file.\")\n",
    "else:\n",
    "    print(\"File content:\")\n",
    "    print(content)\n",
    "finally:\n",
    "    if 'file' in locals() and not file.closed:\n",
    "        file.close()\n",
    "        print(\"File has been closed.\")\n",
    "\n",
    "# locals() 함수는 현재 지역 이름 공간에 있는 모든 변수를 딕셔너리 형태로 반환합니다. \n",
    "# 'file' in locals()는 'file'이라는 이름의 변수가 지역 이름 공간에 존재하는지 확인하는 표현식\n",
    "\n",
    "# file.closed는 파일 객체의 closed 속성을 참조합니다. \n",
    "# 이 속성은 파일이 닫혀있는 경우 True를, 그렇지 않은 경우 False를 반환\n",
    "\n",
    "# finally 절은 예외 발생 여부와 상관없이 실행되므로, 파일이 성공적으로 열리든 아니든 반드시 파일이 닫힙니다. \n",
    "# 이렇게 하면 자원의 누수를 방지할 수 있습니다.\n"
   ]
  }
 ],
 "metadata": {
  "kernelspec": {
   "display_name": "Python 3",
   "language": "python",
   "name": "python3"
  },
  "language_info": {
   "codemirror_mode": {
    "name": "ipython",
    "version": 3
   },
   "file_extension": ".py",
   "mimetype": "text/x-python",
   "name": "python",
   "nbconvert_exporter": "python",
   "pygments_lexer": "ipython3",
   "version": "3.11.3"
  },
  "orig_nbformat": 4
 },
 "nbformat": 4,
 "nbformat_minor": 2
}
