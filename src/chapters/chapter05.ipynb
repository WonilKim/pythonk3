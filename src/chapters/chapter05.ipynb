{
 "cells": [
  {
   "cell_type": "code",
   "execution_count": 1,
   "metadata": {},
   "outputs": [
    {
     "name": "stdout",
     "output_type": "stream",
     "text": [
      "3\n",
      "4\n",
      "12\n"
     ]
    }
   ],
   "source": [
    "class Rectangle:\n",
    "    def __init__(self, width, height):\n",
    "        self.width = width\n",
    "        self.height = height\n",
    "\n",
    "    def area(self):\n",
    "        return self.width * self.height\n",
    "\n",
    "# 인스턴스 생성 시 생성자 메서드 호출\n",
    "rectangle1 = Rectangle(3, 4)\n",
    "print(rectangle1.width) # 출력 결과: 3\n",
    "print(rectangle1.height) # 출력 결과: 4\n",
    "\n",
    "# 인스턴스 메서드 호출\n",
    "print(rectangle1.area()) # 출력 결과: 12\n"
   ]
  },
  {
   "cell_type": "code",
   "execution_count": 3,
   "metadata": {},
   "outputs": [
    {
     "name": "stdout",
     "output_type": "stream",
     "text": [
      "12\n"
     ]
    }
   ],
   "source": [
    "class Rectangle:\n",
    "    def __init__(self, width, height):\n",
    "        self.width = width\n",
    "        self.height = height\n",
    "\n",
    "    def area(self):\n",
    "        return self.width * self.height\n",
    "\n",
    "# 인스턴스 생성\n",
    "rectangle1 = Rectangle(3, 4)\n",
    "\n",
    "# 인스턴스 메서드 호출\n",
    "print(rectangle1.area()) # 출력 결과: 12\n"
   ]
  },
  {
   "cell_type": "code",
   "execution_count": 4,
   "metadata": {},
   "outputs": [
    {
     "name": "stdout",
     "output_type": "stream",
     "text": [
      "3\n",
      "4\n",
      "5\n",
      "6\n",
      "12\n",
      "30\n"
     ]
    }
   ],
   "source": [
    "class Rectangle:\n",
    "    def __init__(self, width, height):\n",
    "        self.width = width\n",
    "        self.height = height\n",
    "\n",
    "    def area(self):\n",
    "        return self.width * self.height\n",
    "\n",
    "# 인스턴스 생성\n",
    "rectangle1 = Rectangle(3, 4)\n",
    "rectangle2 = Rectangle(5, 6)\n",
    "\n",
    "# 인스턴스 변수에 접근하여 값 출력\n",
    "print(rectangle1.width) # 출력 결과: 3\n",
    "print(rectangle1.height) # 출력 결과: 4\n",
    "print(rectangle2.width) # 출력 결과: 5\n",
    "print(rectangle2.height) # 출력 결과: 6\n",
    "\n",
    "# 인스턴스 메서드 호출\n",
    "print(rectangle1.area()) # 출력 결과: 12\n",
    "print(rectangle2.area()) # 출력 결과: 30\n"
   ]
  },
  {
   "cell_type": "code",
   "execution_count": 5,
   "metadata": {},
   "outputs": [
    {
     "name": "stdout",
     "output_type": "stream",
     "text": [
      "3\n",
      "4\n",
      "5\n",
      "20\n"
     ]
    }
   ],
   "source": [
    "class Rectangle:\n",
    "    def __init__(self, width, height):\n",
    "        self.width = width\n",
    "        self.height = height\n",
    "\n",
    "    def area(self):\n",
    "        return self.width * self.height\n",
    "\n",
    "# 인스턴스 변수를 이용하여 객체 생성\n",
    "rectangle1 = Rectangle(3, 4)\n",
    "print(rectangle1.width) # 출력 결과: 3\n",
    "print(rectangle1.height) # 출력 결과: 4\n",
    "\n",
    "# 인스턴스 변수 값 변경\n",
    "rectangle1.width = 5\n",
    "print(rectangle1.width) # 출력 결과: 5\n",
    "\n",
    "# 인스턴스 메서드 호출\n",
    "print(rectangle1.area()) # 출력 결과: 20\n"
   ]
  },
  {
   "cell_type": "code",
   "execution_count": 6,
   "metadata": {},
   "outputs": [
    {
     "name": "stdout",
     "output_type": "stream",
     "text": [
      "0\n",
      "1\n",
      "2\n"
     ]
    }
   ],
   "source": [
    "class Rectangle:\n",
    "    count = 0\n",
    "\n",
    "    def __init__(self, width, height):\n",
    "        self.width = width\n",
    "        self.height = height\n",
    "        Rectangle.count += 1\n",
    "\n",
    "    def area(self):\n",
    "        return self.width * self.height\n",
    "\n",
    "# 클래스 변수 값을 출력\n",
    "print(Rectangle.count) # 출력 결과: 0\n",
    "\n",
    "# 인스턴스 생성 시 클래스 변수 값 증가\n",
    "rectangle1 = Rectangle(3, 4)\n",
    "print(Rectangle.count) # 출력 결과: 1\n",
    "\n",
    "rectangle2 = Rectangle(5, 6)\n",
    "print(Rectangle.count) # 출력 결과: 2\n"
   ]
  },
  {
   "cell_type": "code",
   "execution_count": 7,
   "metadata": {},
   "outputs": [
    {
     "name": "stdout",
     "output_type": "stream",
     "text": [
      "12\n",
      "14\n"
     ]
    }
   ],
   "source": [
    "class Rectangle:\n",
    "    def __init__(self, width, height):\n",
    "        self.width = width\n",
    "        self.height = height\n",
    "\n",
    "    def area(self):\n",
    "        return self.width * self.height\n",
    "\n",
    "    def perimeter(self):\n",
    "        return 2 * (self.width + self.height)\n",
    "\n",
    "# 인스턴스 생성\n",
    "rectangle1 = Rectangle(3, 4)\n",
    "\n",
    "# 인스턴스 메서드 호출\n",
    "print(rectangle1.area()) # 출력 결과: 12\n",
    "print(rectangle1.perimeter()) # 출력 결과: 14\n"
   ]
  },
  {
   "attachments": {},
   "cell_type": "markdown",
   "metadata": {},
   "source": []
  },
  {
   "cell_type": "code",
   "execution_count": 8,
   "metadata": {},
   "outputs": [
    {
     "name": "stdout",
     "output_type": "stream",
     "text": [
      "0\n",
      "3\n",
      "2\n"
     ]
    }
   ],
   "source": [
    "class Bicycle:\n",
    "    # 생성자 메서드\n",
    "    def __init__(self, gear, speed):\n",
    "        self.gear = gear\n",
    "        self.speed = speed\n",
    "\n",
    "    # 인스턴스 메서드\n",
    "    def speed_up(self, increment):\n",
    "        self.speed += increment\n",
    "\n",
    "    def apply_brake(self, decrement):\n",
    "        self.speed -= decrement\n",
    "\n",
    "# Bicycle 클래스를 이용하여 객체 생성\n",
    "my_bike = Bicycle(6, 0)\n",
    "print(my_bike.speed) # 출력 결과: 0\n",
    "\n",
    "# 인스턴스 메서드 호출\n",
    "my_bike.speed_up(3)\n",
    "print(my_bike.speed) # 출력 결과: 3\n",
    "\n",
    "my_bike.apply_brake(1)\n",
    "print(my_bike.speed) # 출력 결과: 2\n"
   ]
  },
  {
   "cell_type": "code",
   "execution_count": 9,
   "metadata": {},
   "outputs": [
    {
     "name": "stdout",
     "output_type": "stream",
     "text": [
      "0\n",
      "1\n",
      "2\n"
     ]
    }
   ],
   "source": [
    "class Rectangle:\n",
    "    count = 0\n",
    "\n",
    "    def __init__(self, width, height):\n",
    "        self.width = width\n",
    "        self.height = height\n",
    "        Rectangle.count += 1\n",
    "\n",
    "    @classmethod\n",
    "    def print_count(cls):\n",
    "        print(cls.count)\n",
    "\n",
    "# 클래스 메서드 호출\n",
    "Rectangle.print_count() # 출력 결과: 0\n",
    "\n",
    "# 인스턴스 생성 시 클래스 변수 값 증가\n",
    "rectangle1 = Rectangle(3, 4)\n",
    "Rectangle.print_count() # 출력 결과: 1\n",
    "\n",
    "rectangle2 = Rectangle(5, 6)\n",
    "Rectangle.print_count() # 출력 결과: 2\n"
   ]
  },
  {
   "cell_type": "code",
   "execution_count": 10,
   "metadata": {},
   "outputs": [
    {
     "name": "stdout",
     "output_type": "stream",
     "text": [
      "5\n",
      "6\n"
     ]
    }
   ],
   "source": [
    "class Calculator:\n",
    "    # 클래스 변수\n",
    "    operator = '+'\n",
    "\n",
    "    # 클래스 메서드\n",
    "    @classmethod\n",
    "    def set_operator(cls, new_operator):\n",
    "        cls.operator = new_operator\n",
    "\n",
    "    # 인스턴스 메서드\n",
    "    def calculate(self, num1, num2):\n",
    "        if Calculator.operator == '+':\n",
    "            return num1 + num2\n",
    "        elif Calculator.operator == '-':\n",
    "            return num1 - num2\n",
    "        elif Calculator.operator == '*':\n",
    "            return num1 * num2\n",
    "        elif Calculator.operator == '/':\n",
    "            return num1 / num2\n",
    "\n",
    "# Calculator 클래스를 이용하여 객체 생성\n",
    "my_calculator = Calculator()\n",
    "print(my_calculator.calculate(2, 3)) # 출력 결과: 5\n",
    "\n",
    "# 클래스 메서드 호출\n",
    "Calculator.set_operator('*')\n",
    "print(my_calculator.calculate(2, 3)) # 출력 결과: 6\n"
   ]
  },
  {
   "cell_type": "code",
   "execution_count": null,
   "metadata": {},
   "outputs": [],
   "source": [
    "# 연습문제\n",
    "# Deposit 클래스를 생성하라. 이 클래스는 세 개의 인스턴스 변수 initial과 interest, n을 갖는다. \n",
    "# initial은 원금을 의미하고 interest는 년 이자율을 나타낸다. \n",
    "# 초기화 함수에서 세 개의 인스턴스 변수를 전달 받은 값으로 설정해야 한다. \n",
    "# 클래스 메소드 profit()은 n년 후 원리금을 반환한다. \n",
    "# n년 후 원리금은 initial * (1 + interest)n이다. \n",
    "# Deposit 클래스를 이용하여 100만원을 이율 3.5%로 7년간 저축했을 때 원리금을 구하는 프로그램을 작성하라. \n",
    "# 단 원리금은 정수로 표시되어야 한다.\n",
    "\n",
    "class Deposit:\n",
    "    initial = 0\n",
    "    interest = 0\n",
    "    n = 0\n",
    "\n",
    "    def __init__(self, initial, interest, n):\n",
    "        self.initial = initial\n",
    "        self.interest = interest\n",
    "        self.n = n\n",
    "\n"
   ]
  },
  {
   "cell_type": "code",
   "execution_count": null,
   "metadata": {},
   "outputs": [],
   "source": [
    "# 연습문제\n",
    "\n",
    "# 예제의 Teacher 클래스에서 People 클래스의 __init__()를 호출하지 않고 부모 클래스의 age, name 인스턴스 변수를 이용할 수 있는가? \n",
    "# 이용할 수 없다면 그 이유는? 이용할 수 있게 하려면 프로그램을 어떻게 수정해야 하는가?\n",
    "\n",
    "\n",
    "\n",
    "class People :\n",
    "    def __init__(self, age=0, name=None):\n",
    "        self.__age = age\n",
    "        self.__name = name\n",
    "\n",
    "    def introMe(self):\n",
    "        print(\"Name :\", self.__name, \"age :\", str(self.__age))\n",
    "\n",
    "class Teacher(People) :\n",
    "    def __init__(self, age=0, name=None, school=None) :\n",
    "        super().__init__(age, name)\n",
    "        self.school = school\n",
    "\n",
    "    def showSchool(self):\n",
    "        print(\"My School is \", self.school)\n"
   ]
  },
  {
   "cell_type": "code",
   "execution_count": null,
   "metadata": {},
   "outputs": [],
   "source": []
  },
  {
   "cell_type": "code",
   "execution_count": null,
   "metadata": {},
   "outputs": [],
   "source": []
  },
  {
   "cell_type": "code",
   "execution_count": 11,
   "metadata": {},
   "outputs": [
    {
     "name": "stdout",
     "output_type": "stream",
     "text": [
      "Alice의 체력: 120\n",
      "Goblin의 체력: 60\n",
      "Alice이 Goblin을 공격하여 15의 데미지를 입혔습니다.\n",
      "Goblin이 Alice을 공격하여 8의 데미지를 입혔습니다.\n",
      "Alice의 체력: 112\n",
      "Goblin의 체력: 45\n",
      "Alice이 Goblin을 공격하여 15의 데미지를 입혔습니다.\n",
      "Goblin이 Alice을 공격하여 8의 데미지를 입혔습니다.\n",
      "Alice의 체력: 104\n",
      "Goblin의 체력: 30\n",
      "Alice이 Goblin을 공격하여 15의 데미지를 입혔습니다.\n",
      "Goblin이 Alice을 공격하여 8의 데미지를 입혔습니다.\n",
      "Alice의 체력: 96\n",
      "Goblin의 체력: 15\n",
      "Alice이 Goblin을 공격하여 15의 데미지를 입혔습니다.\n",
      "Goblin을 물리쳤습니다.\n"
     ]
    }
   ],
   "source": [
    "class Game:\n",
    "    def __init__(self, player_name, player_hp, player_attack, monster_name, monster_hp, monster_attack):\n",
    "        self.player_name = player_name\n",
    "        self.player_hp = player_hp\n",
    "        self.player_attack = player_attack\n",
    "        self.monster_name = monster_name\n",
    "        self.monster_hp = monster_hp\n",
    "        self.monster_attack = monster_attack\n",
    "\n",
    "    def fight(self):\n",
    "        while self.player_hp > 0 and self.monster_hp > 0:\n",
    "            print(f\"{self.player_name}의 체력: {self.player_hp}\")\n",
    "            print(f\"{self.monster_name}의 체력: {self.monster_hp}\")\n",
    "            self.monster_hp -= self.player_attack\n",
    "            print(f\"{self.player_name}이 {self.monster_name}을 공격하여 {self.player_attack}의 데미지를 입혔습니다.\")\n",
    "            if self.monster_hp <= 0:\n",
    "                print(f\"{self.monster_name}을 물리쳤습니다.\")\n",
    "                break\n",
    "            self.player_hp -= self.monster_attack\n",
    "            print(f\"{self.monster_name}이 {self.player_name}을 공격하여 {self.monster_attack}의 데미지를 입혔습니다.\")\n",
    "            if self.player_hp <= 0:\n",
    "                print(f\"{self.player_name}이 죽었습니다.\")\n",
    "                break\n",
    "\n",
    "game = Game(\"Alice\",120,15, \"Goblin\", 60, 8)\n",
    "game.fight()\n"
   ]
  },
  {
   "cell_type": "code",
   "execution_count": 12,
   "metadata": {},
   "outputs": [],
   "source": [
    "class Player:\n",
    "    def __init__(self, name, hp, attack):\n",
    "        self.name = name\n",
    "        self.hp = hp\n",
    "        self.attack = attack\n",
    "\n",
    "    def attack_monster(self, monster):\n",
    "        print(f\"{self.name}이(가) {monster.name}을(를) 공격했습니다.\")\n",
    "        damage = self.attack\n",
    "        monster.defend(damage)\n",
    "\n",
    "    def defend(self, damage):\n",
    "        self.hp -= damage\n",
    "        if self.hp <= 0:\n",
    "            print(f\"{self.name}이(가) 죽었습니다.\")\n",
    "        else:\n",
    "            print(f\"{self.name}의 체력이 {self.hp} 남았습니다.\")\n"
   ]
  },
  {
   "cell_type": "code",
   "execution_count": 13,
   "metadata": {},
   "outputs": [],
   "source": [
    "class Monster:\n",
    "    def __init__(self, name, hp, attack):\n",
    "        self.name = name\n",
    "        self.hp = hp\n",
    "        self.attack = attack\n",
    "\n",
    "    def attack_player(self, player):\n",
    "        print(f\"{self.name}이(가) {player.name}을(를) 공격했습니다.\")\n",
    "        damage = self.attack\n",
    "        player.defend(damage)\n",
    "\n",
    "    def defend(self, damage):\n",
    "        self.hp -= damage\n",
    "        if self.hp <= 0:\n",
    "            print(f\"{self.name}이(가) 죽었습니다.\")\n",
    "        else:\n",
    "            print(f\"{self.name}의 체력이 {self.hp} 남았습니다.\")\n"
   ]
  },
  {
   "cell_type": "code",
   "execution_count": 14,
   "metadata": {},
   "outputs": [
    {
     "name": "stdout",
     "output_type": "stream",
     "text": [
      "Alice이(가) Goblin을(를) 공격했습니다.\n",
      "Goblin의 체력이 40 남았습니다.\n",
      "Goblin이(가) Alice을(를) 공격했습니다.\n",
      "Alice의 체력이 95 남았습니다.\n",
      "Alice이(가) Goblin을(를) 공격했습니다.\n",
      "Goblin의 체력이 30 남았습니다.\n",
      "Goblin이(가) Alice을(를) 공격했습니다.\n",
      "Alice의 체력이 90 남았습니다.\n",
      "Alice이(가) Goblin을(를) 공격했습니다.\n",
      "Goblin의 체력이 20 남았습니다.\n",
      "Goblin이(가) Alice을(를) 공격했습니다.\n",
      "Alice의 체력이 85 남았습니다.\n",
      "Alice이(가) Goblin을(를) 공격했습니다.\n",
      "Goblin의 체력이 10 남았습니다.\n",
      "Goblin이(가) Alice을(를) 공격했습니다.\n",
      "Alice의 체력이 80 남았습니다.\n",
      "Alice이(가) Goblin을(를) 공격했습니다.\n",
      "Goblin이(가) 죽었습니다.\n"
     ]
    }
   ],
   "source": [
    "class Game:\n",
    "    def __init__(self):\n",
    "        self.player = None\n",
    "        self.monster = None\n",
    "\n",
    "    def create_player(self, name, hp, attack):\n",
    "        self.player = Player(name, hp, attack)\n",
    "\n",
    "    def create_monster(self, name, hp, attack):\n",
    "        self.monster = Monster(name, hp, attack)\n",
    "\n",
    "    def fight(self):\n",
    "        while self.player.hp > 0 and self.monster.hp > 0:\n",
    "            self.player.attack_monster(self.monster)\n",
    "            if self.monster.hp <= 0:\n",
    "                break\n",
    "            self.monster.attack_player(self.player)\n",
    "            if self.player.hp <= 0:\n",
    "                break\n",
    "\n",
    "game = Game()\n",
    "game.create_player(\"Alice\", 100, 10)\n",
    "game.create_monster(\"Goblin\", 50, 5)\n",
    "game.fight()\n"
   ]
  },
  {
   "attachments": {},
   "cell_type": "markdown",
   "metadata": {},
   "source": [
    "* 추상 클래스(abstract class)란, 인스턴스를 생성할 수 없는 클래스입니다. \n",
    "    - 추상 클래스는 하나 이상의 추상 메서드(abstract method)를 포함하고 있어, 하위 클래스에서 이를 오버라이딩하여 구체적인 구현을 제공해야만 인스턴스를 생성할 수 있습니다.\n",
    "\n",
    "* 장점:\n",
    "    - 특정한 인터페이스를 구현해야 하는 클래스들이 반드시 일정한 형태의 메서드를 구현하도록 강제할 수 있습니다.\n",
    "    - 코드의 가독성이 좋아집니다. 추상 클래스는 구현해야 하는 메서드가 무엇인지 명확하게 정의되어 있기 때문에, 코드의 가독성이 좋아집니다.\n",
    "\n",
    "\n"
   ]
  },
  {
   "cell_type": "code",
   "execution_count": 15,
   "metadata": {},
   "outputs": [],
   "source": [
    "# 추상 클래스를 정의하는 예시\n",
    "# 1. abc 모듈을 import합니다.\n",
    "# 2. ABC 클래스를 상속받아 추상 클래스를 생성합니다.\n",
    "# 3. 추상 메서드를 정의합니다. 추상 메서드는 구현 코드가 없이 메서드 이름과 매개변수만을 가진 메서드를 말합니다.\n",
    "# 4. @abstractmethod 데코레이터를 이용해 메서드를 추상 메서드로 정의합니다. \n",
    "#     이를 통해 하위 클래스가 해당 메서드를 구현하지 않으면 오류가 발생합니다.\n",
    "\n",
    "\n",
    "from abc import ABC, abstractmethod\n",
    "\n",
    "class Vehicle(ABC):\n",
    "    @abstractmethod\n",
    "    def get_num_wheels(self):\n",
    "        pass\n",
    "\n",
    "class Car(Vehicle):\n",
    "    def get_num_wheels(self):\n",
    "        return 4\n",
    "\n",
    "class Motorcycle(Vehicle):\n",
    "    def get_num_wheels(self):\n",
    "        return 2\n"
   ]
  },
  {
   "cell_type": "code",
   "execution_count": null,
   "metadata": {},
   "outputs": [],
   "source": [
    "# 추상 클래스를 사용하여 여러 클래스가 일정한 형태의 메서드를 구현하도록 강제하는 예제\n",
    "\n",
    "\n",
    "from abc import ABC, abstractmethod\n",
    "\n",
    "class Vehicle(ABC):\n",
    "    @abstractmethod\n",
    "    def start(self):\n",
    "        pass\n",
    "    \n",
    "    @abstractmethod\n",
    "    def stop(self):\n",
    "        pass\n",
    "    \n",
    "class Car(Vehicle):\n",
    "    def start(self):\n",
    "        print(\"Car started.\")\n",
    "        \n",
    "    def stop(self):\n",
    "        print(\"Car stopped.\")\n",
    "\n",
    "class Bike(Vehicle):\n",
    "    def start(self):\n",
    "        print(\"Bike started.\")\n",
    "        \n",
    "    def stop(self):\n",
    "        print(\"Bike stopped.\")\n",
    "\n",
    "vehicles = [Car(), Bike()]\n",
    "\n",
    "for vehicle in vehicles:\n",
    "    vehicle.start()\n",
    "    vehicle.stop()\n",
    "\n",
    "# 추상 클래스를 사용하면 일정한 형태의 메서드를 구현하도록 강제하여 코드의 일관성을 유지할 수 있습니다.\n"
   ]
  },
  {
   "cell_type": "code",
   "execution_count": 16,
   "metadata": {},
   "outputs": [
    {
     "name": "stdout",
     "output_type": "stream",
     "text": [
      "멍멍!\n",
      "야옹!\n"
     ]
    }
   ],
   "source": [
    "# 다형성(polymorphism)\n",
    "\n",
    "# 다형성(polymorphism)은 객체 지향 프로그래밍의 중요한 개념 중 하나입니다. \n",
    "# 다형성은 같은 이름의 메서드나 함수가 다른 객체에서 다른 동작을 하도록 만드는 기술입니다.\n",
    "# 전달된 인자에 따라 함수 또는 연산의 기능이 달라지는 기능\n",
    "# 2 + 3 => 5\n",
    "# '2' + '3' => '23'\n",
    "# 'Hello ' + 'World' => 'Hello World'\n",
    "\n",
    "\n",
    "\n",
    "\n",
    "\n",
    "class 동물:\n",
    "    def 소리내기(self):\n",
    "        pass\n",
    "\n",
    "class 개(동물):\n",
    "    def 소리내기(self):\n",
    "        print(\"멍멍!\")\n",
    "\n",
    "class 고양이(동물):\n",
    "    def 소리내기(self):\n",
    "        print(\"야옹!\")\n",
    "\n",
    "def 동물들_소리내기(동물_리스트):\n",
    "    for 동물_인스턴스 in 동물_리스트:\n",
    "        동물_인스턴스.소리내기()\n",
    "\n",
    "개_인스턴스 = 개()\n",
    "고양이_인스턴스 = 고양이()\n",
    "\n",
    "동물들 = [개_인스턴스, 고양이_인스턴스]\n",
    "동물들_소리내기(동물들)\n"
   ]
  },
  {
   "cell_type": "code",
   "execution_count": 17,
   "metadata": {},
   "outputs": [
    {
     "name": "stdout",
     "output_type": "stream",
     "text": [
      "멍멍!\n"
     ]
    }
   ],
   "source": [
    "# 메서드 오버라이딩 (Method Overriding):\n",
    "\n",
    "class 동물:\n",
    "    def 소리내기(self):\n",
    "        print(\"동물이 소리를 냅니다.\")\n",
    "\n",
    "class 개(동물):\n",
    "    def 소리내기(self):  # 메서드 오버라이딩\n",
    "        print(\"멍멍!\")\n",
    "\n",
    "개_인스턴스 = 개()\n",
    "개_인스턴스.소리내기()  # 결과: 멍멍!\n"
   ]
  },
  {
   "cell_type": "code",
   "execution_count": 18,
   "metadata": {},
   "outputs": [
    {
     "name": "stdout",
     "output_type": "stream",
     "text": [
      "멍멍!\n",
      "야옹!\n"
     ]
    }
   ],
   "source": [
    "# 다형성 (Polymorphism):\n",
    "\n",
    "class 동물:\n",
    "    def 소리내기(self):\n",
    "        print(\"동물이 소리를 냅니다.\")\n",
    "\n",
    "class 개(동물):\n",
    "    def 소리내기(self):\n",
    "        print(\"멍멍!\")\n",
    "\n",
    "class 고양이(동물):\n",
    "    def 소리내기(self):\n",
    "        print(\"야옹!\")\n",
    "\n",
    "def 동물소리내기(동물_인스턴스):\n",
    "    동물_인스턴스.소리내기()\n",
    "\n",
    "개_인스턴스 = 개()\n",
    "고양이_인스턴스 = 고양이()\n",
    "\n",
    "동물소리내기(개_인스턴스)   # 결과: 멍멍!\n",
    "동물소리내기(고양이_인스턴스) # 결과: 야옹!\n",
    "\n",
    "# 메서드 오버라이딩은 상위 클래스의 메서드를 하위 클래스에서 재정의하는 과정이며, \n",
    "# 다형성은 같은 인터페이스를 사용하여 서로 다른 객체가 서로 다른 작업을 수행할 수 있는 기능입니다. \n",
    "# 메서드 오버라이딩은 다형성을 구현하는 방법 중 하나입니다.\n"
   ]
  },
  {
   "cell_type": "code",
   "execution_count": 23,
   "metadata": {},
   "outputs": [
    {
     "name": "stdout",
     "output_type": "stream",
     "text": [
      "name=김원일, student_id=1234, year=3, major=AI, avg_score=45\n",
      "name=김원일, student_id=2341, year=4, major=Computer, avg_score=55\n",
      "name=김원일, student_id=3412, year=5, major=BI, avg_score=85\n",
      "name=김원일, student_id=4123, year=6, major=CI, avg_score=75\n",
      "name=김원일, student_id=12345, year=7, major=DI, avg_score=25\n",
      "True\n",
      "name=김원일, student_id=1234, year=3, major=AI, avg_score=45\n",
      "name=김원일, student_id=2341, year=4, major=Computer, avg_score=55\n",
      "name=김원일, student_id=3412, year=5, major=BI, avg_score=85\n",
      "name=김원일, student_id=4123, year=6, major=CI, avg_score=75\n"
     ]
    }
   ],
   "source": [
    "# 연습문제\n",
    "# 문제: 학생 정보를 관리하는 프로그램을 만드세요.\n",
    "# 학생(Student) 클래스\n",
    "# 인스턴스 변수: 이름(name), 학번(student_id), 학년(year), 전공(major), 평균 성적(avg_score)\n",
    "# 메서드: get_info() - 학생의 정보를 문자열로 반환\n",
    "\n",
    "class Student:\n",
    "\n",
    "    def __init__(self, name, student_id, year, major, avg_score) -> None:\n",
    "        self.name = name\n",
    "        self.student_id = student_id\n",
    "        self.year = year\n",
    "        self.major = major\n",
    "        self.avg_score = avg_score\n",
    "        \n",
    "    def get_info(self):\n",
    "        return \"name=\" + self.name + \", student_id=\" + str(self.student_id) + \", year=\" + str(self.year) + \", major=\" + self.major + \", avg_score=\" + str(self.avg_score)\n",
    "    \n",
    "# 학생들을 관리하는 클래스(StudentManager)\n",
    "# 인스턴스 변수: 학생들(student_list)\n",
    "# 메서드:\n",
    "# add_student(student): 학생을 리스트에 추가하는 메서드\n",
    "# remove_student(student_id): 학번을 이용해 학생을 리스트에서 제거하는 메서드\n",
    "# find_student(student_id): 학번을 이용해 학생을 찾는 메서드\n",
    "# show_all_students(): 모든 학생의 정보를 출력하는 메서드\n",
    "\n",
    "class StudentManager:\n",
    "\n",
    "    def __init__(self) -> None:\n",
    "        self.student_list = []\n",
    "\n",
    "    def add_student(self, student):\n",
    "        self.student_list.append(student)\n",
    "\n",
    "    def remove_student(self, student_id):\n",
    "        index = -1\n",
    "        for i in range(len(self.student_list)):\n",
    "            if (self.student_list[i].student_id == student_id):\n",
    "                index = i\n",
    "                break\n",
    "        if (0 < index):\n",
    "            self.student_list.pop(index)\n",
    "            return True\n",
    "        else:\n",
    "            return False\n",
    "                \n",
    "\n",
    "    def find_student(self, student_id):\n",
    "        index = -1\n",
    "        for i in range(len(self.student_list)):\n",
    "            if (self.student_list[i].student_id == student_id):\n",
    "                index = i\n",
    "                break\n",
    "        if (0 < index):\n",
    "            return self.student_list[index]\n",
    "        else:\n",
    "            return\n",
    "\n",
    "\n",
    "    def show_all_students(self):\n",
    "        for s in self.student_list:\n",
    "            print(s.get_info())\n",
    "\n",
    "\n",
    "# 위 클래스들을 이용하여 다음과 같은 프로그램을 작성하세요.\n",
    "# 학생 관리자(StudentManager)를 생성합니다.\n",
    "# 학생(Student)을 생성합니다. 학생의 인스턴스 변수는 이름, 학번, 학년, 전공, 평균 성적을 포함합니다.\n",
    "# 학생 관리자에 학생을 추가합니다.\n",
    "# 학생 관리자에서 학생을 삭제합니다.\n",
    "# 학생 관리자에서 학생을 찾습니다.\n",
    "# 학생 관리자에서 모든 학생의 정보를 출력합니다.\n",
    "\n",
    "manager = StudentManager()\n",
    "manager.add_student(Student(\"김원일\", 1234, 3, \"AI\", 45))\n",
    "manager.add_student(Student(\"김원일\", 2341, 4, \"Computer\", 55))\n",
    "manager.add_student(Student(\"김원일\", 3412, 5, \"BI\", 85))\n",
    "manager.add_student(Student(\"김원일\", 4123, 6, \"CI\", 75))\n",
    "manager.add_student(Student(\"김원일\", 12345, 7, \"DI\", 25))\n",
    "                    \n",
    "manager.show_all_students()\n",
    "\n",
    "temp = manager.find_student(12345)\n",
    "\n",
    "rst = manager.remove_student(temp.student_id)\n",
    "print(rst)\n",
    "\n",
    "manager.show_all_students()\n"
   ]
  }
 ],
 "metadata": {
  "kernelspec": {
   "display_name": "Python 3",
   "language": "python",
   "name": "python3"
  },
  "language_info": {
   "codemirror_mode": {
    "name": "ipython",
    "version": 3
   },
   "file_extension": ".py",
   "mimetype": "text/x-python",
   "name": "python",
   "nbconvert_exporter": "python",
   "pygments_lexer": "ipython3",
   "version": "3.11.3"
  },
  "orig_nbformat": 4
 },
 "nbformat": 4,
 "nbformat_minor": 2
}
