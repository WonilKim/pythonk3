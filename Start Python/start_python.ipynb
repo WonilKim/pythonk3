{
 "cells": [
  {
   "cell_type": "code",
   "execution_count": 1,
   "id": "f0d0805f",
   "metadata": {},
   "outputs": [
    {
     "name": "stdout",
     "output_type": "stream",
     "text": [
      "30\n"
     ]
    }
   ],
   "source": [
    "# 변수는 값을 저장하는 공간으로, 값을 변경할 수 있는 데이터 타입입니다. \n",
    "# 변수를 이용하여 값을 저장하고, 이 값을 이용하여 다양한 연산을 수행할 수 있습니다\n",
    "\n",
    "# 변수 사용 예제\n",
    "x = 10  # 변수 x에 정수 10을 저장\n",
    "y = 20  # 변수 y에 정수 20을 저장\n",
    "z = x + y  # 변수 z에 x와 y의 합을 저장\n",
    "print(z)  # 변수 z의 값을 출력\n",
    "\n",
    "# 위 예제에서는 변수 x와 y에 각각 정수 10과 20을 저장하고, 이들을 더한 값을 변수 z에 저장합니다. \n",
    "# 그리고 마지막으로 변수 z의 값을 출력합니다.\n"
   ]
  },
  {
   "cell_type": "code",
   "execution_count": 2,
   "id": "1dc679bb",
   "metadata": {},
   "outputs": [],
   "source": [
    "# 변수 이름을 정할 때는 다음과 같은 규칙을 따라야 합니다.\n",
    "#     영문자(대문자, 소문자)와 숫자, 그리고 밑줄(_)만을 사용할 수 있습니다.\n",
    "#     변수 이름은 숫자로 시작할 수 없습니다.\n",
    "#     예약어는 변수 이름으로 사용할 수 없습니다.\n",
    "#     변수 이름은 대소문자를 구분합니다"
   ]
  },
  {
   "cell_type": "code",
   "execution_count": 3,
   "id": "cdee471e",
   "metadata": {},
   "outputs": [
    {
     "name": "stdout",
     "output_type": "stream",
     "text": [
      "['False', 'None', 'True', '__peg_parser__', 'and', 'as', 'assert', 'async', 'await', 'break', 'class', 'continue', 'def', 'del', 'elif', 'else', 'except', 'finally', 'for', 'from', 'global', 'if', 'import', 'in', 'is', 'lambda', 'nonlocal', 'not', 'or', 'pass', 'raise', 'return', 'try', 'while', 'with', 'yield']\n"
     ]
    }
   ],
   "source": [
    "# 예약어는 프로그래밍 언어에서 이미 특별한 용도로 예약되어 있는 키워드들을 말합니다. \n",
    "# 즉, 변수명, 함수명 등의 이름으로 예약어를 사용할 수 없습니다\n",
    "\n",
    "# 키워드 \n",
    "import keyword\n",
    "\n",
    "print(keyword.kwlist)"
   ]
  },
  {
   "cell_type": "code",
   "execution_count": 4,
   "id": "990bb594",
   "metadata": {},
   "outputs": [
    {
     "name": "stdout",
     "output_type": "stream",
     "text": [
      "314.1592653589793\n"
     ]
    }
   ],
   "source": [
    "# 상수(constant)라는 개념이 존재하지 않습니다. 즉, 값이 변하지 않는 상수(constant)를 따로 정의하지 않고, \n",
    "# 변수(variable)를 이용해 값을 지정하며, 이 변수의 값을 변경하면 새로운 값이 할당됩니다.\n",
    "\n",
    "# 상수 사용 예제\n",
    "PI = 3.141592653589793  # 상수 PI에 값을 저장\n",
    "radius = 10  # 반지름을 저장하는 변수\n",
    "area = PI * radius * radius  # 원의 면적을 계산하여 변수에 저장\n",
    "print(area)  # 변수의 값을 출력\n"
   ]
  },
  {
   "cell_type": "code",
   "execution_count": 5,
   "id": "fadb2406",
   "metadata": {},
   "outputs": [
    {
     "name": "stdout",
     "output_type": "stream",
     "text": [
      "100\n",
      "-200\n",
      "0\n"
     ]
    }
   ],
   "source": [
    "# 정수형 데이터에 대해 다음과 같은 연산을 수행할 수 있습니다.\n",
    "#     사칙연산(덧셈, 뺄셈, 곱셈, 나눗셈)\n",
    "#     나머지 연산\n",
    "#     몫 연산\n",
    "#     거듭제곱 연산\n",
    "\n",
    "# 양의 정수\n",
    "x = 100\n",
    "print(x)    # 출력: 100\n",
    "\n",
    "# 음의 정수\n",
    "y = -200\n",
    "print(y)    # 출력: -200\n",
    "\n",
    "# 0\n",
    "z = 0\n",
    "print(z)    # 출력: 0\n"
   ]
  },
  {
   "cell_type": "code",
   "execution_count": 6,
   "id": "06964d62",
   "metadata": {},
   "outputs": [
    {
     "name": "stdout",
     "output_type": "stream",
     "text": [
      "42\n",
      "42\n",
      "42\n",
      "42\n"
     ]
    }
   ],
   "source": [
    "# 10진수 외에도 2진수, 8진수, 16진수로도 정수형 데이터를 표현할 수 있습니다.\n",
    "# 0b 접두어를 사용하면 2진수로 인식되며, 0o 접두어를 사용하면 8진수로 인식됩니다. 또한, 0x 접두어를 사용하면 16진수로 인식됩니다. \n",
    "\n",
    "# 10진수\n",
    "x = 42\n",
    "print(x)    # 출력: 42\n",
    "\n",
    "# 2진수\n",
    "y = 0b101010\n",
    "print(y)    # 출력: 42\n",
    "\n",
    "# 8진수\n",
    "z = 0o52\n",
    "print(z)    # 출력: 42\n",
    "\n",
    "# 16진수\n",
    "w = 0x2a\n",
    "print(w)    # 출력: 42"
   ]
  },
  {
   "cell_type": "code",
   "execution_count": 7,
   "id": "e6c99065",
   "metadata": {},
   "outputs": [],
   "source": [
    "# 소수점 아래의 숫자를 포함하는 숫자를 말합니다. 파이썬에서 실수형 데이터는 부동소수점 방식으로 표현됩니다.\n",
    "\n",
    "# 실수형 데이터\n",
    "a = 3.14\n",
    "b = -1.23\n",
    "c = 4.24e-3\n",
    "d = 2.718281828\n",
    "\n",
    "# 실수를 만들 수 있는 여러 가지 표현\n",
    "#     일반적인 소수점 표기법: 3.14, -2.5, 100.0\n",
    "#     지수 표기법: 3e8 (3 x 10의 8제곱), 1.23e-4 (0.000123)\n",
    "#     float() 함수를 사용하여 실수로 변환: float(10), float(\"3.14\")\n",
    "#     다른 연산의 결과로 생성: 7 / 2 (결과는 3.5)\n"
   ]
  },
  {
   "cell_type": "code",
   "execution_count": 8,
   "id": "4b188692",
   "metadata": {},
   "outputs": [
    {
     "name": "stdout",
     "output_type": "stream",
     "text": [
      "(6+1j)\n",
      "(14+8j)\n",
      "(0.1+0.8j)\n",
      "(-5+12j)\n"
     ]
    }
   ],
   "source": [
    "# 파이썬에서는 a + bj와 같은 형태로 표기합니다. 여기서 a는 실수부(real part), b는 허수부(imaginary part)를 나타냅니다.\n",
    "\n",
    "# 복소수 생성\n",
    "z1 = 2 + 3j\n",
    "z2 = complex(4, -2)\n",
    "\n",
    "# 복소수 연산\n",
    "z3 = z1 + z2\n",
    "z4 = z1 * z2\n",
    "z5 = z1 / z2\n",
    "z6 = z1 ** 2\n",
    "\n",
    "# 결과 출력\n",
    "print(z3)   # (6+1j)\n",
    "print(z4)   # (14+8j)\n",
    "print(z5)   # (-0.4+0.7j)\n",
    "print(z6)   # (-5+12j)"
   ]
  },
  {
   "cell_type": "code",
   "execution_count": 9,
   "id": "fc85a22c",
   "metadata": {},
   "outputs": [
    {
     "name": "stdout",
     "output_type": "stream",
     "text": [
      "3.0\n",
      "4.0\n"
     ]
    }
   ],
   "source": [
    "# 복소수형 데이터를 다룰 때, 실수부와 허수부를 각각 얻는 방법은 아래와 같습니다.\n",
    "\n",
    "z = 3 + 4j\n",
    "print(z.real)  # 출력: 3.0\n",
    "print(z.imag)  # 출력: 4.0\n",
    "\n",
    "# real 속성은 복소수형 변수의 실수부 값을 반환하며, imag 속성은 허수부 값을 반환합니다. \n",
    "# 예를 들어, z.real과 z.imag은 각각 복소수 z의 실수부와 허수부를 반환합니다.\n"
   ]
  },
  {
   "cell_type": "code",
   "execution_count": 10,
   "id": "2a4eac94",
   "metadata": {},
   "outputs": [],
   "source": [
    "# 문자들의 순서 있는 나열로, 파이썬에서는 문자열을 따옴표로 둘러싸서 표현합니다. \n",
    "# 큰따옴표(\")나 작은따옴표(')를 사용하여 표현할 수 있으며, \n",
    "# 여러 줄로 이루어진 문자열은 삼중 따옴표(\"\"\")를 사용하여 표현할 수도 있습니다"
   ]
  },
  {
   "cell_type": "code",
   "execution_count": 11,
   "id": "8af912d7",
   "metadata": {},
   "outputs": [],
   "source": [
    "\n",
    "string1 = \"Hello, world!\"\n",
    "string2 = \"It's a beautiful day.\"\n"
   ]
  },
  {
   "cell_type": "code",
   "execution_count": 12,
   "id": "07f295f6",
   "metadata": {},
   "outputs": [],
   "source": [
    "string1 = 'Hello, world!'\n",
    "string2 = \"It's a beautiful day.\"\n"
   ]
  },
  {
   "cell_type": "code",
   "execution_count": 13,
   "id": "93eb99ef",
   "metadata": {},
   "outputs": [],
   "source": [
    "string1 = \"\"\"This is a\n",
    "multi-line\n",
    "string.\"\"\"\n",
    "string2 = '''This is also a\n",
    "multi-line\n",
    "string.'''\n"
   ]
  },
  {
   "cell_type": "code",
   "execution_count": 14,
   "id": "9c9c6de5",
   "metadata": {},
   "outputs": [],
   "source": [
    "# 문자열은 인덱싱과 슬라이싱을 통해 내부의 각 문자에 접근할 수 있으며, \n",
    "# 문자열을 결합하거나 반복시키는 등의 연산도 가능합니다. \n",
    "# 또한 문자열 메소드를 통해 문자열의 형식을 변경하거나 검색, 수정 등의 다양한 작업이 가능합니다.\n"
   ]
  },
  {
   "cell_type": "code",
   "execution_count": 15,
   "id": "28bd0f8b",
   "metadata": {},
   "outputs": [
    {
     "name": "stdout",
     "output_type": "stream",
     "text": [
      "H\n",
      "W\n",
      "Hello, John!\n",
      "spamspamspam\n",
      "7\n"
     ]
    }
   ],
   "source": [
    "string = \"Hello, World!\"\n",
    "print(string[0]) # \"H\" 출력\n",
    "print(string[7]) # \"W\" 출력\n",
    "\n",
    "greeting = \"Hello\"\n",
    "name = \"John\"\n",
    "message = greeting + \", \" + name + \"!\"\n",
    "print(message) # \"Hello, John!\" 출력\n",
    "\n",
    "word = \"spam\"\n",
    "repeated = word * 3\n",
    "print(repeated) # \"spamspamspam\" 출력\n",
    "\n",
    "string = \"Hello, World!\" \n",
    "position = string.find(\"World\")\n",
    "print(position) # 7 출력\n"
   ]
  },
  {
   "cell_type": "code",
   "execution_count": 16,
   "id": "039dcbdd",
   "metadata": {},
   "outputs": [
    {
     "name": "stdout",
     "output_type": "stream",
     "text": [
      "False\n",
      "True\n",
      "False\n"
     ]
    }
   ],
   "source": [
    "# 부울형(Boolean)은 참(True)과 거짓(False) 두 가지 값을 가지는 데이터 타입입니다. \n",
    "# 파이썬에서 부울형은 bool이라는 내장 클래스로 표현됩니다.\n",
    "# 부울형은 조건문이나 논리 연산 등에서 사용되어, 어떤 조건이 참인지 거짓인지를 판단하는 데에 사용됩니다.\n",
    "# 예를 들어, 다음은 a와 b가 모두 참일 때 True를 반환하고, 그 외에는 False를 반환하는 논리 연산의 예입니다.\n",
    "\n",
    "\n",
    "a = True\n",
    "b = False\n",
    "\n",
    "print(a and b)   # 출력: False\n",
    "print(a or b)    # 출력: True\n",
    "print(not a)     # 출력: False\n"
   ]
  },
  {
   "cell_type": "code",
   "execution_count": 17,
   "id": "0c1fcd6d",
   "metadata": {},
   "outputs": [
    {
     "name": "stdout",
     "output_type": "stream",
     "text": [
      "True\n",
      "False\n"
     ]
    }
   ],
   "source": [
    "# 부울형은 또한 다른 데이터 타입에서도 자주 사용됩니다. \n",
    "# 예를 들어, 비교 연산자를 이용하여 얻은 결과는 부울형으로 반환됩니다. \n",
    "# 아래 예시에서는 a와 b를 비교하여 결과를 부울형으로 반환합니다.\n",
    "\n",
    "a = 3\n",
    "b = 5\n",
    "\n",
    "print(a < b)    # 출력: True\n",
    "print(a > b)    # 출력: False\n",
    "\n",
    "# 부울형은 True와 False 두 가지 값만을 가지므로, 비교 연산이나 논리 연산 등에서 결과값으로 자주 사용됩니다.\n"
   ]
  },
  {
   "cell_type": "code",
   "execution_count": 18,
   "id": "4e1fabac",
   "metadata": {},
   "outputs": [],
   "source": [
    "# 변수에 저장되는 데이터의 타입이 일치하지 않아 발생하는 오류를 말합니다. \n",
    "# 예를 들어, 정수형과 문자열을 더하거나, 리스트와 정수를 곱하는 등의 연산에서 발생할 수 있습니다.\n",
    "\n",
    "# 다음과 같이 정수형과 문자열을 더하려고 할 때 타입 에러가 발생합니다\n",
    "num = 10\n",
    "text = \"apple\"\n",
    "# print(num + text) # 에러 발생 \"TypeError: unsupported operand type(s) for +: 'int' and 'str'\"\n"
   ]
  },
  {
   "cell_type": "code",
   "execution_count": 19,
   "id": "b6cf37be",
   "metadata": {},
   "outputs": [
    {
     "name": "stdout",
     "output_type": "stream",
     "text": [
      "10apple\n"
     ]
    }
   ],
   "source": [
    "# 변수 num은 정수형(int)이고, 변수 text는 문자열(str)이므로 덧셈 연산을 할 수 없습니다. 따라서 num을 문자열로 변환해야 합니다.\n",
    "\n",
    "num = 10\n",
    "text = \"apple\"\n",
    "print(str(num) + text)\n"
   ]
  },
  {
   "cell_type": "code",
   "execution_count": 20,
   "id": "bef97337",
   "metadata": {},
   "outputs": [
    {
     "name": "stdout",
     "output_type": "stream",
     "text": [
      "<class 'int'>\n",
      "<class 'float'>\n",
      "<class 'str'>\n",
      "<class 'bool'>\n"
     ]
    }
   ],
   "source": [
    "# 다양한 타입 변환 함수를 제공합니다\n",
    "\n",
    "#     int(): 인자로 전달된 값을 정수형으로 변환합니다. 만약 문자열이 전달되면 해당 문자열이 숫자로 이루어져 있어야 합니다.\n",
    "#     float(): 인자로 전달된 값을 실수형으로 변환합니다. 만약 문자열이 전달되면 해당 문자열이 실수로 표현될 수 있는 형식이어야 합니다.\n",
    "#     str(): 인자로 전달된 값을 문자열로 변환합니다.\n",
    "#     bool(): 인자로 전달된 값을 불리언으로 변환합니다. 숫자나 문자열일 경우 0, 0.0, 빈 문자열은 False로, \n",
    "#         그 외의 값은 True로 변환됩니다.\n",
    "\n",
    "num = 10\n",
    "float_num = float(num)\n",
    "str_num = str(num)\n",
    "bool_num = bool(num)\n",
    "\n",
    "print(type(num))         # <class 'int'>\n",
    "print(type(float_num))   # <class 'float'>\n",
    "print(type(str_num))     # <class 'str'>\n",
    "print(type(bool_num))    # <class 'bool'>\n"
   ]
  },
  {
   "cell_type": "code",
   "execution_count": 21,
   "id": "f2949d89",
   "metadata": {},
   "outputs": [
    {
     "name": "stdout",
     "output_type": "stream",
     "text": [
      "['apple', 'banana', 'cherry']\n",
      "banana\n",
      "['apple', 'orange', 'cherry']\n"
     ]
    }
   ],
   "source": [
    "# 리스트(List)\n",
    "# 대괄호([ ])를 사용하여 만들며, 요소(element)들은 쉼표(,)로 구분합니다. \n",
    "# 요소의 추가, 수정, 삭제 등이 가능하며, 인덱스를 사용하여 요소에 접근할 수 있습니다\n",
    "\n",
    "fruits = [\"apple\", \"banana\", \"cherry\"]\n",
    "print(fruits)\n",
    "print(fruits[1])\n",
    "fruits[1] = \"orange\"\n",
    "print(fruits)\n"
   ]
  },
  {
   "cell_type": "code",
   "execution_count": 22,
   "id": "0e7bf7f8",
   "metadata": {},
   "outputs": [
    {
     "name": "stdout",
     "output_type": "stream",
     "text": [
      "('apple', 'banana', 'cherry')\n",
      "banana\n"
     ]
    }
   ],
   "source": [
    "# 튜플(Tuple)\n",
    "# 괄호(())를 사용하여 만들며, 요소들은 쉼표(,)로 구분합니다. \n",
    "# 리스트와 마찬가지로 인덱스를 사용하여 요소에 접근할 수 있지만, \n",
    "# 요소의 추가, 수정, 삭제 등이 불가능합니다. 대신, 리스트보다 더 적은 공간을 차지하고 처리 속도가 빠릅니다.\n",
    "\n",
    "fruits = (\"apple\", \"banana\", \"cherry\")\n",
    "print(fruits)\n",
    "print(fruits[1])\n"
   ]
  },
  {
   "cell_type": "code",
   "execution_count": 23,
   "id": "3c53b5ef",
   "metadata": {},
   "outputs": [
    {
     "name": "stdout",
     "output_type": "stream",
     "text": [
      "{'apple': 3, 'banana': 2, 'cherry': 5}\n",
      "2\n",
      "{'apple': 3, 'banana': 2, 'cherry': 5, 'orange': 4}\n"
     ]
    }
   ],
   "source": [
    "# 딕셔너리(Dictionary)\n",
    "# 중괄호({})를 사용하여 만들며, key와 value로 이루어진 쌍(pair)들을 저장합니다. \n",
    "# key와 value는 콜론(:)으로 구분하고, 각 쌍은 쉼표(,)로 구분합니다. 인덱스 대신 key를 사용하여 value에 접근할 수 있습니다\n",
    "\n",
    "fruits = {\"apple\": 3, \"banana\": 2, \"cherry\": 5}\n",
    "print(fruits)\n",
    "print(fruits[\"banana\"])\n",
    "fruits[\"orange\"] = 4\n",
    "print(fruits)\n"
   ]
  },
  {
   "cell_type": "code",
   "execution_count": 24,
   "id": "a1d71dca",
   "metadata": {},
   "outputs": [],
   "source": [
    "# 산술 연산자: +, -, *, /, %, //, **\n",
    "#     사칙연산과 나머지 계산, 몫 계산, 지수 계산\n",
    "# 비교 연산자: ==, !=, >, <, >=, <=\n",
    "#     두 값의 크기 비교\n",
    "# 할당 연산자: =, +=, -=, *=, /=, %=, //=, **=\n",
    "#     변수에 값 할당\n",
    "# 논리 연산자: and, or, not\n",
    "#     논리 연산(True/False 값의 계산)\n",
    "# 멤버쉽 연산자: in, not in\n",
    "#     리스트, 튜플, 딕셔너리 등에서 특정 값의 존재 여부 판단\n",
    "# 식별 연산자: is, is not\n",
    "#     두 객체의 주소 비교\n",
    "# 연산자 우선순위와 괄호\n",
    "#     연산자의 우선순위 적용(산술 > 비교 > 논리 등)\n",
    "#     괄호를 사용한 연산자 우선순위 변경\n",
    "# 산술식과 비교식\n",
    "#     파이썬에서의 산술식과 비교식의 활용\n",
    "#     연산 결과에 따른 조건 판단 등에 응용.\n"
   ]
  },
  {
   "cell_type": "code",
   "execution_count": 25,
   "id": "c1456c10",
   "metadata": {},
   "outputs": [],
   "source": [
    "# 덧셈, 뺄셈, 곱셈, 나눗셈, 나머지 연산 등을 수행하는 연산자입니다. 파이썬에서 사용되는 산술연산자는 다음과 같습니다.\n",
    "\n",
    "#     덧셈 연산자 (+): 두 값을 더합니다.\n",
    "#     뺄셈 연산자 (-): 두 값을 뺍니다.\n",
    "#     곱셈 연산자 (*): 두 값을 곱합니다.\n",
    "#     나눗셈 연산자 (/): 첫 번째 값을 두 번째 값으로 나누어 결과값을 반환합니다.\n",
    "#     나머지 연산자 (%): 첫 번째 값을 두 번째 값으로 나누어 나머지 값을 반환합니다.\n",
    "#     몫 연산자 (//): 첫 번째 값을 두 번째 값으로 나누어 몫을 반환합니다.\n",
    "#     거듭제곱 연산자 (**): 첫 번째 값을 두 번째 값으로 거듭제곱하여 결과값을 반환합니다.\n",
    "\n",
    "# 이러한 산술 연산자들은 숫자 데이터 타입인 정수형(int), 부동소수점형(float), 복소수형(complex)에서 모두 사용될 수 있습니다.\n"
   ]
  },
  {
   "cell_type": "code",
   "execution_count": 26,
   "id": "cd31642c",
   "metadata": {},
   "outputs": [
    {
     "name": "stdout",
     "output_type": "stream",
     "text": [
      "13\n",
      "7\n",
      "30\n",
      "3.3333333333333335\n",
      "1\n"
     ]
    }
   ],
   "source": [
    "# 산술연산자 사용 예제\n",
    "a = 10\n",
    "b = 3\n",
    "c = a + b\n",
    "d = a - b\n",
    "e = a * b\n",
    "f = a / b\n",
    "g = a % b\n",
    "print(c)  # 13 출력\n",
    "print(d)  # 7 출력\n",
    "print(e)  # 30 출력\n",
    "print(f)  # 3.3333333333333335 출력\n",
    "print(g)  # 1 출력\n"
   ]
  },
  {
   "cell_type": "code",
   "execution_count": 27,
   "id": "3c446747",
   "metadata": {},
   "outputs": [
    {
     "name": "stdout",
     "output_type": "stream",
     "text": [
      "12.5\n",
      "18.5\n"
     ]
    }
   ],
   "source": [
    "# 일반적인 수학 연산자와 동일한 우선순위 규칙을 따릅니다. \n",
    "# 우선순위가 높은 연산자가 먼저 계산되며, 괄호를 사용하여 우선순위를 조정할 수 있습니다.\n",
    "# 덧셈(+)과 뺄셈(-) 연산자는 가장 낮은 우선순위를 갖고 있으며, \n",
    "# 곱셈(*)과 나눗셈(/) 연산자는 덧셈과 뺄셈보다 우선순위가 높습니다. \n",
    "# 지수 연산자(**)는 곱셈과 나눗셈 연산자보다 우선순위가 높습니다.\n",
    "\n",
    "result = 2 + 3 * 4 - 6 / 2 ** 2\n",
    "print(result)  # 출력 결과: 12.5\n",
    "\n",
    "result = (2 + 3) * 4 - 6 / 2 ** 2\n",
    "print(result)  # 출력 결과: 18.5\n"
   ]
  },
  {
   "cell_type": "code",
   "execution_count": 28,
   "id": "8d102bd6",
   "metadata": {},
   "outputs": [
    {
     "name": "stdout",
     "output_type": "stream",
     "text": [
      "False\n",
      "True\n",
      "True\n",
      "True\n"
     ]
    }
   ],
   "source": [
    "# 비교연산자는 두 개의 값을 비교하여 결과를 반환하는 연산자로, \n",
    "# 논리형 데이터 타입 (True/False)을 반환합니다. \n",
    "# 파이썬에서는 다양한 비교연산자를 제공하며, \n",
    "# 대표적으로 같음(==), 다름(!=), 크거나 같음(>=), 작거나 같음(<=), 큼(>), 작음(<) 등이 있습니다. \n",
    "\n",
    "# 비교연산자 사용 예제\n",
    "a = 10\n",
    "b = 20\n",
    "c = 10\n",
    "print(a == b)  # False 출력\n",
    "print(a != b)  # True 출력\n",
    "print(a <= c)  # True 출력\n",
    "print(b > c)  # True 출력\n"
   ]
  },
  {
   "cell_type": "code",
   "execution_count": 29,
   "id": "b488af63",
   "metadata": {},
   "outputs": [
    {
     "name": "stdout",
     "output_type": "stream",
     "text": [
      "30\n",
      "10\n",
      "200\n",
      "10.0\n",
      "10.0\n"
     ]
    }
   ],
   "source": [
    "# 할당연산자는 변수에 값을 할당하는 연산자입니다. \n",
    "# 파이썬에서는 대입 연산자인 등호(=)를 이용하여 값을 할당할 수 있습니다. \n",
    "# 또한, 할당연산자에는 다양한 연산자와 등호를 결합한 형태가 있습니다. \n",
    "# 대표적으로 덧셈 후 할당(+=), 뺄셈 후 할당(-=), 곱셈 후 할당(*=), \n",
    "# 나눗셈 후 할당(/=), 나머지 후 할당(%=) 등이 있습니다.\n",
    "\n",
    "# 할당연산자 사용 예제\n",
    "a = 10\n",
    "b = 20\n",
    "a += b  # a = a + b 와 동일\n",
    "print(a)  # 30 출력\n",
    "a -= b  # a = a - b 와 동일\n",
    "print(a)  # 10 출력\n",
    "a *= b  # a = a * b 와 동일\n",
    "print(a)  # 200 출력\n",
    "a /= b  # a = a / b 와 동일\n",
    "print(a)  # 10.0 출력\n",
    "a %= b  # a = a % b 와 동일\n",
    "print(a)  # 10.0 출력\n"
   ]
  },
  {
   "cell_type": "code",
   "execution_count": 30,
   "id": "c9d15aa3",
   "metadata": {},
   "outputs": [
    {
     "name": "stdout",
     "output_type": "stream",
     "text": [
      "False\n",
      "True\n",
      "False\n",
      "True\n",
      "True\n",
      "True\n"
     ]
    }
   ],
   "source": [
    "# 논리연산자는 논리형 데이터 타입 (True/False)을 다루는 연산자로, \n",
    "# 논리곱(and), 논리합(or), 논리부정(not) 연산자가 있습니다. \n",
    "\n",
    "# 논리연산자 사용 예제\n",
    "a = True\n",
    "b = False\n",
    "c = True\n",
    "print(a and b)  # False 출력\n",
    "print(a or b)  # True 출력\n",
    "print(not a)  # False 출력\n",
    "print(not b)  # True 출력\n",
    "print(a and c)  # True 출력\n",
    "print(b or c)  # True 출력\n"
   ]
  },
  {
   "cell_type": "code",
   "execution_count": 31,
   "id": "3f26f206",
   "metadata": {},
   "outputs": [
    {
     "name": "stdout",
     "output_type": "stream",
     "text": [
      "True\n",
      "False\n",
      "True\n",
      "True\n"
     ]
    }
   ],
   "source": [
    "# 멤버쉽 연산자는 주어진 데이터가 시퀀스형 자료 (문자열, 리스트, 튜플, 세트)에 \n",
    "# 포함되어 있는지 여부를 확인하는 연산자입니다. 파이썬에서는 in과 not in 연산자를 제공합니다\n",
    "\n",
    "# 멤버쉽 연산자 사용 예제\n",
    "a = [1, 2, 3, 4, 5]\n",
    "b = \"Hello, World!\"\n",
    "print(3 in a)  # True 출력\n",
    "print(6 in a)  # False 출력\n",
    "print(\"o\" in b)  # True 출력\n",
    "print(\"k\" not in b)  # True 출력\n"
   ]
  },
  {
   "cell_type": "code",
   "execution_count": 32,
   "id": "439dd848",
   "metadata": {},
   "outputs": [
    {
     "name": "stdout",
     "output_type": "stream",
     "text": [
      "False\n",
      "True\n",
      "True\n",
      "True\n"
     ]
    }
   ],
   "source": [
    "# 식별 연산자는 두 개의 변수가 동일한 객체를 가리키는지 여부를 확인하는 연산자입니다. \n",
    "# 파이썬에서는 is와 is not 연산자를 제공합니다\n",
    "\n",
    "# 식별 연산자 사용 예제\n",
    "a = [1, 2, 3]\n",
    "b = [1, 2, 3]\n",
    "c = a\n",
    "print(a is b)  # False 출력\n",
    "print(a is not b)  # True 출력\n",
    "print(a is c)  # True 출력\n",
    "print(b is not c)  # True 출력\n",
    "\n",
    "# 위 예제에서는 먼저 변수 a와 b에 각각 [1, 2, 3] 리스트를 할당합니다. \n",
    "# 그리고 이를 이용하여 a와 b가 동일한 객체를 가리키는지 여부를 확인합니다.\n",
    "# 첫 번째 줄에서는 a와 b가 동일한 객체를 가리키지 않기 때문에 False를 출력하며, \n",
    "# 두 번째 줄에서는 a와 b가 동일한 객체를 가리키지 않기 때문에 True를 출력합니다. \n",
    "# 세 번째 줄에서는 c에 a를 할당하고, a와 c가 동일한 객체를 가리키는지 여부를 확인하여 True를 출력하며, \n",
    "# 네 번째 줄에서는 b와 c가 동일한 객체를 가리키지 않기 때문에 True를 출력합니다.\n"
   ]
  },
  {
   "cell_type": "code",
   "execution_count": 33,
   "id": "1997de6e",
   "metadata": {},
   "outputs": [],
   "source": [
    "# 파이썬에서 제공하는 연산자 우선순위입니다.\n",
    "#     괄호 (): 괄호 안에 있는 표현식이 가장 먼저 계산됩니다.\n",
    "#     지수 연산자 **: 지수 연산자가 가장 높은 우선순위를 가집니다.\n",
    "#     단항 연산자 +, -: 단항 연산자가 수행되며, 이 연산자는 높은 우선순위를 가집니다.\n",
    "#     산술 연산자 , /, //, %: 산술 연산자는 곱셈(*), 나눗셈(/), 몫(//), 나머지(%) 순으로 우선순위를 가집니다.\n",
    "#     산술 연산자 +, -: 덧셈(+), 뺄셈(-) 연산자는 마지막에 수행됩니다.\n",
    "#     비교 연산자 ==, !=, >, >=, <, <=: 비교 연산자는 논리 연산자보다 우선순위가 높습니다.\n",
    "#     논리 부정 연산자 not: 논리 부정 연산자는 가장 높은 우선순위를 가집니다.\n",
    "#     논리 연산자 and: 논리곱 연산자보다 논리합 연산자보다 우선순위가 높습니다.\n",
    "#     논리 연산자 or: 논리합 연산자보다 우선순위가 낮습니다.\n"
   ]
  },
  {
   "cell_type": "code",
   "execution_count": 34,
   "id": "5e375420",
   "metadata": {},
   "outputs": [
    {
     "name": "stdout",
     "output_type": "stream",
     "text": [
      "15 5 50 2.0 0 2 100000\n"
     ]
    }
   ],
   "source": [
    "# 산술식은 숫자 데이터를 계산하기 위해 사용되며, 비교식은 논리 데이터를 계산하기 위해 사용됩니다\n",
    "\n",
    "# 산술식 활용 예제\n",
    "x = 10\n",
    "y = 5\n",
    "a = x + y  # 덧셈 연산자를 이용하여 x와 y의 합을 계산\n",
    "b = x - y  # 뺄셈 연산자를 이용하여 x와 y의 차를 계산\n",
    "c = x * y  # 곱셈 연산자를 이용하여 x와 y의 곱을 계산\n",
    "d = x / y  # 나눗셈 연산자를 이용하여 x와 y의 나눗셈을 계산\n",
    "e = x % y  # 나머지 연산자를 이용하여 x와 y의 나머지를 계산\n",
    "f = x // y  # 몫 연산자를 이용하여 x와 y의 몫을 계산\n",
    "g = x ** y  # 지수 연산자를 이용하여 x의 y승을 계산\n",
    "\n",
    "print(a, b, c, d, e, f, g)  # 15, 5, 50, 2.0, 0, 2, 100000 출력\n"
   ]
  },
  {
   "cell_type": "code",
   "execution_count": 35,
   "id": "34bcdf6e",
   "metadata": {},
   "outputs": [
    {
     "name": "stdout",
     "output_type": "stream",
     "text": [
      "False True True True False False\n"
     ]
    }
   ],
   "source": [
    "# 비교식 활용 예제\n",
    "x = 10\n",
    "y = 5\n",
    "a = x == y  # 등호를 이용하여 x와 y가 같은지 여부를 비교\n",
    "b = x != y  # 불등호를 이용하여 x와 y가 다른지 여부를 비교\n",
    "c = x > y  # 부등호를 이용하여 x가 y보다 큰지 여부를 비교\n",
    "d = x >= y  # 부등호와 등호를 이용하여 x가 y보다 크거나 같은지 여부를 비교\n",
    "e = x < y  # 부등호를 이용하여 x가 y보다 작은지 여부를 비교\n",
    "f = x <= y  # 부등호와 등호를 이용하여 x가 y보다 작거나 같은지 여부를 비교\n",
    "\n",
    "print(a, b, c, d, e, f)  # False, True, True, True, False, False 출력\n"
   ]
  },
  {
   "cell_type": "code",
   "execution_count": 36,
   "id": "52328326",
   "metadata": {},
   "outputs": [
    {
     "name": "stdout",
     "output_type": "stream",
     "text": [
      "a < c or b > d\n"
     ]
    }
   ],
   "source": [
    "# 산술식 및 비교식 응용 예제\n",
    "x = 10\n",
    "y = 5\n",
    "a = x + y\n",
    "b = x - y\n",
    "c = x * y\n",
    "d = x / y\n",
    "\n",
    "if a > c and b < d:  # a가 c보다 크고, b가 d보다 작은 경우\n",
    "    print(\"a > c and b < d\")  # 출력 안 됨\n",
    "elif a < c or b > d:  # a가 c보다 작거나, b가 d보다 큰 경우\n",
    "    print(\"a < c or b > d\")  # \"a < c or b > d\" 출력\n",
    "else:\n",
    "    print(\"neither\")  # 출력 안 됨\n",
    "\n",
    "# 위 예제에서는 a가 c보다 크지만, b가 d보다 크지 않기 때문에, elif 문이 실행되며 \"a < c or b > d\"가 출력됩니다. \n",
    "# 이처럼 산술식과 비교식을 이용하여 다양한 조건 판단을 수행할 수 있으며, 이를 이용하여 프로그램의 흐름을 제어하거나, \n",
    "# 조건에 따라 다른 동작을 수행하도록 하는 등의 다양한 응용이 가능합니다.\n"
   ]
  },
  {
   "cell_type": "code",
   "execution_count": 37,
   "id": "f998601c",
   "metadata": {},
   "outputs": [],
   "source": [
    "# print() 함수\n",
    "#     파이썬에서 화면에 데이터를 출력하는 함수. 출력할 내용을 괄호 안에 작성하여 사용.\n",
    "# input() 함수\n",
    "#     파이썬에서 사용자로부터 데이터를 입력 받는 함수. 입력 받은 값은 문자열 타입으로 반환됨.\n",
    "# 파일 입출력\n",
    "#     파이썬에서 파일을 읽고, 쓰는 것이 가능하다. 이를 위해서는 open() 함수를 사용하여 파일 객체를 만들어야 한다.\n",
    "#     write() 함수: 파일에 데이터를 쓰는 함수.\n",
    "#     read() 함수: 파일에서 데이터를 읽어오는 함수.\n",
    "#     close() 함수: 열린 파일을 닫는 함수.\n"
   ]
  },
  {
   "cell_type": "code",
   "execution_count": 38,
   "id": "343e61af",
   "metadata": {},
   "outputs": [
    {
     "name": "stdout",
     "output_type": "stream",
     "text": [
      "Hello, world!\n",
      "My name is John.\n",
      "The \"quick brown\" fox jumps over the lazy dog.\n",
      "I'm a boy.\n",
      "He said, \"Hello!\"\n",
      "1020\n",
      "abc abc abc \n",
      "10 5 15\n",
      "30\n"
     ]
    }
   ],
   "source": [
    "# 문자열 출력 예제\n",
    "print(\"Hello, world!\")  # \"Hello, world!\" 출력\n",
    "print(\"My name is John.\")  # \"My name is John.\" 출력\n",
    "print('The \"quick brown\" fox jumps over the lazy dog.')  # 'The \"quick brown\" fox jumps over the lazy dog.' 출력\n",
    "print(\"I'm a boy.\")  # \"I'm a boy.\" 출력\n",
    "print(\"He said, \\\"Hello!\\\"\")  # \"He said, \"Hello!\"\" 출력\n",
    "print(\"10\"+\"20\") #문자열 잇기  1020\n",
    "print(\"abc \" * 3) #문자열 3번 출력  abc abc abc\n",
    "\n",
    "# 변수 출력 예제\n",
    "x = 10\n",
    "y = 5\n",
    "z = x + y\n",
    "print(x, y, z)  # 10 5 15 출력\n",
    "\n",
    "print(10+20)  # 30\n"
   ]
  },
  {
   "cell_type": "code",
   "execution_count": 39,
   "id": "8c8ab18e",
   "metadata": {},
   "outputs": [
    {
     "name": "stdout",
     "output_type": "stream",
     "text": [
      "15\n",
      "5\n",
      "50\n",
      "2.0\n",
      "0\n",
      "2\n",
      "100000\n",
      "['apple', 'banana', 'cherry', 'kiwi', 'mango']\n",
      "apple\n",
      "banana\n",
      "cherry\n"
     ]
    }
   ],
   "source": [
    "# 산술식 출력 예제\n",
    "print(10 + 5)  # 15 출력\n",
    "print(10 - 5)  # 5 출력\n",
    "print(10 * 5)  # 50 출력\n",
    "print(10 / 5)  # 2.0 출력\n",
    "print(10 % 5)  # 0 출력\n",
    "print(10 // 5)  # 2 출력\n",
    "print(10 ** 5)  # 100000 출력\n",
    "\n",
    "# 리스트 출력 예제\n",
    "fruits = [\"apple\", \"banana\", \"cherry\", \"kiwi\", \"mango\"]\n",
    "print(fruits)  # ['apple', 'banana', 'cherry', 'kiwi', 'mango'] 출력\n",
    "\n",
    "# 리스트 값 출력 예제\n",
    "print(fruits[0])  # 'apple' 출력\n",
    "print(fruits[1])  # 'banana' 출력\n",
    "print(fruits[2])  # 'cherry' 출력\n",
    "\n"
   ]
  },
  {
   "cell_type": "code",
   "execution_count": 40,
   "id": "0fb6b248",
   "metadata": {},
   "outputs": [
    {
     "name": "stdout",
     "output_type": "stream",
     "text": [
      "{'name': 'John', 'age': 25, 'city': 'New York'}\n",
      "John\n",
      "25\n",
      "New York\n"
     ]
    }
   ],
   "source": [
    "\n",
    "# 딕셔너리 출력 예제\n",
    "person = {\"name\": \"John\", \"age\": 25, \"city\": \"New York\"}\n",
    "print(person)  # {'name': 'John', 'age': 25, 'city': 'New York'} 출력\n",
    "\n",
    "# 딕셔너리 값 출력 예제\n",
    "print(person[\"name\"])  # 'John' 출력\n",
    "print(person[\"age\"])  # 25 출력\n",
    "print(person[\"city\"])  # 'New York' 출력\n"
   ]
  },
  {
   "cell_type": "code",
   "execution_count": 41,
   "id": "e1495a90",
   "metadata": {},
   "outputs": [],
   "source": [
    "# 문자열 포매팅이란, 문자열 안에 변수 값을 넣거나, 형식을 지정하여 변수 값을 출력하는 것을 말합니다. \n",
    "# 다음은 파이썬에서 지원하는 문자열 포매팅 방법입니다.\n",
    "\n",
    "# % 연산자를 이용한 포매팅\n",
    "#     % 연산자를 이용하여 문자열 안에 변수 값을 넣는 방법입니다. \n",
    "#     %d, %s, %f와 같은 서식 지정자를 이용하여 출력 형식을 지정할 수 있습니다.\n",
    "\n",
    "# format() 메소드를 이용한 포매팅\n",
    "#     format() 메소드를 이용하여 문자열 안에 변수 값을 넣는 방법입니다. \n",
    "#     {}를 이용하여 변수 값을 지정할 수 있으며, {:d}, {:s}, {:.1f}와 같은 서식 지정자를 이용하여 출력 형식을 지정할 수 있습니다.\n",
    "\n",
    "# f-string을 이용한 포매팅\n",
    "#     f-string은 파이썬 3.6부터 도입된 기능으로, 문자열 앞에 f를 붙여서 사용합니다. \n",
    "#     중괄호 {} 안에 변수 이름을 적으면 해당 변수의 값을 문자열에 삽입할 수 있습니다.\n",
    "\n"
   ]
  },
  {
   "cell_type": "code",
   "execution_count": 42,
   "id": "f50fb299",
   "metadata": {},
   "outputs": [
    {
     "name": "stdout",
     "output_type": "stream",
     "text": [
      "My name is John, I'm 30 years old, and my height is 175.5.\n"
     ]
    }
   ],
   "source": [
    "# % 연산자를 이용한 문자열 포매팅은 파이썬에서 가장 오래된 문자열 포매팅 방법 중 하나입니다. \n",
    "# 이 방법은 문자열 안에 %d, %s, %f와 같은 서식 지정자를 사용하여 변수의 값을 출력할 수 있습니다. \n",
    "# % 연산자는 대체 필드(substitution field)를 표시하는 데 사용됩니다\n",
    "\n",
    "# % 연산자를 이용한 포매팅\n",
    "name = \"John\"\n",
    "age = 30\n",
    "height = 175.5\n",
    "\n",
    "print(\"My name is %s, I'm %d years old, and my height is %.1f.\" % (name, age, height))\n",
    "# 출력 결과: \"My name is John, I'm 30 years old, and my height is 175.5.\"\n",
    "\n",
    "# 위 예제에서는 % 연산자를 이용하여 문자열 안에 변수의 값을 삽입합니다. \n",
    "# 이 때, %s는 문자열, %d는 정수, %f는 실수를 나타내는 서식 지정자입니다. \n",
    "# 문자열 안에 여러 개의 서식 지정자를 사용하는 경우, 변수의 값들은 튜플(tuple)로 묶어서 % 연산자 뒤에 넘겨줍니다.\n"
   ]
  },
  {
   "cell_type": "code",
   "execution_count": 43,
   "id": "4582419c",
   "metadata": {},
   "outputs": [
    {
     "name": "stdout",
     "output_type": "stream",
     "text": [
      "num = 10\n",
      "pi = 3.141593\n",
      "pi = 3.14\n",
      "pi =       3.14\n"
     ]
    }
   ],
   "source": [
    "# 문자열 안에 % 연산자를 이용하여 변수의 값을 삽입할 때, 다양한 출력 형식을 지정할 수 있습니다.\n",
    "\n",
    "# 출력 형식 지정 예제\n",
    "num = 10\n",
    "pi = 3.14159265\n",
    "\n",
    "print(\"num = %d\" % num)  # 출력 결과: \"num = 10\"\n",
    "print(\"pi = %f\" % pi)  # 출력 결과: \"pi = 3.141593\"\n",
    "print(\"pi = %.2f\" % pi)  # 출력 결과: \"pi = 3.14\"\n",
    "print(\"pi = %10.2f\" % pi)  # 출력 결과: \"pi =       3.14\"\n",
    "\n",
    "# 위 예제에서는 출력 형식을 지정하는 서식 지정자를 사용하여 변수의 값을 출력합니다. \n",
    "# %.2f와 같이 .2f와 같은 형식 지정자는 소수점 이하 자리 수를 지정하는 것을 의미하며, \n",
    "# %10.2f와 같이 앞에 숫자를 붙인 경우, 출력할 전체 자릿수를 지정하는 것을 의미합니다.\n"
   ]
  },
  {
   "cell_type": "code",
   "execution_count": 44,
   "id": "ca78346f",
   "metadata": {},
   "outputs": [
    {
     "name": "stdout",
     "output_type": "stream",
     "text": [
      "My name is John, I'm 30 years old, and my height is 175.5.\n"
     ]
    }
   ],
   "source": [
    "# format() 메소드를 이용한 문자열 포매팅은 파이썬에서 가장 일반적으로 사용되는 문자열 포매팅 방법 중 하나입니다. \n",
    "# 이 방법은 문자열 안에 중괄호 {}를 사용하여 변수의 값을 출력할 수 있습니다. \n",
    "# 중괄호 안에 변수 이름을 지정하고, format() 메소드를 이용하여 변수의 값을 할당합니다. \n",
    "# 중괄호 안에는 서식 지정자를 사용하여 출력 형식을 지정할 수 있습니다. \n",
    "\n",
    "# format() 메소드를 이용한 포매팅\n",
    "name = \"John\"\n",
    "age = 30\n",
    "height = 175.5\n",
    "\n",
    "print(\"My name is {}, I'm {} years old, and my height is {:.1f}.\".format(name, age, height))\n",
    "# 출력 결과: \"My name is John, I'm 30 years old, and my height is 175.5.\"\n"
   ]
  },
  {
   "cell_type": "code",
   "execution_count": 45,
   "id": "6d0a47b9",
   "metadata": {},
   "outputs": [
    {
     "name": "stdout",
     "output_type": "stream",
     "text": [
      "My name is John, I'm 30 years old, and my height is 175.5.\n"
     ]
    }
   ],
   "source": [
    "# format() 메소드를 이용하여 문자열 포매팅을 할 때, 중괄호 안에 숫자를 지정하여 출력할 변수의 인덱스를 지정할 수 있습니다. \n",
    "# 다음은 인덱스를 이용하여 변수의 값을 출력하는 예제입니다.\n",
    "\n",
    "# 인덱스를 이용한 포매팅 예제\n",
    "name = \"John\"\n",
    "age = 30\n",
    "height = 175.5\n",
    "\n",
    "print(\"My name is {0}, I'm {1} years old, and my height is {2:.1f}.\".format(name, age, height))\n",
    "# 출력 결과: \"My name is John, I'm 30 years old, and my height is 175.5.\"\n",
    "\n",
    "# 위 예제에서는 중괄호 안에 0, 1, 2와 같은 인덱스를 이용하여 변수의 값을 지정합니다. \n",
    "# 이를 이용하여 중복되는 변수를 더 쉽게 출력할 수 있습니다.\n"
   ]
  },
  {
   "cell_type": "code",
   "execution_count": 46,
   "id": "0bcb4ca5",
   "metadata": {},
   "outputs": [
    {
     "name": "stdout",
     "output_type": "stream",
     "text": [
      "Hello, John!\n",
      "The answer is 42.\n",
      "Pi is approximately 3.14.\n",
      "My name is Jane Doe and I am 25 years old.\n",
      "My name is Jane Doe and I am 25 years old.\n"
     ]
    }
   ],
   "source": [
    "# %d: 정수 출력\n",
    "# %f: 실수 출력\n",
    "#     %F: 실수 출력 (대문자)\n",
    "#     %g: 실수를 지수 형태로 출력\n",
    "#     %G: 실수를 지수 형태로 출력 (대문자)\n",
    "# %s: 문자열 출력\n",
    "#     %a: 출력할 값을 문자열로 표현 (리스트, 딕셔너리 등)\n",
    "\n",
    "\n",
    "# 문자열\n",
    "name = \"John\"\n",
    "print(\"Hello, {}!\".format(name))\n",
    "\n",
    "# 정수\n",
    "num = 42\n",
    "print(\"The answer is {}.\".format(num))\n",
    "\n",
    "# 실수\n",
    "pi = 3.14159\n",
    "print(\"Pi is approximately {:.2f}.\".format(pi))\n",
    "\n",
    "# 여러 개의 변수\n",
    "first_name = \"Jane\"\n",
    "last_name = \"Doe\"\n",
    "age = 25\n",
    "print(\"My name is {} {} and I am {} years old.\".format(first_name, last_name, age))\n",
    "\n",
    "# 인덱스를 이용한 대입\n",
    "first_name = \"Jane\"\n",
    "last_name = \"Doe\"\n",
    "age = 25\n",
    "print(\"My name is {1} {0} and I am {2} years old.\".format(last_name, first_name, age))\n"
   ]
  },
  {
   "cell_type": "code",
   "execution_count": 47,
   "id": "6d8db320",
   "metadata": {},
   "outputs": [
    {
     "name": "stdout",
     "output_type": "stream",
     "text": [
      "My name is John, I'm 30 years old, and my height is 175.5.\n"
     ]
    }
   ],
   "source": [
    "# f-string은 파이썬 3.6부터 도입된 기능으로, 가장 간단하고 직관적인 문자열 포매팅 방법 중 하나입니다. \n",
    "# 이 방법은 문자열 앞에 f를 붙여서 사용합니다. 중괄호 {} 안에 변수 이름을 적으면 \n",
    "# 해당 변수의 값을 문자열에 삽입할 수 있습니다. 중괄호 안에는 변수 이름 외에도 변수의 값을 출력할 때 \n",
    "# 사용할 서식 지정자를 사용할 수 있습니다. 다음은 f-string을 이용한 문자열 포매팅 방법의 예제입니다.\n",
    "\n",
    "# f-string을 이용한 문자열 포매팅\n",
    "name = \"John\"\n",
    "age = 30\n",
    "height = 175.5\n",
    "\n",
    "print(f\"My name is {name}, I'm {age} years old, and my height is {height:.1f}.\")\n",
    "# 출력 결과: \"My name is John, I'm 30 years old, and my height is 175.5.\"\n"
   ]
  },
  {
   "cell_type": "code",
   "execution_count": 48,
   "id": "0750de52",
   "metadata": {},
   "outputs": [],
   "source": [
    "# 서식 지정자를 이용하여 출력 형식을 변경하는 방법은 다양합니다. \n",
    "# 정수를 출력할 때는 d를, 실수를 출력할 때는 f를, 지수를 출력할 때는 e를 사용합니다. \n",
    "# 출력 결과의 전체 자릿수나 소수점 이하 자리 수, 공백 등을 지정할 수도 있습니다. \n",
    "# 아래는 서식 지정자의 예시입니다.\n",
    "#     정수: {변수:d}\n",
    "#     실수: {변수:f}\n",
    "#     지수: {변수:e}\n",
    "#     전체 자릿수 지정: {변수:전체 자릿수}\n",
    "#     소수점 이하 자릿수 지정: {변수:.소수점 이하 자릿수f}\n",
    "#     양수일 때는 +로 표시: {변수:+}\n",
    "#     자릿수 맞추기: {변수:자릿수}\n",
    "#     0으로 채우기: {변수:0>자릿수}\n",
    "#     왼쪽 정렬: {변수:<자릿수}\n",
    "#     가운데 정렬: {변수:^자릿수}\n",
    "\n",
    "\n"
   ]
  },
  {
   "cell_type": "code",
   "execution_count": 49,
   "id": "9fe378f9",
   "metadata": {},
   "outputs": [
    {
     "name": "stdout",
     "output_type": "stream",
     "text": [
      "My name is John, I'm 30 years old, and my height is 175.50 cm.\n",
      "The value of pi is approximately 3.14.\n",
      "The value of x is      12345.\n"
     ]
    }
   ],
   "source": [
    "# f-string에서 다양한 서식 지정자를 이용하는 예제\n",
    "name = \"John\"\n",
    "age = 30\n",
    "height = 175.5\n",
    "\n",
    "print(f\"My name is {name}, I'm {age:d} years old, and my height is {height:.2f} cm.\")\n",
    "# 출력 결과: \"My name is John, I'm 30 years old, and my height is 175.50 cm.\"\n",
    "\n",
    "pi = 3.14159265\n",
    "\n",
    "print(f\"The value of pi is approximately {pi:.2f}.\")\n",
    "# 출력 결과: \"The value of pi is approximately 3.14.\"\n",
    "\n",
    "x = 12345\n",
    "\n",
    "print(f\"The value of x is {x:10d}.\")\n",
    "# 출력 결과: \"The value of x is      12345.\"\n",
    "\n",
    "\n"
   ]
  },
  {
   "cell_type": "code",
   "execution_count": 50,
   "id": "03ee5abb",
   "metadata": {},
   "outputs": [
    {
     "name": "stdout",
     "output_type": "stream",
     "text": [
      "The value of y is      12.35.\n",
      "The value of z is    +3.\n",
      "The value of w is 0000012345.\n",
      "   Hello, World!    \n"
     ]
    }
   ],
   "source": [
    "# f-string에서 다양한 서식 지정자를 이용하는 예제\n",
    "\n",
    "y = 12.345\n",
    "\n",
    "print(f\"The value of y is {y:10.2f}.\")\n",
    "# 출력 결과: \"The value of y is     12.35.\"\n",
    "\n",
    "z = 3\n",
    "\n",
    "print(f\"The value of z is {z:+5d}.\")\n",
    "# 출력 결과: \"The value of z is    +3.\"\n",
    "\n",
    "w = 12345\n",
    "\n",
    "print(f\"The value of w is {w:0>10d}.\")\n",
    "# 출력 결과: \"The value of w is 0000012345.\"\n",
    "\n",
    "text = \"Hello, World!\"\n",
    "\n",
    "print(f\"{text:^20}\")\n",
    "# 출력 결과: \"   Hello, World!    \"\n"
   ]
  },
  {
   "cell_type": "code",
   "execution_count": 63,
   "id": "73aeb678",
   "metadata": {},
   "outputs": [
    {
     "name": "stdout",
     "output_type": "stream",
     "text": [
      "My name is Tom and I am 20 years old\n",
      "I have 3 apples, 2 oranges, and 1 banana.\n",
      "The result is 1.23.\n",
      "Your score is 90%\n",
      "10 + 20 = 30\n"
     ]
    }
   ],
   "source": [
    "# 문제\n",
    "# 다음과 같은 문자열을 여러 포매팅 방법을 이용하여 출력하는 코드를 작성하세요. 밑줄 그어진 부분은 변수로 선언해서 사용하자.\n",
    "\n",
    "# My name is Tom and I am 20 years old.\n",
    "name = \"Tom\"\n",
    "age = 20\n",
    "\n",
    "print(f\"My name is {name} and I am {age} years old\")\n",
    "\n",
    "# I have 3 apples, 2 oranges, and 1 banana.\n",
    "\n",
    "cnt_apple = 3\n",
    "cnt_orange = 2\n",
    "cnt_banana = 1\n",
    "\n",
    "print(\"I have {} apples, {} oranges, and {} banana.\".format(cnt_apple, cnt_orange, cnt_banana))\n",
    "\n",
    "# The result is 1.23.\n",
    "value = 1.23\n",
    "\n",
    "print(\"The result is {:.2f}.\".format(value))\n",
    "\n",
    "# Your score is 90%.\n",
    "score = 90\n",
    "\n",
    "print(\"Your score is {}%\".format(score))\n",
    "\n",
    "# 10 + 20 = 30\n",
    "val1 = 10\n",
    "val2 = 20\n",
    "val3 = 30\n",
    "\n",
    "print(f\"{val1} + {val2} = {val1 + val2}\")"
   ]
  },
  {
   "cell_type": "code",
   "execution_count": 51,
   "id": "b373415b",
   "metadata": {},
   "outputs": [
    {
     "name": "stdout",
     "output_type": "stream",
     "text": [
      "What is your name? Wonil Kim\n",
      "Hello, Wonil Kim!\n"
     ]
    }
   ],
   "source": [
    "# input()은 사용자로부터 키보드나 다른 입력 장치를 통해 데이터를 입력받는 파이썬 내장 함수입니다. \n",
    "# input() 함수를 호출하면, 프로그램은 사용자에게 텍스트 입력을 요청하는 메시지를 출력하고, \n",
    "# 사용자가 입력한 값을 문자열로 반환합니다.\n",
    "# input() 함수는 인자를 받지 않으며, 입력된 값은 항상 문자열로 반환됩니다. \n",
    "# 사용자가 입력한 값을 정수나 실수 등의 다른 데이터 타입으로 사용하려면, 적절한 형 변환을 해주어야 합니다.\n",
    "\n",
    "# input() 함수를 이용하여 사용자로부터 입력 받기\n",
    "name = input(\"What is your name? \")\n",
    "print(f\"Hello, {name}!\")\n"
   ]
  },
  {
   "cell_type": "code",
   "execution_count": 52,
   "id": "7fa4f3be",
   "metadata": {},
   "outputs": [
    {
     "name": "stdout",
     "output_type": "stream",
     "text": [
      "첫 번째 정수를 입력하세요: 12\n",
      "두 번째 정수를 입력하세요: 32\n",
      "12 + 32 = 44\n",
      "12 - 32 = -20\n",
      "12 * 32 = 384\n",
      "12 / 32 = 0.38\n"
     ]
    }
   ],
   "source": [
    "# 사용자로부터 입력을 받아 계산하는 예제\n",
    "\n",
    "# input() 함수를 이용하여 사용자로부터 입력받아 계산하기\n",
    "num1 = int(input(\"첫 번째 정수를 입력하세요: \"))\n",
    "num2 = int(input(\"두 번째 정수를 입력하세요: \"))\n",
    "\n",
    "addition = num1 + num2\n",
    "subtraction = num1 - num2\n",
    "multiplication = num1 * num2\n",
    "division = num1 / num2\n",
    "\n",
    "print(f\"{num1} + {num2} = {addition}\")\n",
    "print(f\"{num1} - {num2} = {subtraction}\")\n",
    "print(f\"{num1} * {num2} = {multiplication}\")\n",
    "print(f\"{num1} / {num2} = {division:.2f}\")\n"
   ]
  },
  {
   "cell_type": "code",
   "execution_count": 53,
   "id": "1b5510fa",
   "metadata": {},
   "outputs": [
    {
     "name": "stdout",
     "output_type": "stream",
     "text": [
      "첫 번째 숫자를 입력하세요: 123\n",
      "두 번째 숫자를 입력하세요: 345\n",
      "\n",
      "입력한 숫자:\n",
      "첫 번째 숫자: 123\n",
      "두 번째 숫자: 345\n",
      "\n",
      "산술 연산 결과:\n",
      "123 + 345 = 468\n",
      "123 - 345 = -222\n",
      "123 * 345 = 42435\n",
      "123 / 345 = 0.36\n",
      "\n"
     ]
    }
   ],
   "source": [
    "# 사용자로부터 두 개의 숫자를 입력받고, 덧셈, 뺄셈, 곱셈, 나눗셈 결과를 출력하는 예제\n",
    "\n",
    "# input(), 포매팅, 산술식을 이용하여 계산하기\n",
    "num1 = int(input(\"첫 번째 숫자를 입력하세요: \"))\n",
    "num2 = int(input(\"두 번째 숫자를 입력하세요: \"))\n",
    "\n",
    "result = f\"\"\"\n",
    "입력한 숫자:\n",
    "첫 번째 숫자: {num1}\n",
    "두 번째 숫자: {num2}\n",
    "\n",
    "산술 연산 결과:\n",
    "{num1} + {num2} = {num1 + num2}\n",
    "{num1} - {num2} = {num1 - num2}\n",
    "{num1} * {num2} = {num1 * num2}\n",
    "{num1} / {num2} = {num1 / num2:.2f}\n",
    "\"\"\"\n",
    "\n",
    "print(result)\n"
   ]
  },
  {
   "cell_type": "code",
   "execution_count": 54,
   "id": "42c18bab",
   "metadata": {},
   "outputs": [
    {
     "name": "stdout",
     "output_type": "stream",
     "text": [
      "첫 번째 숫자를 입력하세요: 123\n",
      "두 번째 숫자를 입력하세요: 456\n",
      "세 번째 숫자를 입력하세요: 789\n",
      "입력한 숫자 중 가장 큰 수는 789입니다.\n"
     ]
    }
   ],
   "source": [
    "# 사용자로부터 입력받은 세 개의 숫자 중에서 가장 큰 숫자를 출력하는 예제\n",
    "\n",
    "# input()과 산술식만을 이용하여 가장 큰 숫자 출력하기\n",
    "num1 = int(input(\"첫 번째 숫자를 입력하세요: \"))\n",
    "num2 = int(input(\"두 번째 숫자를 입력하세요: \"))\n",
    "num3 = int(input(\"세 번째 숫자를 입력하세요: \"))\n",
    "\n",
    "max_num = num1\n",
    "\n",
    "if max_num < num2:\n",
    "    max_num = num2\n",
    "\n",
    "if max_num < num3:\n",
    "    max_num = num3\n",
    "\n",
    "print(f\"입력한 숫자 중 가장 큰 수는 {max_num}입니다.\")\n"
   ]
  },
  {
   "cell_type": "markdown",
   "id": "6a2a6cff",
   "metadata": {},
   "source": [
    "### \"사과 쇼핑몰\"에서 사과를 구매할 때, 총 가격을 계산하는 프로그램을 작성하세요. \n",
    "### 사용자로부터 사과의 개수와 가격, 그리고 부가세율을 입력받아, 총 가격을 계산하는 프로그램을 작성하세요."
   ]
  },
  {
   "cell_type": "code",
   "execution_count": 65,
   "id": "133b7c5d",
   "metadata": {},
   "outputs": [
    {
     "name": "stdout",
     "output_type": "stream",
     "text": [
      "사과의 개수를 입력하세요: 100\n",
      "사과의 가격을 입력하세요: 20\n",
      "부가세율을 입력하세요: 10\n",
      "총 가격은 2200.0 입니다\n"
     ]
    }
   ],
   "source": [
    "count = int(input(\"사과의 개수를 입력하세요: \"))\n",
    "price = int(input(\"사과의 가격을 입력하세요: \"))\n",
    "tax = int(input(\"부가세율을 입력하세요: \"))\n",
    "\n",
    "print(f\"총 가격은 {count * price  + (count * price * tax / 100)} 입니다\")"
   ]
  },
  {
   "cell_type": "markdown",
   "id": "6e351df9",
   "metadata": {},
   "source": [
    "# 추가 문제"
   ]
  },
  {
   "cell_type": "markdown",
   "id": "6304b009",
   "metadata": {},
   "source": [
    "### 초를 입력하면 분과 초로 표시하는 프로그램. 예를 들어, 200초를 입력하면 3분 20초로 표현하라"
   ]
  },
  {
   "cell_type": "code",
   "execution_count": 68,
   "id": "2ac01e35",
   "metadata": {},
   "outputs": [
    {
     "name": "stdout",
     "output_type": "stream",
     "text": [
      "초를 입력하세요: 500\n",
      "8 분 20 초\n"
     ]
    }
   ],
   "source": [
    "sec = int(input(\"초를 입력하세요: \"))\n",
    "print(f\"{sec // 60} 분 {sec % 60} 초\")\n"
   ]
  },
  {
   "cell_type": "markdown",
   "id": "0e6e519b",
   "metadata": {},
   "source": [
    "### 분(min)을 입력 하면, 일, 시간, 분으로 출력하는 프로그램을 만들어라. (예 : 1550분은 1일 1시간 50분)"
   ]
  },
  {
   "cell_type": "code",
   "execution_count": 70,
   "id": "ce839df7",
   "metadata": {},
   "outputs": [
    {
     "name": "stdout",
     "output_type": "stream",
     "text": [
      "분을 입력하세요: 1234\n",
      "0 일 20 시간 34 분\n"
     ]
    }
   ],
   "source": [
    "value = int(input(\"분을 입력하세요: \"))\n",
    "minute = value % 60\n",
    "\n",
    "hour = value // 60\n",
    "day = hour // 24\n",
    "\n",
    "print(f\"{day} 일 {hour % 24} 시간 {minute} 분\")"
   ]
  },
  {
   "cell_type": "markdown",
   "id": "dcaee1f2",
   "metadata": {},
   "source": [
    "### 500만원을 년이율 5%로 복리 저금했을 때 5년 후의 원리금의 합계를 출력하는 프로그램"
   ]
  },
  {
   "cell_type": "code",
   "execution_count": 72,
   "id": "de85bf3b",
   "metadata": {},
   "outputs": [
    {
     "name": "stdout",
     "output_type": "stream",
     "text": [
      "value = 6381407.8125\n"
     ]
    }
   ],
   "source": [
    "value = 5000000\n",
    "alpha = 5\n",
    "\n",
    "value = value + (value * alpha / 100)\n",
    "value = value + (value * alpha / 100)\n",
    "value = value + (value * alpha / 100)\n",
    "value = value + (value * alpha / 100)\n",
    "value = value + (value * alpha / 100)\n",
    "\n",
    "print(\"value = \" + str(value))"
   ]
  },
  {
   "cell_type": "markdown",
   "id": "2de31f43",
   "metadata": {},
   "source": [
    "### 1부터 n까지의 합은 n(n+1)/2로 주어진다. 1부터 100까지의 합을 구하여 출력하는 프로그램을 작성하고 실행하라."
   ]
  },
  {
   "cell_type": "code",
   "execution_count": 73,
   "id": "fe0187be",
   "metadata": {},
   "outputs": [
    {
     "name": "stdout",
     "output_type": "stream",
     "text": [
      "5050.0\n"
     ]
    }
   ],
   "source": [
    "n = 100\n",
    "\n",
    "print(n * (n + 1) / 2)"
   ]
  },
  {
   "cell_type": "markdown",
   "id": "7becd314",
   "metadata": {},
   "source": [
    "### 판매자가 딸기와 포도를 판매하고 있다. 포도 한 알의 무게는 75g이고 딸기 한 알의 무게는 113.5g이다. 사용자로부터 포도 알의 개수와 딸기의 개수를 입력 받아 총 무게를 계산하여 출력하는 프로그램을 작성하고 실행하라."
   ]
  },
  {
   "cell_type": "code",
   "execution_count": 76,
   "id": "7574234a",
   "metadata": {},
   "outputs": [
    {
     "name": "stdout",
     "output_type": "stream",
     "text": [
      "포도 알의 개수를 입력하세요: 123\n",
      "딸기의 개수를 입력하세요: 456\n",
      "총 무게는 60981.0g 입니다.\n"
     ]
    }
   ],
   "source": [
    "grape_weight = 75\n",
    "berry_weight = 113.5\n",
    "\n",
    "grape_count = int(input(\"포도 알의 개수를 입력하세요: \"))\n",
    "berry_count = int(input(\"딸기의 개수를 입력하세요: \"))\n",
    "\n",
    "print(f\"총 무게는 {grape_weight * grape_count + berry_weight * berry_count}g 입니다.\")\n"
   ]
  }
 ],
 "metadata": {
  "kernelspec": {
   "display_name": "Python 3 (ipykernel)",
   "language": "python",
   "name": "python3"
  },
  "language_info": {
   "codemirror_mode": {
    "name": "ipython",
    "version": 3
   },
   "file_extension": ".py",
   "mimetype": "text/x-python",
   "name": "python",
   "nbconvert_exporter": "python",
   "pygments_lexer": "ipython3",
   "version": "3.9.13"
  }
 },
 "nbformat": 4,
 "nbformat_minor": 5
}
