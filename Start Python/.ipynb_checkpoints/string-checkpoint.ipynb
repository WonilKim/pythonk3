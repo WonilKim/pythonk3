{
 "cells": [
  {
   "cell_type": "code",
   "execution_count": 1,
   "id": "eff49d5e",
   "metadata": {},
   "outputs": [
    {
     "name": "stdout",
     "output_type": "stream",
     "text": [
      "Helloworld\n",
      "HaHaHa\n",
      "17\n"
     ]
    }
   ],
   "source": [
    "# 문자열 합치기\n",
    "s1 = \"Hello\"\n",
    "s2 = \"world\"\n",
    "s3 = s1 + s2\n",
    "print(s3)  # 출력: HelloWorld\n",
    "\n",
    "# 문자열 반복\n",
    "s4 = \"Ha\"\n",
    "s5 = s4 * 3\n",
    "print(s5)  # 출력: HaHaHa\n",
    "\n",
    "# 문자열 길이 구하기\n",
    "s6 = \"Python is awesome\"\n",
    "print(len(s6))  # 출력: 17"
   ]
  },
  {
   "cell_type": "code",
   "execution_count": 2,
   "id": "1e6156ef",
   "metadata": {},
   "outputs": [
    {
     "name": "stdout",
     "output_type": "stream",
     "text": [
      "H\n",
      "e\n",
      "!\n"
     ]
    }
   ],
   "source": [
    "# 문자열 인덱싱 예제 1\n",
    "s = \"Hello, World!\"\n",
    "print(s[0])   # 'H'\n",
    "print(s[1])   # 'e'\n",
    "print(s[-1])  # '!'\n"
   ]
  },
  {
   "cell_type": "code",
   "execution_count": 3,
   "id": "c6287a49",
   "metadata": {},
   "outputs": [
    {
     "name": "stdout",
     "output_type": "stream",
     "text": [
      "i\n",
      " \n",
      "n\n"
     ]
    }
   ],
   "source": [
    "# 문자열 인덱싱 예제 2\n",
    "s = \"Python is a fun programming language!\"\n",
    "print(s[7])  # 'i'\n",
    "print(s[11]) # 'f'\n",
    "print(s[-12]) # 'm'\n"
   ]
  },
  {
   "cell_type": "code",
   "execution_count": 4,
   "id": "62e40368",
   "metadata": {},
   "outputs": [
    {
     "name": "stdout",
     "output_type": "stream",
     "text": [
      "BCD\n",
      "ABC\n",
      "DEFG\n"
     ]
    }
   ],
   "source": [
    "# 문자열 인덱싱 예제 3\n",
    "s = \"ABCDEFG\"\n",
    "print(s[1:4]) # 'BCD'\n",
    "print(s[:3])  # 'ABC'\n",
    "print(s[3:])  # 'DEFG'\n"
   ]
  },
  {
   "cell_type": "code",
   "execution_count": 5,
   "id": "748942fa",
   "metadata": {},
   "outputs": [
    {
     "name": "stdout",
     "output_type": "stream",
     "text": [
      "문자열을 입력하세요: afsdqw\n",
      "첫 번째 문자는 a입니다.\n",
      "마지막 문자는 w입니다.\n"
     ]
    }
   ],
   "source": [
    "string = input(\"문자열을 입력하세요: \")\n",
    "\n",
    "first = string[0]\n",
    "last = string[-1]\n",
    "\n",
    "print(\"첫 번째 문자는 %s입니다.\" % first)\n",
    "print(\"마지막 문자는 %s입니다.\" % last)\n"
   ]
  },
  {
   "cell_type": "code",
   "execution_count": 6,
   "id": "4db597ff",
   "metadata": {},
   "outputs": [
    {
     "name": "stdout",
     "output_type": "stream",
     "text": [
      "acegi\n"
     ]
    }
   ],
   "source": [
    "string = \"abcdefghij\"\n",
    "\n",
    "result = \"\"\n",
    "for i in range(len(string)):\n",
    "    if i % 2 == 0:\n",
    "        result += string[i]\n",
    "\n",
    "print(result)  # 출력값: \"acegi\"\n"
   ]
  },
  {
   "cell_type": "code",
   "execution_count": 7,
   "id": "36ccb677",
   "metadata": {},
   "outputs": [
    {
     "ename": "SyntaxError",
     "evalue": "invalid syntax (3200621513.py, line 2)",
     "output_type": "error",
     "traceback": [
      "\u001b[1;36m  File \u001b[1;32m\"C:\\Users\\nonel\\AppData\\Local\\Temp\\ipykernel_26360\\3200621513.py\"\u001b[1;36m, line \u001b[1;32m2\u001b[0m\n\u001b[1;33m    substring = string[  ]\u001b[0m\n\u001b[1;37m                         ^\u001b[0m\n\u001b[1;31mSyntaxError\u001b[0m\u001b[1;31m:\u001b[0m invalid syntax\n"
     ]
    }
   ],
   "source": [
    "string = \"hello world\"\n",
    "substring = string[  ]\n",
    "print(substring)  # \"world\"\n",
    "\n",
    "string = \"hello world\"\n",
    "substring = string[  ]\n",
    "print(substring)  # \"hello\"\n",
    "\n",
    "string = \"hello world\"\n",
    "substring = string[  ]\n",
    "print(substring)  # \"hlowrd\"\n",
    "\n",
    "s = \"Hello, world!\"\n",
    "reversed_s = s[   ]\n",
    "print(reversed_s)  # \"!dlrow ,olleH\"\n"
   ]
  },
  {
   "cell_type": "code",
   "execution_count": 8,
   "id": "65b97920",
   "metadata": {},
   "outputs": [
    {
     "ename": "TypeError",
     "evalue": "can only concatenate str (not \"int\") to str",
     "output_type": "error",
     "traceback": [
      "\u001b[1;31m---------------------------------------------------------------------------\u001b[0m",
      "\u001b[1;31mTypeError\u001b[0m                                 Traceback (most recent call last)",
      "\u001b[1;32m~\\AppData\\Local\\Temp\\ipykernel_26360\\880183855.py\u001b[0m in \u001b[0;36m<module>\u001b[1;34m\u001b[0m\n\u001b[0;32m      2\u001b[0m \u001b[0ms\u001b[0m \u001b[1;33m=\u001b[0m \u001b[1;34m\"Hello\"\u001b[0m\u001b[1;33m\u001b[0m\u001b[1;33m\u001b[0m\u001b[0m\n\u001b[0;32m      3\u001b[0m \u001b[0mn\u001b[0m \u001b[1;33m=\u001b[0m \u001b[1;36m3\u001b[0m\u001b[1;33m\u001b[0m\u001b[1;33m\u001b[0m\u001b[0m\n\u001b[1;32m----> 4\u001b[1;33m \u001b[0mprint\u001b[0m\u001b[1;33m(\u001b[0m\u001b[0ms\u001b[0m \u001b[1;33m+\u001b[0m \u001b[0mn\u001b[0m\u001b[1;33m)\u001b[0m  \u001b[1;31m# TypeError: can only concatenate str (not \"int\") to str\u001b[0m\u001b[1;33m\u001b[0m\u001b[1;33m\u001b[0m\u001b[0m\n\u001b[0m\u001b[0;32m      5\u001b[0m \u001b[1;33m\u001b[0m\u001b[0m\n\u001b[0;32m      6\u001b[0m \u001b[1;31m# 타입을 일치시킨 후 사용해야 함\u001b[0m\u001b[1;33m\u001b[0m\u001b[1;33m\u001b[0m\u001b[0m\n",
      "\u001b[1;31mTypeError\u001b[0m: can only concatenate str (not \"int\") to str"
     ]
    }
   ],
   "source": [
    "# 문자열과 숫자를 함께 사용할 때\n",
    "s = \"Hello\"\n",
    "n = 3\n",
    "print(s + n)  # TypeError: can only concatenate str (not \"int\") to str\n",
    "\n",
    "# 타입을 일치시킨 후 사용해야 함\n",
    "print(s + str(n))  # \"Hello3\"\n"
   ]
  },
  {
   "cell_type": "code",
   "execution_count": 9,
   "id": "978089af",
   "metadata": {},
   "outputs": [
    {
     "ename": "IndexError",
     "evalue": "string index out of range",
     "output_type": "error",
     "traceback": [
      "\u001b[1;31m---------------------------------------------------------------------------\u001b[0m",
      "\u001b[1;31mIndexError\u001b[0m                                Traceback (most recent call last)",
      "\u001b[1;32m~\\AppData\\Local\\Temp\\ipykernel_26360\\4258716069.py\u001b[0m in \u001b[0;36m<module>\u001b[1;34m\u001b[0m\n\u001b[0;32m      1\u001b[0m \u001b[1;31m# 문자열 인덱스 범위를 벗어난 경우\u001b[0m\u001b[1;33m\u001b[0m\u001b[1;33m\u001b[0m\u001b[0m\n\u001b[0;32m      2\u001b[0m \u001b[0ms\u001b[0m \u001b[1;33m=\u001b[0m \u001b[1;34m\"Hello\"\u001b[0m\u001b[1;33m\u001b[0m\u001b[1;33m\u001b[0m\u001b[0m\n\u001b[1;32m----> 3\u001b[1;33m \u001b[0mprint\u001b[0m\u001b[1;33m(\u001b[0m\u001b[0ms\u001b[0m\u001b[1;33m[\u001b[0m\u001b[1;36m5\u001b[0m\u001b[1;33m]\u001b[0m\u001b[1;33m)\u001b[0m  \u001b[1;31m# IndexError: string index out of range\u001b[0m\u001b[1;33m\u001b[0m\u001b[1;33m\u001b[0m\u001b[0m\n\u001b[0m\u001b[0;32m      4\u001b[0m \u001b[1;33m\u001b[0m\u001b[0m\n\u001b[0;32m      5\u001b[0m \u001b[1;31m# 인덱스가 올바른 범위 내에 있는지 확인해야 함\u001b[0m\u001b[1;33m\u001b[0m\u001b[1;33m\u001b[0m\u001b[0m\n",
      "\u001b[1;31mIndexError\u001b[0m: string index out of range"
     ]
    }
   ],
   "source": [
    "# 문자열 인덱스 범위를 벗어난 경우\n",
    "s = \"Hello\"\n",
    "print(s[5])  # IndexError: string index out of range\n",
    "\n",
    "# 인덱스가 올바른 범위 내에 있는지 확인해야 함\n",
    "if len(s) > 5:\n",
    "    print(s[5])  # \"\"\n",
    "else:\n",
    "    print(\"Index out of range\")\n",
    "\n",
    "# 문자열 슬라이스 범위를 벗어난 경우\n",
    "s = \"Hello\"\n",
    "print(s[1:10])  # \"ello\"\n"
   ]
  },
  {
   "cell_type": "code",
   "execution_count": 10,
   "id": "9bc67599",
   "metadata": {},
   "outputs": [
    {
     "ename": "TypeError",
     "evalue": "'str' object does not support item assignment",
     "output_type": "error",
     "traceback": [
      "\u001b[1;31m---------------------------------------------------------------------------\u001b[0m",
      "\u001b[1;31mTypeError\u001b[0m                                 Traceback (most recent call last)",
      "\u001b[1;32m~\\AppData\\Local\\Temp\\ipykernel_26360\\3876763632.py\u001b[0m in \u001b[0;36m<module>\u001b[1;34m\u001b[0m\n\u001b[0;32m      1\u001b[0m \u001b[1;31m# 문자열 수정\u001b[0m\u001b[1;33m\u001b[0m\u001b[1;33m\u001b[0m\u001b[0m\n\u001b[0;32m      2\u001b[0m \u001b[0ms\u001b[0m \u001b[1;33m=\u001b[0m \u001b[1;34m\"Hello\"\u001b[0m\u001b[1;33m\u001b[0m\u001b[1;33m\u001b[0m\u001b[0m\n\u001b[1;32m----> 3\u001b[1;33m \u001b[0ms\u001b[0m\u001b[1;33m[\u001b[0m\u001b[1;36m0\u001b[0m\u001b[1;33m]\u001b[0m \u001b[1;33m=\u001b[0m \u001b[1;34m\"h\"\u001b[0m  \u001b[1;31m# TypeError: 'str' object does not support item assignment\u001b[0m\u001b[1;33m\u001b[0m\u001b[1;33m\u001b[0m\u001b[0m\n\u001b[0m\u001b[0;32m      4\u001b[0m \u001b[1;33m\u001b[0m\u001b[0m\n\u001b[0;32m      5\u001b[0m \u001b[1;31m# 문자열은 불변(immutable)한 객체이므로, 새로운 문자열을 생성해야 함\u001b[0m\u001b[1;33m\u001b[0m\u001b[1;33m\u001b[0m\u001b[0m\n",
      "\u001b[1;31mTypeError\u001b[0m: 'str' object does not support item assignment"
     ]
    }
   ],
   "source": [
    "# 문자열 수정\n",
    "s = \"Hello\"\n",
    "s[0] = \"h\"  # TypeError: 'str' object does not support item assignment\n",
    "\n",
    "# 문자열은 불변(immutable)한 객체이므로, 새로운 문자열을 생성해야 함\n",
    "s = \"h\" + s[1:]\n",
    "print(s)  # \"hello\"\n"
   ]
  },
  {
   "cell_type": "code",
   "execution_count": 11,
   "id": "16e0070b",
   "metadata": {},
   "outputs": [],
   "source": [
    "# 문자열 저장 시 인코딩 지정\n",
    "s = \"안녕하세요\"\n",
    "with open(\"test.txt\", \"w\") as f:\n",
    "    f.write(s)  # UnicodeEncodeError: 'cp949' codec can't encode character '\\ub418' in position 0: illegal multibyte sequence\n",
    "\n",
    "# 인코딩 지정하여 저장\n",
    "with open(\"test.txt\", \"w\", encoding=\"utf-8\") as f:\n",
    "    f.write(s)  # 저장됨\n"
   ]
  },
  {
   "cell_type": "code",
   "execution_count": 12,
   "id": "2e21a221",
   "metadata": {},
   "outputs": [
    {
     "name": "stdout",
     "output_type": "stream",
     "text": [
      "13\n"
     ]
    }
   ],
   "source": [
    "s = \"Hello, world!\"\n",
    "print(len(s))  # 13\n"
   ]
  },
  {
   "cell_type": "code",
   "execution_count": 13,
   "id": "d7879db0",
   "metadata": {},
   "outputs": [
    {
     "name": "stdout",
     "output_type": "stream",
     "text": [
      "Hello, world!\n",
      "HELLO, WORLD!\n"
     ]
    }
   ],
   "source": [
    "s = \"Hello, world!\"\n",
    "s_upper = s.upper()\n",
    "print(s)  # \"Hello, world!\"\n",
    "print(s_upper)  # \"HELLO, WORLD!\"\n"
   ]
  },
  {
   "cell_type": "markdown",
   "id": "b3663c7f",
   "metadata": {},
   "source": [
    "### 문자열 구성 파악 함수\n",
    "* isalnum(): 문자열이 알파벳과 숫자로만 이루어졌는지 여부를 반환합니다.\n",
    "* isalpha(): 문자열이 알파벳으로만 이루어졌는지 여부를 반환합니다.\n",
    "* isdecimal(): 문자열이 10진수 숫자로만 이루어졌는지 여부를 반환합니다.\n",
    "* isdigit(): 문자열이 숫자로만 이루어졌는지 여부를 반환합니다.\n",
    "* isidentifier(): 문자열이 파이썬 식별자로 사용 가능한지 여부를 반환합니다.\n",
    "* islower(): 문자열이 소문자로만 이루어졌는지 여부를 반환합니다.\n",
    "* isnumeric(): 문자열이 숫자로만 이루어졌는지 여부를 반환합니다.\n",
    "* isprintable(): 문자열이 출력 가능한지 여부를 반환합니다.\n",
    "* isspace(): 문자열이 공백 문자로만 이루어졌는지 여부를 반환합니다.\n",
    "* istitle(): 문자열이 제목 케이스로 이루어졌는지 여부를 반환합니다.\n",
    "* isupper(): 문자열이 대문자로만 이루어졌는지 여부를 반환합니다.\n",
    "\n"
   ]
  },
  {
   "cell_type": "code",
   "execution_count": 14,
   "id": "9cf7407a",
   "metadata": {},
   "outputs": [
    {
     "name": "stdout",
     "output_type": "stream",
     "text": [
      "True\n",
      "False\n",
      "True\n",
      "True\n",
      "True\n",
      "True\n",
      "True\n",
      "True\n",
      "True\n",
      "True\n",
      "True\n",
      "True\n"
     ]
    }
   ],
   "source": [
    "# 문자열 구성 파악 메소드 예시\n",
    "print(\"hello123\".isalnum())  # True\n",
    "print(\"123\".isalpha())  # False\n",
    "print(\"123\".isdecimal())  # True\n",
    "print(\"123\".isdigit())  # True\n",
    "print(\"hello\".isidentifier())  # True\n",
    "print(\"hello\".islower())  # True\n",
    "print(\"123\".isnumeric())  # True\n",
    "print(\"Hello, World!\".isprintable())  # True\n",
    "print(\"   \".isspace())  # True\n",
    "print(\"\\t\".isspace())  # True\n",
    "print(\"Hello, World!\".istitle())  # True\n",
    "print(\"HELLO\".isupper())  # True\n"
   ]
  },
  {
   "cell_type": "markdown",
   "id": "e9b0f8e9",
   "metadata": {},
   "source": [
    "### 문자열 대소문자 변환 함수\n",
    "* upper(): 문자열의 모든 알파벳을 대문자로 변환한 새로운 문자열을 반환합니다.\n",
    "* lower(): 문자열의 모든 알파벳을 소문자로 변환한 새로운 문자열을 반환합니다.\n",
    "* capitalize(): 문자열의 첫 문자를 대문자로, 나머지 문자를 소문자로 변환한 새로운 문자열을 반환합니다.\n",
    "* title(): 문자열에서 단어의 첫 문자를 대문자로, 나머지 문자를 소문자로 변환한 새로운 문자열을 반환합니다.\n",
    "* swapcase(): 문자열에서 대문자는 소문자로, 소문자는 대문자로 변환한 새로운 문자열을 반환합니다.\n",
    "\n"
   ]
  },
  {
   "cell_type": "code",
   "execution_count": 15,
   "id": "2334cb02",
   "metadata": {},
   "outputs": [
    {
     "name": "stdout",
     "output_type": "stream",
     "text": [
      "HELLO, WORLD!\n",
      "hello, world!\n",
      "Hello, world!\n",
      "Hello, World!\n",
      "hELLO, wORLD!\n"
     ]
    }
   ],
   "source": [
    "# 문자열 대소문자 변환 함수 예시\n",
    "print(\"hello, world!\".upper())  # \"HELLO, WORLD!\"\n",
    "print(\"HeLLo, wOrLd!\".lower())  # \"hello, world!\"\n",
    "print(\"hello, world!\".capitalize())  # \"Hello, world!\"\n",
    "print(\"hello, world!\".title())  # \"Hello, World!\"\n",
    "print(\"Hello, World!\".swapcase())  # \"hELLO, wORLD!\"\n"
   ]
  },
  {
   "cell_type": "markdown",
   "id": "0da58d62",
   "metadata": {},
   "source": [
    "### 문자열 찾기 함수\n",
    "* find(sub): 문자열에서 지정된 문자열(sub)을 찾아서 그 위치를 반환합니다. 찾지 못한 경우에는 -1을 반환합니다.\n",
    "* rfind(sub): 문자열에서 지정된 문자열(sub)을 뒤에서부터 찾아서 그 위치를 반환합니다. 찾지 못한 경우에는 -1을 반환합니다.\n",
    "* index(sub): 문자열에서 지정된 문자열(sub)을 찾아서 그 위치를 반환합니다. 찾지 못한 경우에는 ValueError 예외가 발생합니다.\n",
    "* rindex(sub): 문자열에서 지정된 문자열(sub)을 뒤에서부터 찾아서 그 위치를 반환합니다. 찾지 못한 경우에는 ValueError 예외가 발생합니다.\n",
    "* count(sub): 문자열에서 지정된 문자열(sub)이 몇 번 등장하는지 카운트하여 반환합니다.\n",
    "\n"
   ]
  },
  {
   "cell_type": "code",
   "execution_count": 17,
   "id": "09cc6ffd",
   "metadata": {},
   "outputs": [
    {
     "name": "stdout",
     "output_type": "stream",
     "text": [
      "4\n",
      "8\n",
      "4\n",
      "8\n",
      "2\n"
     ]
    }
   ],
   "source": [
    "# 문자열 찾기 함수 예시\n",
    "s = \"hello, world!\"\n",
    "\n",
    "print(s.find(\"o\"))  # 4\n",
    "print(s.rfind(\"o\"))  # 8\n",
    "print(s.index(\"o\"))  # 4\n",
    "print(s.rindex(\"o\"))  # 8\n",
    "print(s.count(\"o\"))  # 2\n"
   ]
  },
  {
   "cell_type": "markdown",
   "id": "89392eb2",
   "metadata": {},
   "source": [
    "### 문자열 공백 삭제, 변경 함수\n",
    "* strip([chars]): 문자열의 양쪽 끝에서 지정된 문자(chars)를 제거한 새로운 문자열을 반환합니다. chars 인자를 생략하면 공백을 제거합니다.\n",
    "* lstrip([chars]): 문자열의 왼쪽 끝에서 지정된 문자(chars)를 제거한 새로운 문자열을 반환합니다. chars 인자를 생략하면 공백을 제거합니다.\n",
    "* rstrip([chars]): 문자열의 오른쪽 끝에서 지정된 문자(chars)를 제거한 새로운 문자열을 반환합니다. chars 인자를 생략하면 공백을 제거합니다.\n",
    "* replace(old, new[, count]): 문자열에서 old를 new로 바꾼 새로운 문자열을 반환합니다. count 인자를 사용하면 치환할 최대 횟수를 지정할 수 있습니다.\n",
    "\n"
   ]
  },
  {
   "cell_type": "code",
   "execution_count": 18,
   "id": "672653d7",
   "metadata": {},
   "outputs": [
    {
     "name": "stdout",
     "output_type": "stream",
     "text": [
      "hello,   world!\n",
      "hello,   world!  \n",
      "  hello,   world!\n",
      "  hell0,   w0rld!  \n",
      "  hell0,   world!  \n"
     ]
    }
   ],
   "source": [
    "# 문자열 공백 삭제 및 변경 함수 예시\n",
    "s = \"  hello,   world!  \"\n",
    "\n",
    "print(s.strip())  # \"hello,   world!\"\n",
    "print(s.lstrip())  # \"hello,   world!  \"\n",
    "print(s.rstrip())  # \"  hello,   world!\"\n",
    "print(s.replace(\"o\", \"0\"))  # \"  hell0,   w0rld!  \"\n",
    "print(s.replace(\"o\", \"0\", 1))  # \"  hell0,   world!  \"\n"
   ]
  },
  {
   "cell_type": "code",
   "execution_count": 19,
   "id": "19ae2cae",
   "metadata": {},
   "outputs": [
    {
     "name": "stdout",
     "output_type": "stream",
     "text": [
      "['hello', 'world']\n",
      "['apple', 'banana', 'grape']\n"
     ]
    }
   ],
   "source": [
    "string = \"hello world\"\n",
    "string_list = string.split()  # 기본값인 공백을 구분자로 사용\n",
    "print(string_list)  # ['hello', 'world']\n",
    "\n",
    "string = \"apple,banana,grape\"\n",
    "string_list = string.split(\",\")  # 쉼표를 구분자로 사용\n",
    "print(string_list)  # ['apple', 'banana', 'grape']\n"
   ]
  },
  {
   "cell_type": "code",
   "execution_count": 20,
   "id": "6154d990",
   "metadata": {},
   "outputs": [
    {
     "name": "stdout",
     "output_type": "stream",
     "text": [
      "['apple', 'banana', 'grape']\n",
      "apple,banana,grape\n"
     ]
    }
   ],
   "source": [
    "# 문자열 분리, 결합 함수 예시\n",
    "s = \"apple,banana,grape\"\n",
    "\n",
    "print(\"apple\\nbanana\\rgrape\".splitlines())  # [\"apple\", \"banana\", \"grape\"]\n",
    "print(\",\".join([\"apple\", \"banana\", \"grape\"]))  # \"apple,banana,grape\"\n"
   ]
  },
  {
   "cell_type": "markdown",
   "id": "082ac989",
   "metadata": {},
   "source": [
    "### 문자열 정렬, 채우기 함수\n",
    "* center(width[, fillchar]): 문자열을 지정된 너비(width) 가운데 정렬하여 새로운 문자열을 반환합니다. fillchar 인자를 지정하면 문자열을 채우는데 사용할 문자를 지정할 수 있습니다. 기본값은 공백입니다.\n",
    "* ljust(width[, fillchar]): 문자열을 지정된 너비(width)에 맞추어 왼쪽으로 정렬하여 새로운 문자열을 반환합니다. fillchar 인자를 지정하면 문자열을 채우는데 사용할 문자를 지정할 수 있습니다. 기본값은 공백입니다.\n",
    "* rjust(width[, fillchar]): 문자열을 지정된 너비(width)에 맞추어 오른쪽으로 정렬하여 새로운 문자열을 반환합니다. fillchar 인자를 지정하면 문자열을 채우는데 사용할 문자를 지정할 수 있습니다. 기본값은 공백입니다.\n",
    "* zfill(width): 문자열의 왼쪽에 0을 채워서 지정된 너비(width)에 맞추어 새로운 문자열을 반환합니다.\n",
    "\n"
   ]
  },
  {
   "cell_type": "code",
   "execution_count": 22,
   "id": "998e94e4",
   "metadata": {},
   "outputs": [
    {
     "name": "stdout",
     "output_type": "stream",
     "text": [
      "  hello   \n",
      "--hello---\n",
      "hello     \n",
      "hello*****\n",
      "     hello\n",
      "+++++hello\n",
      "00123\n"
     ]
    }
   ],
   "source": [
    "# 문자열 정렬, 채우기 함수 예시\n",
    "s = \"hello\"\n",
    "\n",
    "print(s.center(10))  # \"  hello   \"\n",
    "print(s.center(10, \"-\"))  # \"--hello---\"\n",
    "print(s.ljust(10))  # \"hello     \"\n",
    "print(s.ljust(10, \"*\"))  # \"hello*****\"\n",
    "print(s.rjust(10))  # \"     hello\"\n",
    "print(s.rjust(10, \"+\"))  # \"+++++hello\"\n",
    "print(\"123\".zfill(5))  # \"00123\"\n"
   ]
  },
  {
   "cell_type": "markdown",
   "id": "5fe4d046",
   "metadata": {},
   "source": [
    "## 연습문제\n",
    "### 사용자가 입력한 문자열에 대해 다음 물음에 답하라\n",
    "* 문자열의 문자수를 출력하라\n",
    "* 문자열을 10번 반복한 문자열을 출력하라\n",
    "* 문자열의 첫 번째 문자를 출력하라\n",
    "* 문자열에서 처음 3문자를 출력하라\n",
    "* 문자열에서 마지막 3문자를 출력하라\n",
    "* 문자열의 문자를 거꾸로 출력하라\n",
    "* 문자열에 7번째 문자가 있으면 출력하고 없으면 '문자가 없습니다'라는 메시지를 출력하라\n",
    "* 문자열에서 첫 번째 문자와 마지막 문자를 제거한 문자열을 출력하라\n",
    "* 문자를 모두 대문자로 변경하여 출력하라\n",
    "* 문자를 모두 소문자로 변경하여 출력하라\n",
    "* 문자열에서 'a'를 'e'로 대체하여 출력하라\n"
   ]
  },
  {
   "cell_type": "code",
   "execution_count": 41,
   "id": "81b9a812",
   "metadata": {},
   "outputs": [
    {
     "name": "stdout",
     "output_type": "stream",
     "text": [
      "문자열을 입력하세요. : asdfasdfqrw24ASFD\n",
      "17\n",
      "asdfasdfqrw24ASFDasdfasdfqrw24ASFDasdfasdfqrw24ASFDasdfasdfqrw24ASFDasdfasdfqrw24ASFDasdfasdfqrw24ASFDasdfasdfqrw24ASFDasdfasdfqrw24ASFDasdfasdfqrw24ASFDasdfasdfqrw24ASFD\n",
      "a\n",
      "asd\n",
      "SFD\n",
      "DFSA42wrqfdsafdsa\n",
      "d\n",
      "sdfasdfqrw24ASF\n",
      "ASDFASDFQRW24ASFD\n",
      "asdfasdfqrw24asfd\n",
      "esdfesdfqrw24ASFD\n"
     ]
    }
   ],
   "source": [
    "s = input(\"문자열을 입력하세요. : \")\n",
    "\n",
    "print(len(s))\n",
    "print(s * 10)\n",
    "print(s[0])\n",
    "print(s[:3])\n",
    "print(s[-3:])\n",
    "print(s[::-1]) # ?\n",
    "print(s[6] if 7 <= len(s) else \"문자가 없습니다.\" )\n",
    "print(s[1:-1])\n",
    "print(s.upper())\n",
    "print(s.lower())\n",
    "print(s.replace(\"a\", \"e\"))"
   ]
  }
 ],
 "metadata": {
  "kernelspec": {
   "display_name": "Python 3 (ipykernel)",
   "language": "python",
   "name": "python3"
  },
  "language_info": {
   "codemirror_mode": {
    "name": "ipython",
    "version": 3
   },
   "file_extension": ".py",
   "mimetype": "text/x-python",
   "name": "python",
   "nbconvert_exporter": "python",
   "pygments_lexer": "ipython3",
   "version": "3.9.13"
  }
 },
 "nbformat": 4,
 "nbformat_minor": 5
}
