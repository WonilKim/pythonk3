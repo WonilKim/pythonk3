{
 "cells": [
  {
   "cell_type": "code",
   "execution_count": 1,
   "id": "9c6f105d",
   "metadata": {},
   "outputs": [
    {
     "name": "stdout",
     "output_type": "stream",
     "text": [
      "*\n",
      "**\n",
      "***\n",
      "****\n",
      "*****\n",
      "****\n",
      "***\n",
      "**\n",
      "*\n"
     ]
    }
   ],
   "source": [
    "for i in range(1, 6):\n",
    "    for j in range(1, i+1):\n",
    "        print(\"*\", end=\"\")\n",
    "    print()\n",
    "\n",
    "for i in range(4, 0, -1):\n",
    "    for j in range(1, i+1):\n",
    "        print(\"*\", end=\"\")\n",
    "    print()\n"
   ]
  },
  {
   "cell_type": "code",
   "execution_count": 2,
   "id": "4c8233c5",
   "metadata": {},
   "outputs": [
    {
     "name": "stdout",
     "output_type": "stream",
     "text": [
      "hello\n",
      "hello\n",
      "hellohello-hello_hello\n"
     ]
    }
   ],
   "source": [
    "print(\"hello\")\n",
    "print(\"hello\", end=\"\\n\") # default\n",
    "\n",
    "print(\"hello\", end=\"\")\n",
    "print(\"hello\", end=\"-\")\n",
    "print(\"hello\", end=\"_\")\n",
    "print(\"hello\")\n"
   ]
  },
  {
   "cell_type": "markdown",
   "id": "dfe21085",
   "metadata": {},
   "source": [
    "### 사용자로부터 양의 정수 n을 입력받아, 1부터 n까지의 자연수 중에서 3의 배수와 5의 배수의 합을 구하고, 이를 출력하는 프로그램을 작성하세요.\n",
    "* 사용자로부터 입력받는 정수 n은 1 이상의 양의 정수입니다. \n",
    "* 자연수 1부터 n까지의 숫자 중에서 3의 배수 또는 5의 배수인 숫자들의 합을 구합니다.\n",
    "* 결과값은 정수형으로 출력합니다.\n"
   ]
  },
  {
   "cell_type": "code",
   "execution_count": 4,
   "id": "dd67e8d1",
   "metadata": {},
   "outputs": [
    {
     "name": "stdout",
     "output_type": "stream",
     "text": [
      "양의 정수를 입력하세요.10\n",
      "33\n"
     ]
    }
   ],
   "source": [
    "num = int(input(\"양의 정수를 입력하세요.\"))\n",
    "\n",
    "result = 0\n",
    "for i in range(1, num + 1):\n",
    "#     print(i)\n",
    "    if (i % 3 == 0):\n",
    "        result += i\n",
    "    if (i % 5 == 0):\n",
    "        result += i\n",
    "\n",
    "print(result)"
   ]
  },
  {
   "cell_type": "markdown",
   "id": "50031fd2",
   "metadata": {},
   "source": [
    "### 사용자로부터 5개의 정수형 숫자를 입력받아, 입력받은 숫자들 중에서 최댓값과 최솟값을 찾고, 이를 출력하는 프로그램을 작성하세요.\n",
    "\n",
    "* 입력받은 숫자는 1 이상 100 이하의 자연수입니다.\n",
    "* 입력받은 숫자 중 중복된 숫자가 있을 수 있습니다.\n"
   ]
  },
  {
   "cell_type": "code",
   "execution_count": 9,
   "id": "ba91752c",
   "metadata": {},
   "outputs": [
    {
     "name": "stdout",
     "output_type": "stream",
     "text": [
      "[0] 정수를 입력하세요.11\n",
      "[1] 정수를 입력하세요.87\n",
      "[2] 정수를 입력하세요.243\n",
      "[3] 정수를 입력하세요.00\n",
      "[4] 정수를 입력하세요.-1123\n",
      "최소값 = -1123\n",
      "최대값 = 243\n"
     ]
    }
   ],
   "source": [
    "values = list()\n",
    "\n",
    "max_val = -999999\n",
    "min_val = 999999\n",
    "for i in range(5) :\n",
    "    num = int(input(f\"[{i}] 정수를 입력하세요.\"))\n",
    "    values.append(num)\n",
    "    \n",
    "    if(max_val < num):\n",
    "        max_val = num\n",
    "    if(num < min_val):\n",
    "        min_val = num\n",
    "        \n",
    "print(f\"최소값 = {min_val}\")\n",
    "print(f\"최대값 = {max_val}\")"
   ]
  },
  {
   "cell_type": "markdown",
   "id": "4b2068c0",
   "metadata": {},
   "source": [
    "### 사용자로부터 정수형 숫자를 입력받아, 입력받은 숫자들의 합이 100보다 작을 때까지 숫자를 계속 입력받고, 입력받은 숫자들의 합을 출력하는 프로그램을 작성하세요.\n",
    "\n",
    "\n",
    "* 입력받은 숫자는 1 이상 100 이하의 자연수입니다."
   ]
  },
  {
   "cell_type": "code",
   "execution_count": 14,
   "id": "fa1ac8dc",
   "metadata": {},
   "outputs": [
    {
     "name": "stdout",
     "output_type": "stream",
     "text": [
      "[4] 정수를 입력하세요.34\n",
      "입력 받은 정수들의 합 = 34\n",
      "[4] 정수를 입력하세요.54\n",
      "입력 받은 정수들의 합 = 88\n",
      "[4] 정수를 입력하세요.12\n",
      "입력 받은 정수들의 합 = 100\n",
      "종료 되었습니다\n"
     ]
    }
   ],
   "source": [
    "sum_val = 0\n",
    "\n",
    "while (sum_val < 100):\n",
    "    sum_val += int(input(f\"[{i}] 정수를 입력하세요.\"))\n",
    "    print(f\"입력 받은 정수들의 합 = {sum_val}\")\n",
    "\n",
    "#\n",
    "print(\"종료 되었습니다\")"
   ]
  },
  {
   "attachments": {},
   "cell_type": "markdown",
   "id": "6bc32b90",
   "metadata": {},
   "source": [
    "### 피보나치 수열은 다음과 같이 정의됩니다: 첫 번째 항과 두 번째 항은 각각 1입니다. 세 번째 항부터는 바로 앞 두 항의 합입니다. 즉, 1, 1, 2, 3, 5, 8, 13, ... 과 같은 수열입니다.\n",
    "\n",
    "\n",
    "* 예를 들어, 사용자가 7을 입력했을 경우 다음과 같이 출력되어야 합니다."
   ]
  },
  {
   "cell_type": "code",
   "execution_count": 18,
   "id": "fb7b7c8c",
   "metadata": {},
   "outputs": [
    {
     "name": "stdout",
     "output_type": "stream",
     "text": [
      "몇 번째 항을 출력할까요? (1 이상의 양의 정수): 7\n",
      "1 1 2 3 5 8 13 \n",
      "피보나치 수열의 7번째 항은 13입니다.\n"
     ]
    }
   ],
   "source": [
    "num_list = list()\n",
    "\n",
    "num_list.append(1)\n",
    "num_list.append(1)\n",
    "\n",
    "in_val = int(input(\"몇 번째 항을 출력할까요? (1 이상의 양의 정수): \"))\n",
    "result = 0\n",
    "for i in range(in_val):\n",
    "    if (i < 2):\n",
    "        print(num_list[i], end=\" \")\n",
    "        continue\n",
    "    \n",
    "    result = num_list[i-1] + num_list[i-2]\n",
    "    num_list.append(result)\n",
    "    print(result, end=\" \")\n",
    "\n",
    "print(\"\")\n",
    "\n",
    "print(f\"피보나치 수열의 {in_val}번째 항은 {result}입니다.\")"
   ]
  },
  {
   "cell_type": "markdown",
   "id": "428e54a5",
   "metadata": {},
   "source": [
    "### 두 주사위를 던졌을 때, 합이 7이 되면 이김, 그렇지 않으면 지는 간단한 주사위 게임을 만들어보세요. (힌트: random 모듈의 randint() 함수를 사용하세요.)\n"
   ]
  },
  {
   "cell_type": "code",
   "execution_count": 27,
   "id": "b7417552",
   "metadata": {},
   "outputs": [
    {
     "name": "stdout",
     "output_type": "stream",
     "text": [
      "[1, 2, 3, 4, 5, 6]\n",
      "엔터키를 눌러 주사위를 던지세요. 두 주사위의 합이 7이되면 승리합니다.\n",
      "주사위 1의 값 = 4, 주사위 2의 값 = 6, 합 = 10\n",
      "패배했습니다.\n",
      "엔터키를 눌러 주사위를 던지세요. 두 주사위의 합이 7이되면 승리합니다.\n",
      "주사위 1의 값 = 1, 주사위 2의 값 = 2, 합 = 3\n",
      "패배했습니다.\n",
      "엔터키를 눌러 주사위를 던지세요. 두 주사위의 합이 7이되면 승리합니다.\n",
      "주사위 1의 값 = 1, 주사위 2의 값 = 2, 합 = 3\n",
      "패배했습니다.\n",
      "엔터키를 눌러 주사위를 던지세요. 두 주사위의 합이 7이되면 승리합니다.\n",
      "주사위 1의 값 = 5, 주사위 2의 값 = 6, 합 = 11\n",
      "패배했습니다.\n",
      "엔터키를 눌러 주사위를 던지세요. 두 주사위의 합이 7이되면 승리합니다.\n",
      "주사위 1의 값 = 2, 주사위 2의 값 = 1, 합 = 3\n",
      "패배했습니다.\n",
      "엔터키를 눌러 주사위를 던지세요. 두 주사위의 합이 7이되면 승리합니다.\n",
      "주사위 1의 값 = 2, 주사위 2의 값 = 5, 합 = 7\n",
      "승리했습니다.\n"
     ]
    }
   ],
   "source": [
    "import random\n",
    "\n",
    "nums = list(range(1, 7))\n",
    "print(nums)\n",
    "\n",
    "while (True):\n",
    "    temp = input(\"엔터키를 눌러 주사위를 던지세요. 두 주사위의 합이 7이되면 승리합니다.\")\n",
    "    d1 = random.choice(nums)\n",
    "    d2 = random.choice(nums)\n",
    "    \n",
    "    val = d1 + d2\n",
    "    print(f\"주사위 1의 값 = {d1}, 주사위 2의 값 = {d2}, 합 = {val}\")\n",
    "    if(val == 7):\n",
    "        print(\"승리했습니다.\")\n",
    "        break\n",
    "    else:\n",
    "        print(\"패배했습니다.\")\n",
    "\n"
   ]
  },
  {
   "cell_type": "markdown",
   "id": "e83cd838",
   "metadata": {},
   "source": [
    "### 숫자 맞추기 게임 프로그램\n",
    "* 1 ~ 100 사이의 난수를 만들고 사용자가 1 ~ 100 사이의 수를 입력하여 맞추는 프로그램. \n",
    "* 5회까지 맞추지 못하면 종료\n"
   ]
  },
  {
   "cell_type": "code",
   "execution_count": 31,
   "id": "941cb4f0",
   "metadata": {},
   "outputs": [
    {
     "name": "stdout",
     "output_type": "stream",
     "text": [
      "[1, 2, 3, 4, 5, 6, 7, 8, 9, 10, 11, 12, 13, 14, 15, 16, 17, 18, 19, 20, 21, 22, 23, 24, 25, 26, 27, 28, 29, 30, 31, 32, 33, 34, 35, 36, 37, 38, 39, 40, 41, 42, 43, 44, 45, 46, 47, 48, 49, 50, 51, 52, 53, 54, 55, 56, 57, 58, 59, 60, 61, 62, 63, 64, 65, 66, 67, 68, 69, 70, 71, 72, 73, 74, 75, 76, 77, 78, 79, 80, 81, 82, 83, 84, 85, 86, 87, 88, 89, 90, 91, 92, 93, 94, 95, 96, 97, 98, 99, 100]\n",
      "예상하는 값을 입력하세요.5\n",
      "생성된 난수의 값 = 13, 예상한 값 = 5\n",
      "패배했습니다.\n",
      "예상하는 값을 입력하세요.5\n",
      "생성된 난수의 값 = 59, 예상한 값 = 5\n",
      "패배했습니다.\n",
      "예상하는 값을 입력하세요.5\n",
      "생성된 난수의 값 = 80, 예상한 값 = 5\n",
      "패배했습니다.\n",
      "예상하는 값을 입력하세요.5\n",
      "생성된 난수의 값 = 93, 예상한 값 = 5\n",
      "패배했습니다.\n",
      "예상하는 값을 입력하세요.5\n",
      "생성된 난수의 값 = 3, 예상한 값 = 5\n",
      "패배했습니다.\n"
     ]
    }
   ],
   "source": [
    "import random\n",
    "\n",
    "nums = list(range(1, 101))\n",
    "print(nums)\n",
    "count = 0\n",
    "\n",
    "while (count < 5):\n",
    "    val = int(input(\"예상하는 값을 입력하세요.\"))\n",
    "    rand = random.choice(nums)\n",
    "    \n",
    "    print(f\"생성된 난수의 값 = {rand}, 예상한 값 = {val}\")\n",
    "    if(val == rand):\n",
    "        print(\"승리했습니다.\")\n",
    "        break\n",
    "    else:\n",
    "        print(\"패배했습니다.\")\n",
    "        count += 1\n",
    "\n",
    "\n"
   ]
  },
  {
   "cell_type": "markdown",
   "id": "cf0a39d9",
   "metadata": {},
   "source": [
    "### 다음과 같은 게임 프로그램을 작성하라.\n",
    "* 플레이어가 처음에 \\$50를 가지고 있다. \n",
    "* 동전을 한 번 던져서 앞면(1) 또는 뒷면(2)이 나온다. \n",
    "* 맞추면 \\$9를 따고 틀리면 \\$10를 잃는다. \n",
    "* 플레이어가 돈을 모두 잃거나 \\$100이 되면 게임이 종료된다.\n",
    "* 동전을 던져서 나오는 수는 다음 문장을 이용하라.\n",
    "* from random import randint\n",
    "* coin = randint(1,2)\n"
   ]
  },
  {
   "cell_type": "code",
   "execution_count": 66,
   "id": "ff75539b",
   "metadata": {},
   "outputs": [
    {
     "name": "stdout",
     "output_type": "stream",
     "text": [
      "예상하는 값을 입력하세요. (앞면 1, 뒷면 2) 현재 자본 $50 : 1\n",
      "생성된 난수의 값 = 1, 예상한 값 = 1\n",
      "승리했습니다.\n",
      "예상하는 값을 입력하세요. (앞면 1, 뒷면 2) 현재 자본 $59 : 2\n",
      "생성된 난수의 값 = 2, 예상한 값 = 2\n",
      "승리했습니다.\n",
      "예상하는 값을 입력하세요. (앞면 1, 뒷면 2) 현재 자본 $68 : 3\n",
      "생성된 난수의 값 = 2, 예상한 값 = 3\n",
      "패배했습니다.\n",
      "예상하는 값을 입력하세요. (앞면 1, 뒷면 2) 현재 자본 $58 : 1\n",
      "생성된 난수의 값 = 2, 예상한 값 = 1\n",
      "패배했습니다.\n",
      "예상하는 값을 입력하세요. (앞면 1, 뒷면 2) 현재 자본 $48 : 2\n",
      "생성된 난수의 값 = 1, 예상한 값 = 2\n",
      "패배했습니다.\n",
      "예상하는 값을 입력하세요. (앞면 1, 뒷면 2) 현재 자본 $38 : 1\n",
      "생성된 난수의 값 = 2, 예상한 값 = 1\n",
      "패배했습니다.\n",
      "예상하는 값을 입력하세요. (앞면 1, 뒷면 2) 현재 자본 $28 : 2\n",
      "생성된 난수의 값 = 1, 예상한 값 = 2\n",
      "패배했습니다.\n",
      "예상하는 값을 입력하세요. (앞면 1, 뒷면 2) 현재 자본 $18 : 1\n",
      "생성된 난수의 값 = 2, 예상한 값 = 1\n",
      "패배했습니다.\n",
      "예상하는 값을 입력하세요. (앞면 1, 뒷면 2) 현재 자본 $8 : 1\n",
      "생성된 난수의 값 = 1, 예상한 값 = 1\n",
      "승리했습니다.\n",
      "예상하는 값을 입력하세요. (앞면 1, 뒷면 2) 현재 자본 $17 : 1\n",
      "생성된 난수의 값 = 1, 예상한 값 = 1\n",
      "승리했습니다.\n",
      "예상하는 값을 입력하세요. (앞면 1, 뒷면 2) 현재 자본 $26 : 1\n",
      "생성된 난수의 값 = 2, 예상한 값 = 1\n",
      "패배했습니다.\n",
      "예상하는 값을 입력하세요. (앞면 1, 뒷면 2) 현재 자본 $16 : 3\n",
      "생성된 난수의 값 = 1, 예상한 값 = 3\n",
      "패배했습니다.\n",
      "예상하는 값을 입력하세요. (앞면 1, 뒷면 2) 현재 자본 $6 : 3\n",
      "생성된 난수의 값 = 2, 예상한 값 = 3\n",
      "패배했습니다.\n"
     ]
    }
   ],
   "source": [
    "from random import randint\n",
    "\n",
    "mine = 50\n",
    "\n",
    "\n",
    "while (0 < mine and mine < 100 ):\n",
    "    val = int(input(f\"예상하는 값을 입력하세요. (앞면 1, 뒷면 2) 현재 자본 ${mine} : \"))\n",
    "    coin = randint(1,2)\n",
    "    \n",
    "    print(f\"생성된 난수의 값 = {coin}, 예상한 값 = {val}\")\n",
    "    if(val == coin):\n",
    "        print(\"승리했습니다.\")\n",
    "        mine += 9\n",
    "    else:\n",
    "        print(\"패배했습니다.\")\n",
    "        mine -= 10\n",
    "\n"
   ]
  },
  {
   "cell_type": "markdown",
   "id": "b86e0fac",
   "metadata": {},
   "source": [
    "### 두 수의 최대 공약수는 두 수를 나누어 떨어지는 가장 큰 수이다. 예를 들어 (16, 24)의 최대 공약수는 8이다. 두 수를 입력 받아 다음 알고리즘에 의해 최대 공약수를 구하는 프로그램을 작성하라.\n",
    "* 큰 수를 작은 수로 나눈 나머지를 구하라\n",
    "* 큰 수를 작은 수로 대체하고 작은 수는 나머지로 대체하라\n",
    "* 작은 수가 0이 될 때까지 이 과정을 반목하라. 마지막 큰 수가 최대 공약수이다.\n"
   ]
  },
  {
   "cell_type": "code",
   "execution_count": 52,
   "id": "831cb479",
   "metadata": {},
   "outputs": [
    {
     "name": "stdout",
     "output_type": "stream",
     "text": [
      "첫 번째 수를 입력하세요24\n",
      "두 번째 수를 입력하세요16\n",
      "최대공약수 = 8\n"
     ]
    }
   ],
   "source": [
    "v1 = int(input(\"첫 번째 수를 입력하세요\"))\n",
    "v2 = int(input(\"두 번째 수를 입력하세요\"))\n",
    "maxv = 0\n",
    "minv = 0\n",
    "if(v1 < v2):\n",
    "    maxv = v2\n",
    "    minv = v1\n",
    "else:\n",
    "    maxv = v1\n",
    "    minv = v2\n",
    "\n",
    "while(0 < minv) :\n",
    "    mod = maxv % minv\n",
    "    maxv = minv\n",
    "    minv = mod\n",
    "    \n",
    "print(f\"최대공약수 = {maxv}\")\n"
   ]
  },
  {
   "cell_type": "markdown",
   "id": "4c3af85d",
   "metadata": {},
   "source": [
    "### 정수를 입력 받아 그 수의 약수를 모두 출력하는 프로그램을 작성하라\n",
    "* m % n = 0이면 n은 m의 약수이다. \n",
    "* 예를 들어 12의 약수는 1, 2, 3, 4, 6, 12이다. \n"
   ]
  },
  {
   "cell_type": "code",
   "execution_count": 57,
   "id": "dfa3dc8f",
   "metadata": {},
   "outputs": [
    {
     "name": "stdout",
     "output_type": "stream",
     "text": [
      "수를 입력하세요 : 2\n",
      "2의 약수는 1 2 입니다\n"
     ]
    }
   ],
   "source": [
    "v1 = int(input(\"수를 입력하세요 : \"))\n",
    "\n",
    "count = 0\n",
    "\n",
    "print(f\"{v1}의 약수는\", end=\" \")\n",
    "for i in range(1, v1 + 1):\n",
    "    if(v1 % i == 0):\n",
    "        print(i, end=\" \")\n",
    "        count += 1\n",
    "\n",
    "if(count != 0):\n",
    "    print(\"입니다\")\n",
    "else:\n",
    "    print(\"없습니다\")\n",
    "        "
   ]
  },
  {
   "cell_type": "markdown",
   "id": "94789654",
   "metadata": {},
   "source": [
    "### 반복문과 조건문을 사용해 점수를 계속 입력 받아 90점 이상이면 A, 80점 이상이면 B, 60점 이상이면 C, 40점 이상이면 D, 39점 이하이면 F라고 출력하는 프로그램을 작성하라. 입력 받는 점수가 음수일 때종료한다.\n"
   ]
  },
  {
   "cell_type": "code",
   "execution_count": 59,
   "id": "d8faaec2",
   "metadata": {},
   "outputs": [
    {
     "name": "stdout",
     "output_type": "stream",
     "text": [
      "점수를 입력하세요 : 100\n",
      "등급은 A 입니다.\n",
      "점수를 입력하세요 : 90\n",
      "등급은 A 입니다.\n",
      "점수를 입력하세요 : 80\n",
      "등급은 B 입니다.\n",
      "점수를 입력하세요 : 77\n",
      "등급은 C 입니다.\n",
      "점수를 입력하세요 : 66\n",
      "등급은 C 입니다.\n",
      "점수를 입력하세요 : 55\n",
      "등급은 D 입니다.\n",
      "점수를 입력하세요 : 44\n",
      "등급은 D 입니다.\n",
      "점수를 입력하세요 : 33\n",
      "등급은 F 입니다.\n",
      "점수를 입력하세요 : 0\n",
      "등급은 F 입니다.\n",
      "점수를 입력하세요 : -1\n",
      "등급은 F 입니다.\n"
     ]
    }
   ],
   "source": [
    "v1 = 0\n",
    "while(0 <= v1):\n",
    "    v1 = int(input(\"점수를 입력하세요 : \"))\n",
    "    grade = \"\"\n",
    "    \n",
    "    if (90 <= v1):\n",
    "        grade = \"A\"\n",
    "    elif (80 <= v1):\n",
    "        grade = \"B\"\n",
    "    elif (60 <= v1):\n",
    "        grade = \"C\"\n",
    "    elif (40 <= v1):\n",
    "        grade = \"D\"\n",
    "    else:\n",
    "        grade = \"F\"\n",
    "        \n",
    "    print(f\"등급은 {grade} 입니다.\")"
   ]
  },
  {
   "cell_type": "markdown",
   "id": "a3c90740",
   "metadata": {},
   "source": [
    "### 임의의 자연수 n이 입력되면 2부터 n까지의 모든 소수를 출력하는 프로그램. \n",
    "* 소수는 1과 자기자신으로만 나누어 떨어지는 수, 예 5, 7\n"
   ]
  },
  {
   "cell_type": "code",
   "execution_count": 65,
   "id": "ceecfff8",
   "metadata": {},
   "outputs": [
    {
     "name": "stdout",
     "output_type": "stream",
     "text": [
      "수를 입력하세요 : 98\n",
      "98의 소수는 [2, 3, 5, 7, 11, 13, 17, 19, 23, 29, 31, 37, 41, 43, 47, 53, 59, 61, 67, 71, 73, 79, 83, 89, 97] 입니다\n"
     ]
    }
   ],
   "source": [
    "v1 = int(input(\"수를 입력하세요 : \"))\n",
    "\n",
    "result = list()\n",
    "count = 0\n",
    "\n",
    "for i in range(1, v1 + 1):\n",
    "    # print(i)\n",
    "    vals = list()\n",
    "    for j in range(1, i):\n",
    "        if(i % j == 0):\n",
    "            vals.append(j)\n",
    "    # print(i, vals)\n",
    "    if(len(vals) == 1):\n",
    "        result.append(i)\n",
    "        \n",
    "print(f\"{v1}의 소수는 {result} 입니다\")"
   ]
  }
 ],
 "metadata": {
  "kernelspec": {
   "display_name": "Python 3 (ipykernel)",
   "language": "python",
   "name": "python3"
  },
  "language_info": {
   "codemirror_mode": {
    "name": "ipython",
    "version": 3
   },
   "file_extension": ".py",
   "mimetype": "text/x-python",
   "name": "python",
   "nbconvert_exporter": "python",
   "pygments_lexer": "ipython3",
   "version": "3.9.13"
  }
 },
 "nbformat": 4,
 "nbformat_minor": 5
}
